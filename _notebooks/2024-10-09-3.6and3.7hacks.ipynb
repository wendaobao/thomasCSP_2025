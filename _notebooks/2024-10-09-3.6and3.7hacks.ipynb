{
 "cells": [
  {
   "cell_type": "markdown",
   "metadata": {},
   "source": [
    "## 3.6.1 Popcorn Hack#1"
   ]
  },
  {
   "cell_type": "code",
   "execution_count": 1,
   "metadata": {},
   "outputs": [
    {
     "name": "stdout",
     "output_type": "stream",
     "text": [
      "It's a warm day\n"
     ]
    }
   ],
   "source": [
    "# Step 1: Add a variable that represents temperature\n",
    "temperature = 70  # You can change this value to test different conditions\n",
    "\n",
    "# Step 2: Check the temperature ranges\n",
    "if temperature >= 80:\n",
    "    print(\"It's a hot day\")\n",
    "elif temperature >= 60:  # Check if the temperature is between 60 and 79 degrees\n",
    "    print(\"It's a warm day\")\n",
    "else:  # Step 3: Otherwise, print it's a cold day\n",
    "    print(\"It's a cold day\")\n"
   ]
  },
  {
   "cell_type": "markdown",
   "metadata": {},
   "source": [
    "## Popcorn Hack #2: What if you wanted to add a message for scores of exactly 50? How would you modify the code?"
   ]
  },
  {
   "cell_type": "code",
   "execution_count": 5,
   "metadata": {
    "vscode": {
     "languageId": "javascript"
    }
   },
   "outputs": [
    {
     "data": {
      "text/html": [
       "let score = 50;\n",
       "\n",
       "if (score > 60) {\n",
       "    console.log(\"You passed!\");\n",
       "} else if (score === 50) {\n",
       "    console.log(\"Score is exactly 50!\");\n",
       "} else {\n",
       "    console.log(\"You failed!\");\n",
       "}\n"
      ],
      "text/plain": [
       "<IPython.core.display.HTML object>"
      ]
     },
     "metadata": {},
     "output_type": "display_data"
    }
   ],
   "source": [
    "%%html\n",
    "let score = 50;\n",
    "\n",
    "if (score > 60) {\n",
    "    console.log(\"You passed!\");\n",
    "} else if (score === 50) {\n",
    "    console.log(\"Score is exactly 50!\");\n",
    "} else {\n",
    "    console.log(\"You failed!\");\n",
    "}\n"
   ]
  },
  {
   "cell_type": "markdown",
   "metadata": {},
   "source": [
    "## Popcorn Hack #3\n",
    "How would you modify the code to include a message for scores between 60 and 69? What would you add?”\n",
    "\n"
   ]
  },
  {
   "cell_type": "code",
   "execution_count": 6,
   "metadata": {
    "vscode": {
     "languageId": "javascript"
    }
   },
   "outputs": [
    {
     "data": {
      "text/html": [
       "let score = 75;\n",
       "\n",
       "if (score >= 90) {\n",
       "    console.log(\"Grade: A\");\n",
       "} else if (score >= 80) {\n",
       "    console.log(\"Grade: B\");\n",
       "} else if (score >= 70) {\n",
       "    console.log(\"Grade: C\");\n",
       "} else if (score >= 60) {\n",
       "    console.log(\"Grade: D\");\n",
       "} else {\n",
       "    console.log(\"Grade: F\");\n",
       "}\n"
      ],
      "text/plain": [
       "<IPython.core.display.HTML object>"
      ]
     },
     "metadata": {},
     "output_type": "display_data"
    }
   ],
   "source": [
    "%%html\n",
    "let score = 75;\n",
    "\n",
    "if (score >= 90) {\n",
    "    console.log(\"Grade: A\");\n",
    "} else if (score >= 80) {\n",
    "    console.log(\"Grade: B\");\n",
    "} else if (score >= 70) {\n",
    "    console.log(\"Grade: C\");\n",
    "} else if (score >= 60) {\n",
    "    console.log(\"Grade: D\");\n",
    "} else {\n",
    "    console.log(\"Grade: F\");\n",
    "}"
   ]
  },
  {
   "cell_type": "markdown",
   "metadata": {},
   "source": [
    "## Hack 1: Odd or Even Checker"
   ]
  },
  {
   "cell_type": "code",
   "execution_count": 7,
   "metadata": {},
   "outputs": [
    {
     "name": "stdout",
     "output_type": "stream",
     "text": [
      "Even\n",
      "Odd\n",
      "Even\n"
     ]
    }
   ],
   "source": [
    "def check_odd_even(number):\n",
    "    if number % 2 == 0:\n",
    "        return \"Even\"\n",
    "    else:\n",
    "        return \"Odd\"\n",
    "\n",
    "# Test the function with different numbers\n",
    "print(check_odd_even(10))  # Output: Even\n",
    "print(check_odd_even(7))   # Output: Odd\n",
    "print(check_odd_even(0))   # Output: Even\n"
   ]
  },
  {
   "cell_type": "markdown",
   "metadata": {},
   "source": [
    "## Hack 2: Leap Year Checker"
   ]
  },
  {
   "cell_type": "code",
   "execution_count": 8,
   "metadata": {},
   "outputs": [
    {
     "name": "stdout",
     "output_type": "stream",
     "text": [
      "Leap Year\n",
      "Not a Leap Year\n",
      "Leap Year\n"
     ]
    }
   ],
   "source": [
    "def is_leap_year(year):\n",
    "    if (year % 4 == 0 and year % 100 != 0) or (year % 400 == 0):\n",
    "        return \"Leap Year\"\n",
    "    else:\n",
    "        return \"Not a Leap Year\"\n",
    "\n",
    "# Test the function with different years\n",
    "print(is_leap_year(2024))  # Output: Leap Year\n",
    "print(is_leap_year(1900))  # Output: Not a Leap Year\n",
    "print(is_leap_year(2000))  # Output: Leap Year"
   ]
  },
  {
   "cell_type": "markdown",
   "metadata": {},
   "source": [
    "## Hack 3: Temperature Range Checker"
   ]
  },
  {
   "cell_type": "code",
   "execution_count": 9,
   "metadata": {},
   "outputs": [
    {
     "name": "stdout",
     "output_type": "stream",
     "text": [
      "Cold\n",
      "Warm\n",
      "Hot\n",
      "Moderate\n"
     ]
    }
   ],
   "source": [
    "def temperature_range(temperature):\n",
    "    if temperature < 60:\n",
    "        return \"Cold\"\n",
    "    elif 60 <= temperature <= 80:\n",
    "        return \"Warm\"\n",
    "    elif temperature > 85:\n",
    "        return \"Hot\"\n",
    "    else:\n",
    "        return \"Moderate\"\n",
    "\n",
    "# Test the function with different temperatures\n",
    "print(temperature_range(55))  # Output: Cold\n",
    "print(temperature_range(75))  # Output: Warm\n",
    "print(temperature_range(90))  # Output: Hot\n",
    "print(temperature_range(82))  # Output: Moderate\n"
   ]
  },
  {
   "cell_type": "markdown",
   "metadata": {},
   "source": [
    "## Hack 1: Check Voting Eligibility"
   ]
  },
  {
   "cell_type": "code",
   "execution_count": 10,
   "metadata": {
    "vscode": {
     "languageId": "javascript"
    }
   },
   "outputs": [
    {
     "data": {
      "text/html": [
       "function checkVotingEligibility(age) {\n",
       "    if (age >= 18) {\n",
       "        return \"You are eligible to vote!\";\n",
       "    } else {\n",
       "        return \"You are not eligible to vote yet.\";\n",
       "    }\n",
       "}\n",
       "\n",
       "// Test the function with different age values\n",
       "console.log(checkVotingEligibility(20));  // Output: You are eligible to vote!\n",
       "console.log(checkVotingEligibility(16));  // Output: You are not eligible to vote yet.\n"
      ],
      "text/plain": [
       "<IPython.core.display.HTML object>"
      ]
     },
     "metadata": {},
     "output_type": "display_data"
    }
   ],
   "source": [
    "%%html\n",
    "function checkVotingEligibility(age) {\n",
    "    if (age >= 18) {\n",
    "        return \"You are eligible to vote!\";\n",
    "    } else {\n",
    "        return \"You are not eligible to vote yet.\";\n",
    "    }\n",
    "}\n",
    "\n",
    "// Test the function with different age values\n",
    "console.log(checkVotingEligibility(20));  // Output: You are eligible to vote!\n",
    "console.log(checkVotingEligibility(16));  // Output: You are not eligible to vote yet.\n"
   ]
  },
  {
   "cell_type": "markdown",
   "metadata": {},
   "source": [
    "## Hack 2: Grade Calculator"
   ]
  },
  {
   "cell_type": "code",
   "execution_count": 12,
   "metadata": {
    "vscode": {
     "languageId": "javascript"
    }
   },
   "outputs": [
    {
     "data": {
      "text/html": [
       "function getGrade(score) {\n",
       "    if (score >= 90) {\n",
       "        return \"Grade: A\";\n",
       "    } else if (score >= 80) {\n",
       "        return \"Grade: B\";\n",
       "    } else if (score >= 70) {\n",
       "        return \"Grade: C\";\n",
       "    } else {\n",
       "        return \"Grade: F\";\n",
       "    }\n",
       "}\n",
       "\n",
       "// Test the function with different scores\n",
       "console.log(getGrade(95));  // Output: Grade: A\n",
       "console.log(getGrade(85));  // Output: Grade: B\n",
       "console.log(getGrade(75));  // Output: Grade: C\n",
       "console.log(getGrade(65));  // Output: Grade: F\n"
      ],
      "text/plain": [
       "<IPython.core.display.HTML object>"
      ]
     },
     "metadata": {},
     "output_type": "display_data"
    }
   ],
   "source": [
    "%%html\n",
    "function getGrade(score) {\n",
    "    if (score >= 90) {\n",
    "        return \"Grade: A\";\n",
    "    } else if (score >= 80) {\n",
    "        return \"Grade: B\";\n",
    "    } else if (score >= 70) {\n",
    "        return \"Grade: C\";\n",
    "    } else {\n",
    "        return \"Grade: F\";\n",
    "    }\n",
    "}\n",
    "\n",
    "// Test the function with different scores\n",
    "console.log(getGrade(95));  // Output: Grade: A\n",
    "console.log(getGrade(85));  // Output: Grade: B\n",
    "console.log(getGrade(75));  // Output: Grade: C\n",
    "console.log(getGrade(65));  // Output: Grade: F\n"
   ]
  },
  {
   "cell_type": "markdown",
   "metadata": {},
   "source": [
    "## Hack 3: Temperature Converter"
   ]
  },
  {
   "cell_type": "code",
   "execution_count": 13,
   "metadata": {
    "vscode": {
     "languageId": "javascript"
    }
   },
   "outputs": [
    {
     "data": {
      "text/html": [
       "function convertTemperature(value, scale) {\n",
       "    if (scale === \"C\") {\n",
       "        // Convert Celsius to Fahrenheit\n",
       "        return (value * 9/5) + 32 + \"°F\";\n",
       "    } else if (scale === \"F\") {\n",
       "        // Convert Fahrenheit to Celsius\n",
       "        return (value - 32) * 5/9 + \"°C\";\n",
       "    } else {\n",
       "        return \"Error: Invalid scale. Use 'C' for Celsius or 'F' for Fahrenheit.\";\n",
       "    }\n",
       "}\n",
       "\n",
       "// Test the function with different values and scales\n",
       "console.log(convertTemperature(25, \"C\"));  // Output: 77°F\n",
       "console.log(convertTemperature(77, \"F\"));  // Output: 25°C\n",
       "console.log(convertTemperature(100, \"X\")); // Output: Error: Invalid scale. Use 'C' for Celsius or 'F' for Fahrenheit.\n"
      ],
      "text/plain": [
       "<IPython.core.display.HTML object>"
      ]
     },
     "metadata": {},
     "output_type": "display_data"
    }
   ],
   "source": [
    "%%html\n",
    "function convertTemperature(value, scale) {\n",
    "    if (scale === \"C\") {\n",
    "        // Convert Celsius to Fahrenheit\n",
    "        return (value * 9/5) + 32 + \"°F\";\n",
    "    } else if (scale === \"F\") {\n",
    "        // Convert Fahrenheit to Celsius\n",
    "        return (value - 32) * 5/9 + \"°C\";\n",
    "    } else {\n",
    "        return \"Error: Invalid scale. Use 'C' for Celsius or 'F' for Fahrenheit.\";\n",
    "    }\n",
    "}\n",
    "\n",
    "// Test the function with different values and scales\n",
    "console.log(convertTemperature(25, \"C\"));  // Output: 77°F\n",
    "console.log(convertTemperature(77, \"F\"));  // Output: 25°C\n",
    "console.log(convertTemperature(100, \"X\")); // Output: Error: Invalid scale. Use 'C' for Celsius or 'F' for Fahrenheit."
   ]
  },
  {
   "cell_type": "code",
   "execution_count": 14,
   "metadata": {},
   "outputs": [
    {
     "name": "stdout",
     "output_type": "stream",
     "text": [
      "The weather is sunny\n",
      "Your transportation is available\n",
      "Your boots are not present\n",
      "Location determined: yes\n",
      "Miles in the hike: 5\n",
      "You need to find your boots first.\n"
     ]
    }
   ],
   "source": [
    "weather = \"sunny\"\n",
    "transportation = \"available\"\n",
    "boots = \"not present\"\n",
    "location_determined = \"yes\"\n",
    "miles_in_the_hike = 5\n",
    "\n",
    "print(\"The weather is \" + weather)\n",
    "print(\"Your transportation is \" + transportation)\n",
    "print(\"Your boots are \" + boots)\n",
    "print(\"Location determined: \" + location_determined)\n",
    "print(\"Miles in the hike: \" + str(miles_in_the_hike))\n",
    "\n",
    "if weather == \"sunny\":\n",
    "    if transportation == \"available\":\n",
    "        if boots == \"present\":\n",
    "            if location_determined == \"yes\" and miles_in_the_hike > 0:\n",
    "                print(\"You are ready to go hiking!\")\n",
    "            else:\n",
    "                print(\"You need to finalize your hiking plans.\")\n",
    "        else:\n",
    "            print(\"You need to find your boots first.\")\n",
    "    else:\n",
    "        print(\"You need to arrange transportation.\")\n",
    "else:\n",
    "    print(\"It's not good weather for hiking.\")\n"
   ]
  },
  {
   "cell_type": "code",
   "execution_count": 15,
   "metadata": {
    "vscode": {
     "languageId": "javascript"
    }
   },
   "outputs": [
    {
     "data": {
      "text/html": [
       "let weather = \"sunny\";\n",
       "let transportation = \"available\";\n",
       "let boots = \"not present\";\n",
       "let location_determined = \"yes\";\n",
       "let miles_in_the_hike = 5;\n",
       "\n",
       "console.log(\"The weather is \" + weather);\n",
       "console.log(\"Your transportation is \" + transportation);\n",
       "console.log(\"Your boots are \" + boots);\n",
       "console.log(\"Location determined: \" + location_determined);\n",
       "console.log(\"Miles in the hike: \" + miles_in_the_hike);\n",
       "\n",
       "if (weather === \"sunny\") {\n",
       "    if (transportation === \"available\") {\n",
       "        if (boots === \"present\") {\n",
       "            if (location_determined === \"yes\" && miles_in_the_hike > 0) {\n",
       "                console.log(\"You are ready to go hiking!\");\n",
       "            } else {\n",
       "                console.log(\"You need to finalize your hiking plans.\");\n",
       "            }\n",
       "        } else {\n",
       "            console.log(\"You need to find your boots first.\");\n",
       "        }\n",
       "    } else {\n",
       "        console.log(\"You need to arrange transportation.\");\n",
       "    }\n",
       "} else {\n",
       "    console.log(\"It's not good weather for hiking.\");\n",
       "}\n"
      ],
      "text/plain": [
       "<IPython.core.display.HTML object>"
      ]
     },
     "metadata": {},
     "output_type": "display_data"
    }
   ],
   "source": [
    "%%html\n",
    "let weather = \"sunny\";\n",
    "let transportation = \"available\";\n",
    "let boots = \"not present\";\n",
    "let location_determined = \"yes\";\n",
    "let miles_in_the_hike = 5;\n",
    "\n",
    "console.log(\"The weather is \" + weather);\n",
    "console.log(\"Your transportation is \" + transportation);\n",
    "console.log(\"Your boots are \" + boots);\n",
    "console.log(\"Location determined: \" + location_determined);\n",
    "console.log(\"Miles in the hike: \" + miles_in_the_hike);\n",
    "\n",
    "if (weather === \"sunny\") {\n",
    "    if (transportation === \"available\") {\n",
    "        if (boots === \"present\") {\n",
    "            if (location_determined === \"yes\" && miles_in_the_hike > 0) {\n",
    "                console.log(\"You are ready to go hiking!\");\n",
    "            } else {\n",
    "                console.log(\"You need to finalize your hiking plans.\");\n",
    "            }\n",
    "        } else {\n",
    "            console.log(\"You need to find your boots first.\");\n",
    "        }\n",
    "    } else {\n",
    "        console.log(\"You need to arrange transportation.\");\n",
    "    }\n",
    "} else {\n",
    "    console.log(\"It's not good weather for hiking.\");\n",
    "}"
   ]
  },
  {
   "cell_type": "markdown",
   "metadata": {},
   "source": [
    "## Hack 1: Write Python pseudocode to decide whether or not to go to the beach."
   ]
  },
  {
   "cell_type": "code",
   "execution_count": 17,
   "metadata": {},
   "outputs": [
    {
     "name": "stdout",
     "output_type": "stream",
     "text": [
      "The weather is sunny\n",
      "Sunscreen status: present\n",
      "Snacks status: enough\n",
      "You are ready for the beach!\n"
     ]
    }
   ],
   "source": [
    "# Set the conditions\n",
    "weather = \"sunny\"  # Change to test different conditions\n",
    "sunscreen = \"present\"  # Change to \"not present\" to test\n",
    "snacks = \"enough\"  # Change to \"not enough\" to test\n",
    "\n",
    "# Print the current conditions\n",
    "print(\"The weather is \" + weather)\n",
    "print(\"Sunscreen status: \" + sunscreen)\n",
    "print(\"Snacks status: \" + snacks)\n",
    "\n",
    "# Decision logic\n",
    "if weather == \"sunny\":\n",
    "    if sunscreen == \"present\":\n",
    "        if snacks == \"enough\":\n",
    "            print(\"You are ready for the beach!\")\n",
    "        else:\n",
    "            print(\"You need to get snacks first.\")\n",
    "    else:\n",
    "        print(\"You need to buy sunscreen.\")\n",
    "else:\n",
    "    print(\"It's not a good day for the beach.\")\n"
   ]
  },
  {
   "cell_type": "markdown",
   "metadata": {},
   "source": [
    "## Hack 2: Write a Python code that checks if you can adopt a pet."
   ]
  },
  {
   "cell_type": "markdown",
   "metadata": {},
   "source": [
    "1. Set weather to \"sunny\" (or other values for testing)\n",
    "2. Set sunscreen to \"present\" (or \"not present\" for testing)\n",
    "3. Set snacks to \"enough\" (or \"not enough\" for testing)\n",
    "\n",
    "4. Print \"The weather is \" + weather\n",
    "5. Print \"Sunscreen status: \" + sunscreen\n",
    "6. Print \"Snacks status: \" + snacks\n",
    "\n",
    "7. If weather is \"sunny\":\n",
    "    8. If sunscreen is \"present\":\n",
    "        9. If snacks are \"enough\":\n",
    "            10. Print \"You are ready for the beach!\"\n",
    "        11. Else:\n",
    "            12. Print \"You need to get snacks first.\"\n",
    "    13. Else:\n",
    "        14. Print \"You need to buy sunscreen.\"\n",
    "15. Else:\n",
    "    16. Print \"It's not a good day for the beach.\"\n"
   ]
  },
  {
   "cell_type": "markdown",
   "metadata": {},
   "source": [
    "## Hack 3: Write Python code to determine whether or not to participate in a marathon."
   ]
  },
  {
   "cell_type": "code",
   "execution_count": 19,
   "metadata": {},
   "outputs": [
    {
     "name": "stdout",
     "output_type": "stream",
     "text": [
      "You are ready for the marathon!\n"
     ]
    }
   ],
   "source": [
    "# Set the conditions\n",
    "weather = \"clear\"  # Change to test different weather conditions\n",
    "running_shoes = \"present\"  # Change to \"not present\" to test shoe availability\n",
    "days_practiced = 12  # Change to test different practice days\n",
    "\n",
    "# Decision logic\n",
    "if weather == \"clear\":\n",
    "    if running_shoes == \"present\":\n",
    "        if days_practiced >= 10:\n",
    "            print(\"You are ready for the marathon!\")\n",
    "        else:\n",
    "            print(\"You need to practice more.\")\n",
    "    else:\n",
    "        print(\"You need to buy shoes first.\")\n",
    "else:\n",
    "    print(\"It's not the right time for the marathon.\")\n"
   ]
  },
  {
   "cell_type": "markdown",
   "metadata": {},
   "source": [
    "## Javascript Nested Conditionals Hacks Below\n",
    "Hack 1: Write Javascript pseudocode to decide whether or not to study for an exam."
   ]
  },
  {
   "cell_type": "code",
   "execution_count": 1,
   "metadata": {
    "vscode": {
     "languageId": "javascript"
    }
   },
   "outputs": [
    {
     "data": {
      "text/html": [
       "// Set the conditions\n",
       "let weather = \"clear\"; // Change to \"not clear\" to test weather conditions\n",
       "let tent = \"present\";   // Change to \"not present\" to test tent availability\n",
       "let foodAndWater = \"enough\"; // Change to \"not enough\" to test food and water supply\n",
       "\n",
       "// Print the current statuses\n",
       "console.log(\"Weather status: \" + weather);\n",
       "console.log(\"Tent status: \" + tent);\n",
       "console.log(\"Food and water status: \" + foodAndWater);\n",
       "\n",
       "// Decision logic\n",
       "if (weather === \"clear\") {\n",
       "    if (tent === \"present\") {\n",
       "        if (foodAndWater === \"enough\") {\n",
       "            console.log(\"You are ready to go camping!\");\n",
       "        } else {\n",
       "            console.log(\"You need to pack more food and water.\");\n",
       "        }\n",
       "    } else {\n",
       "        console.log(\"You need to buy or borrow a tent.\");\n",
       "    }\n",
       "} else {\n",
       "    console.log(\"It's not a good time for camping.\");\n",
       "}\n"
      ],
      "text/plain": [
       "<IPython.core.display.HTML object>"
      ]
     },
     "metadata": {},
     "output_type": "display_data"
    }
   ],
   "source": [
    "%%html\n",
    "// Set the conditions\n",
    "let weather = \"clear\"; // Change to \"not clear\" to test weather conditions\n",
    "let tent = \"present\";   // Change to \"not present\" to test tent availability\n",
    "let foodAndWater = \"enough\"; // Change to \"not enough\" to test food and water supply\n",
    "\n",
    "// Print the current statuses\n",
    "console.log(\"Weather status: \" + weather);\n",
    "console.log(\"Tent status: \" + tent);\n",
    "console.log(\"Food and water status: \" + foodAndWater);\n",
    "\n",
    "// Decision logic\n",
    "if (weather === \"clear\") {\n",
    "    if (tent === \"present\") {\n",
    "        if (foodAndWater === \"enough\") {\n",
    "            console.log(\"You are ready to go camping!\");\n",
    "        } else {\n",
    "            console.log(\"You need to pack more food and water.\");\n",
    "        }\n",
    "    } else {\n",
    "        console.log(\"You need to buy or borrow a tent.\");\n",
    "    }\n",
    "} else {\n",
    "    console.log(\"It's not a good time for camping.\");\n",
    "}\n"
   ]
  },
  {
   "cell_type": "markdown",
   "metadata": {},
   "source": []
  }
 ],
 "metadata": {
  "kernelspec": {
   "display_name": "venv",
   "language": "python",
   "name": "python3"
  },
  "language_info": {
   "codemirror_mode": {
    "name": "ipython",
    "version": 3
   },
   "file_extension": ".py",
   "mimetype": "text/x-python",
   "name": "python",
   "nbconvert_exporter": "python",
   "pygments_lexer": "ipython3",
   "version": "3.12.4"
  }
 },
 "nbformat": 4,
 "nbformat_minor": 2
}

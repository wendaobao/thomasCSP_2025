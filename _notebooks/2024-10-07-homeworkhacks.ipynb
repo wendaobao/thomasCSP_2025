{
 "cells": [
  {
   "cell_type": "markdown",
   "metadata": {},
   "source": [
    "## Popcorn Hack #1\n",
    "Check Number: Evaluates if number is less than 0. Output: Logs whether the number is negative or non-negative."
   ]
  },
  {
   "cell_type": "code",
   "execution_count": 1,
   "metadata": {},
   "outputs": [
    {
     "name": "stderr",
     "output_type": "stream",
     "text": [
      "INFO:root:The number is non-negative.\n"
     ]
    }
   ],
   "source": [
    "import logging\n",
    "\n",
    "# Set up logging\n",
    "logging.basicConfig(level=logging.INFO)\n",
    "\n",
    "def check_number():\n",
    "    try:\n",
    "        number = float(input(\"Please enter a number: \"))\n",
    "        if number < 0:\n",
    "            logging.info(\"The number is negative.\")\n",
    "        else:\n",
    "            logging.info(\"The number is non-negative.\")\n",
    "    except ValueError:\n",
    "        logging.error(\"Invalid input! Please enter a valid number.\")\n",
    "\n",
    "check_number()\n"
   ]
  },
  {
   "cell_type": "markdown",
   "metadata": {},
   "source": [
    "## Popcorn Hack #2\n",
    "Check Scores: Confirms if both scores are at least 70. Output: Prints if the student passed both subjects."
   ]
  },
  {
   "cell_type": "code",
   "execution_count": 2,
   "metadata": {},
   "outputs": [
    {
     "name": "stdout",
     "output_type": "stream",
     "text": [
      "The student did not pass both subjects.\n"
     ]
    }
   ],
   "source": [
    "def check_scores(score1, score2):\n",
    "    if score1 >= 70 and score2 >= 70:\n",
    "        print(\"The student passed both subjects.\")\n",
    "    else:\n",
    "        print(\"The student did not pass both subjects.\")\n",
    "\n",
    "def get_score(prompt):\n",
    "    while True:\n",
    "        try:\n",
    "            score = float(input(prompt))\n",
    "            return score\n",
    "        except ValueError:\n",
    "            print(\"Invalid input! Please enter a valid numerical score.\")\n",
    "\n",
    "score1 = get_score(\"Enter the first score: \")\n",
    "score2 = get_score(\"Enter the second score: \")\n",
    "\n",
    "check_scores(score1, score2)\n"
   ]
  },
  {
   "cell_type": "markdown",
   "metadata": {},
   "source": [
    "## Popcorn Hack #3\n",
    "Check Vowel: Checks if char is in the string ‘aeiou’. Output: Prints whether the character is a vowel or not.\n",
    "\n"
   ]
  },
  {
   "cell_type": "code",
   "execution_count": 3,
   "metadata": {},
   "outputs": [
    {
     "name": "stdout",
     "output_type": "stream",
     "text": [
      "The character 't' is not a vowel.\n"
     ]
    }
   ],
   "source": [
    "def check_vowel(char):\n",
    "    vowels = 'aeiou'\n",
    "    if char.lower() in vowels:\n",
    "        print(f\"The character '{char}' is a vowel.\")\n",
    "    else:\n",
    "        print(f\"The character '{char}' is not a vowel.\")\n",
    "\n",
    "char = input(\"Enter a character: \")\n",
    "\n",
    "if len(char) == 1 and char.isalpha():\n",
    "    check_vowel(char)\n",
    "else:\n",
    "    print(\"Please enter a single alphabetic character.\")\n"
   ]
  },
  {
   "cell_type": "markdown",
   "metadata": {},
   "source": [
    "## Homework hack Booleans\n",
    "- Create a Truth Table\n",
    "- Develop a truth table for a given logical expression.\n",
    "- Create a Game Using De Morgan’s Law\n",
    "- Design a simple game that uses De Morgan’s Law to simplify yes or no functions."
   ]
  },
  {
   "cell_type": "code",
   "execution_count": 4,
   "metadata": {},
   "outputs": [
    {
     "name": "stdout",
     "output_type": "stream",
     "text": [
      "A\tB\tC\t¬C\tB ∨ ¬C\tA ∧ (B ∨ ¬C)\n",
      "--------------------------------------------------\n",
      "True\tTrue\tTrue\tFalse\tTrue\tTrue\n",
      "True\tTrue\tFalse\tTrue\tTrue\tTrue\n",
      "True\tFalse\tTrue\tFalse\tFalse\tFalse\n",
      "True\tFalse\tFalse\tTrue\tTrue\tTrue\n",
      "False\tTrue\tTrue\tFalse\tTrue\tFalse\n",
      "False\tTrue\tFalse\tTrue\tTrue\tFalse\n",
      "False\tFalse\tTrue\tFalse\tFalse\tFalse\n",
      "False\tFalse\tFalse\tTrue\tTrue\tFalse\n"
     ]
    }
   ],
   "source": [
    "def create_truth_table():\n",
    "    print(\"A\\tB\\tC\\t¬C\\tB ∨ ¬C\\tA ∧ (B ∨ ¬C)\")\n",
    "    print(\"-\" * 50)\n",
    "    \n",
    "    # Iterate through all combinations of A, B, C\n",
    "    for A in [True, False]:\n",
    "        for B in [True, False]:\n",
    "            for C in [True, False]:\n",
    "                not_C = not C\n",
    "                B_or_not_C = B or not_C\n",
    "                result = A and B_or_not_C\n",
    "                print(f\"{A}\\t{B}\\t{C}\\t{not_C}\\t{B_or_not_C}\\t{result}\")\n",
    "\n",
    "create_truth_table()\n"
   ]
  },
  {
   "cell_type": "code",
   "execution_count": 5,
   "metadata": {},
   "outputs": [
    {
     "name": "stdout",
     "output_type": "stream",
     "text": [
      "Welcome to the De Morgan's Law Game!\n",
      "Statements:\n",
      "1. It is raining (A).\n",
      "2. It is cold (B).\n",
      "\n",
      "Based on De Morgan's Law, answer the following:\n",
      "Correct! Well done.\n",
      "Thanks for playing!\n"
     ]
    }
   ],
   "source": [
    "def de_morgan_game():\n",
    "    print(\"Welcome to the De Morgan's Law Game!\")\n",
    "    print(\"Statements:\")\n",
    "    print(\"1. It is raining (A).\")\n",
    "    print(\"2. It is cold (B).\")\n",
    "    \n",
    "    # Combined Statement: ¬(A ∧ B) = ¬A ∨ ¬B\n",
    "    print(\"\\nBased on De Morgan's Law, answer the following:\")\n",
    "    \n",
    "    answer = input(\"Is it true that 'It is not raining or it is not cold' (¬A ∨ ¬B)? (yes/no): \").strip().lower()\n",
    "    \n",
    "    # Determine the correct answer based on De Morgan's Law\n",
    "    correct_answer = \"yes\"\n",
    "    \n",
    "    if answer == correct_answer:\n",
    "        print(\"Correct! Well done.\")\n",
    "    else:\n",
    "        print(\"Incorrect. The correct answer is 'yes'.\")\n",
    "    \n",
    "    print(\"Thanks for playing!\")\n",
    "\n",
    "# Run the game\n",
    "de_morgan_game()\n"
   ]
  }
 ],
 "metadata": {
  "kernelspec": {
   "display_name": "venv",
   "language": "python",
   "name": "python3"
  },
  "language_info": {
   "codemirror_mode": {
    "name": "ipython",
    "version": 3
   },
   "file_extension": ".py",
   "mimetype": "text/x-python",
   "name": "python",
   "nbconvert_exporter": "python",
   "pygments_lexer": "ipython3",
   "version": "3.12.4"
  }
 },
 "nbformat": 4,
 "nbformat_minor": 2
}

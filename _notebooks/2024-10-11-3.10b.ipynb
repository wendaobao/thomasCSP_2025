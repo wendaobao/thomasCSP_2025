{
 "cells": [
  {
   "cell_type": "markdown",
   "metadata": {},
   "source": [
    "## 3.10 Javascript Hack"
   ]
  },
  {
   "cell_type": "markdown",
   "metadata": {},
   "source": [
    "## Problem #1: Basic Array Creation"
   ]
  },
  {
   "cell_type": "code",
   "execution_count": 1,
   "metadata": {
    "vscode": {
     "languageId": "javascript"
    }
   },
   "outputs": [
    {
     "data": {
      "text/html": [
       "// Create an array with 5 values\n",
       "let fruits = ['apple', 'banana', 'orange', 'grape', 'pear'];\n",
       "console.log(fruits);\n",
       "\n",
       "// Bonus: Reverse the array using reverse() hack\n",
       "console.log(fruits.reverse());\n"
      ],
      "text/plain": [
       "<IPython.core.display.HTML object>"
      ]
     },
     "metadata": {},
     "output_type": "display_data"
    }
   ],
   "source": [
    "%%html\n",
    "// Create an array with 5 values\n",
    "let fruits = ['apple', 'banana', 'orange', 'grape', 'pear'];\n",
    "console.log(fruits);\n",
    "\n",
    "// Bonus: Reverse the array using reverse() hack\n",
    "console.log(fruits.reverse());\n"
   ]
  },
  {
   "cell_type": "markdown",
   "metadata": {},
   "source": [
    "## Problem #2: Accessing Elements"
   ]
  },
  {
   "cell_type": "code",
   "execution_count": 2,
   "metadata": {
    "vscode": {
     "languageId": "javascript"
    }
   },
   "outputs": [
    {
     "data": {
      "text/html": [
       "// Given array of sports\n",
       "let sports = ['soccer', 'football', 'basketball', 'wrestling', 'swimming'];\n",
       "\n",
       "// Display \"soccer\" and \"wrestling\" using their indexes\n",
       "console.log(sports[0]);  // soccer\n",
       "console.log(sports[3]);  // wrestling\n"
      ],
      "text/plain": [
       "<IPython.core.display.HTML object>"
      ]
     },
     "metadata": {},
     "output_type": "display_data"
    }
   ],
   "source": [
    "%%html\n",
    "// Given array of sports\n",
    "let sports = ['soccer', 'football', 'basketball', 'wrestling', 'swimming'];\n",
    "\n",
    "// Display \"soccer\" and \"wrestling\" using their indexes\n",
    "console.log(sports[0]);  // soccer\n",
    "console.log(sports[3]);  // wrestling\n"
   ]
  },
  {
   "cell_type": "markdown",
   "metadata": {
    "vscode": {
     "languageId": "javascript"
    }
   },
   "source": [
    "## Problem #3: Adding and Removing Items\n"
   ]
  },
  {
   "cell_type": "code",
   "execution_count": 3,
   "metadata": {
    "vscode": {
     "languageId": "javascript"
    }
   },
   "outputs": [
    {
     "data": {
      "text/html": [
       "// Create an array called choresList\n",
       "let choresList = ['dishes', 'laundry', 'vacuuming', 'dusting'];\n",
       "\n",
       "// Add a new item at the end using push()\n",
       "choresList.push('take out trash');\n",
       "console.log(choresList);\n",
       "\n",
       "// Remove the first item using shift()\n",
       "choresList.shift();\n",
       "console.log(choresList);\n",
       "\n",
       "// Remove the last item using pop()\n",
       "choresList.pop();\n",
       "console.log(choresList);\n",
       "\n",
       "// Add a new item at the beginning using unshift()\n",
       "choresList.unshift('mop the floor');\n",
       "console.log(choresList);\n",
       "\n",
       "// Bonus: Use push() with spread operator to add multiple values\n",
       "choresList.push(...['organize closet', 'clean bathroom']);\n",
       "console.log(choresList);\n"
      ],
      "text/plain": [
       "<IPython.core.display.HTML object>"
      ]
     },
     "metadata": {},
     "output_type": "display_data"
    }
   ],
   "source": [
    "%%html\n",
    "// Create an array called choresList\n",
    "let choresList = ['dishes', 'laundry', 'vacuuming', 'dusting'];\n",
    "\n",
    "// Add a new item at the end using push()\n",
    "choresList.push('take out trash');\n",
    "console.log(choresList);\n",
    "\n",
    "// Remove the first item using shift()\n",
    "choresList.shift();\n",
    "console.log(choresList);\n",
    "\n",
    "// Remove the last item using pop()\n",
    "choresList.pop();\n",
    "console.log(choresList);\n",
    "\n",
    "// Add a new item at the beginning using unshift()\n",
    "choresList.unshift('mop the floor');\n",
    "console.log(choresList);\n",
    "\n",
    "// Bonus: Use push() with spread operator to add multiple values\n",
    "choresList.push(...['organize closet', 'clean bathroom']);\n",
    "console.log(choresList);\n"
   ]
  },
  {
   "cell_type": "markdown",
   "metadata": {
    "vscode": {
     "languageId": "javascript"
    }
   },
   "source": [
    "## Problem #4: Iteration and Conditionals"
   ]
  },
  {
   "cell_type": "code",
   "execution_count": 4,
   "metadata": {
    "vscode": {
     "languageId": "javascript"
    }
   },
   "outputs": [
    {
     "data": {
      "text/html": [
       "// Create an array with 10 random numbers\n",
       "let randomNumbers = [23, 44, 12, 67, 78, 99, 34, 55, 102, 9];\n",
       "\n",
       "// Function to count even numbers\n",
       "function countEvenNumbers(arr) {\n",
       "    let count = 0;\n",
       "    for (let num of arr) {\n",
       "        if (num % 2 === 0) {\n",
       "            count++;\n",
       "        }\n",
       "    }\n",
       "    return count;\n",
       "}\n",
       "\n",
       "// Display the count of even numbers\n",
       "console.log('Even numbers count:', countEvenNumbers(randomNumbers));\n"
      ],
      "text/plain": [
       "<IPython.core.display.HTML object>"
      ]
     },
     "metadata": {},
     "output_type": "display_data"
    }
   ],
   "source": [
    "%%html\n",
    "// Create an array with 10 random numbers\n",
    "let randomNumbers = [23, 44, 12, 67, 78, 99, 34, 55, 102, 9];\n",
    "\n",
    "// Function to count even numbers\n",
    "function countEvenNumbers(arr) {\n",
    "    let count = 0;\n",
    "    for (let num of arr) {\n",
    "        if (num % 2 === 0) {\n",
    "            count++;\n",
    "        }\n",
    "    }\n",
    "    return count;\n",
    "}\n",
    "\n",
    "// Display the count of even numbers\n",
    "console.log('Even numbers count:', countEvenNumbers(randomNumbers));\n"
   ]
  },
  {
   "cell_type": "markdown",
   "metadata": {},
   "source": [
    "## 3.10 Python Hacks"
   ]
  },
  {
   "cell_type": "markdown",
   "metadata": {
    "vscode": {
     "languageId": "javascript"
    }
   },
   "source": [
    "## Problem #1: Grocery List Management"
   ]
  },
  {
   "cell_type": "code",
   "execution_count": 5,
   "metadata": {},
   "outputs": [
    {
     "name": "stdout",
     "output_type": "stream",
     "text": [
      "Current grocery list: ['milk', 'bread', 'eggs']\n",
      "Sorted grocery list: ['bread', 'eggs', 'milk']\n",
      "Updated grocery list after removing bread: ['eggs', 'milk']\n"
     ]
    }
   ],
   "source": [
    "# Create an empty grocery list\n",
    "grocery_list = []\n",
    "\n",
    "# Input three grocery items\n",
    "grocery_list.extend(['milk', 'bread', 'eggs'])\n",
    "\n",
    "# Display the current grocery list\n",
    "print('Current grocery list:', grocery_list)\n",
    "\n",
    "# Sort the list alphabetically and print the sorted list\n",
    "grocery_list.sort()\n",
    "print('Sorted grocery list:', grocery_list)\n",
    "\n",
    "# Remove one specified item (e.g., 'bread') and display the updated list\n",
    "remove_item = 'bread'\n",
    "grocery_list.remove(remove_item)\n",
    "print(f'Updated grocery list after removing {remove_item}:', grocery_list)\n"
   ]
  },
  {
   "cell_type": "markdown",
   "metadata": {},
   "source": [
    "## Problem #2: Filtering Even Numbers"
   ]
  },
  {
   "cell_type": "code",
   "execution_count": 6,
   "metadata": {},
   "outputs": [
    {
     "name": "stdout",
     "output_type": "stream",
     "text": [
      "Original list: [1, 2, 3, 4, 5, 6, 7, 8, 9, 10, 11, 12, 13, 14, 15, 16, 17, 18, 19, 20]\n",
      "Even numbers: [2, 4, 6, 8, 10, 12, 14, 16, 18, 20]\n"
     ]
    }
   ],
   "source": [
    "# Create a list of integers from 1 to 20\n",
    "numbers = list(range(1, 21))\n",
    "\n",
    "# Print the original list\n",
    "print('Original list:', numbers)\n",
    "\n",
    "# Create a new list that contains only even numbers using list comprehension\n",
    "even_numbers = [num for num in numbers if num % 2 == 0]\n",
    "\n",
    "# Print the list of even numbers\n",
    "print('Even numbers:', even_numbers)\n"
   ]
  },
  {
   "cell_type": "markdown",
   "metadata": {},
   "source": [
    "## Problem #3: Managing Student Grades"
   ]
  },
  {
   "cell_type": "code",
   "execution_count": 7,
   "metadata": {},
   "outputs": [
    {
     "name": "stdout",
     "output_type": "stream",
     "text": [
      "List of grades: [85, 92, 58]\n",
      "Passing grades: [85, 92]\n"
     ]
    }
   ],
   "source": [
    "# Create an empty list to store student grades\n",
    "grades = []\n",
    "\n",
    "# Input three grades (as integers)\n",
    "grades.extend([85, 92, 58])\n",
    "\n",
    "# Print the list of grades\n",
    "print('List of grades:', grades)\n",
    "\n",
    "# Create a new list that contains only grades above 60\n",
    "passing_grades = [grade for grade in grades if grade > 60]\n",
    "\n",
    "# Print the list of passing grades\n",
    "print('Passing grades:', passing_grades)"
   ]
  },
  {
   "cell_type": "markdown",
   "metadata": {},
   "source": [
    "## Problem #4: Number List Operations"
   ]
  },
  {
   "cell_type": "code",
   "execution_count": 8,
   "metadata": {},
   "outputs": [
    {
     "name": "stdout",
     "output_type": "stream",
     "text": [
      "Original list: [1, 2, 3, 4, 5, 6, 7, 8, 9, 10]\n",
      "List sorted in descending order: [10, 9, 8, 7, 6, 5, 4, 3, 2, 1]\n",
      "First five numbers: [10, 9, 8, 7, 6]\n",
      "List sorted in ascending order: [1, 2, 3, 4, 5, 6, 7, 8, 9, 10]\n"
     ]
    }
   ],
   "source": [
    "# Create a list of numbers from 1 to 10\n",
    "num_list = list(range(1, 11))\n",
    "\n",
    "# Print the original list\n",
    "print('Original list:', num_list)\n",
    "\n",
    "# Sort the list in descending order\n",
    "num_list.sort(reverse=True)\n",
    "print('List sorted in descending order:', num_list)\n",
    "\n",
    "# Slice the list to get the first five numbers and print them\n",
    "first_five = num_list[:5]\n",
    "print('First five numbers:', first_five)\n",
    "\n",
    "# Sort the list again in ascending order\n",
    "num_list.sort()\n",
    "print('List sorted in ascending order:', num_list)\n"
   ]
  },
  {
   "cell_type": "code",
   "execution_count": null,
   "metadata": {},
   "outputs": [],
   "source": []
  }
 ],
 "metadata": {
  "kernelspec": {
   "display_name": "venv",
   "language": "python",
   "name": "python3"
  },
  "language_info": {
   "codemirror_mode": {
    "name": "ipython",
    "version": 3
   },
   "file_extension": ".py",
   "mimetype": "text/x-python",
   "name": "python",
   "nbconvert_exporter": "python",
   "pygments_lexer": "ipython3",
   "version": "3.12.4"
  }
 },
 "nbformat": 4,
 "nbformat_minor": 2
}

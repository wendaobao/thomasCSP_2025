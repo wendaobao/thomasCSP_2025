{
 "cells": [
  {
   "cell_type": "markdown",
   "metadata": {},
   "source": [
    "## Popcorn Hack: Team Variables\n",
    "\n",
    "Popcorn\tMake your own variables for members of your team, but follow naming convention for Python"
   ]
  },
  {
   "cell_type": "code",
   "execution_count": 5,
   "metadata": {},
   "outputs": [
    {
     "name": "stdout",
     "output_type": "stream",
     "text": [
      "Ian Collin Thomas Aarush\n"
     ]
    }
   ],
   "source": [
    "groupmemberOne = \"Thomas\"\n",
    "groupmemberTwo = \"Ian\"\n",
    "GroupMemberThree = \"Collin\"\n",
    "groupMemberFour = \"Aarush\"\n",
    "\n",
    "# All three variables are different. Programming languages are sensitive to snake_case, upper case, etc.\n",
    "print(groupmemberTwo, GroupMemberThree, groupmemberOne ,groupMemberFour)\n"
   ]
  },
  {
   "cell_type": "markdown",
   "metadata": {},
   "source": [
    "## Popcorn Hack: Fruit dictionary\n",
    "\n",
    "Popcorn Hack: Make a dictionary about fruits!"
   ]
  },
  {
   "cell_type": "code",
   "execution_count": 6,
   "metadata": {},
   "outputs": [
    {
     "name": "stdout",
     "output_type": "stream",
     "text": [
      "{'apple': {'color': 'red', 'average_weight_grams': 182, 'taste': 'sweet'}, 'banana': {'color': 'yellow', 'average_weight_grams': 118, 'taste': 'sweet'}, 'orange': {'color': 'orange', 'average_weight_grams': 131, 'taste': 'citrus'}, 'grape': {'color': 'purple', 'average_weight_grams': 5, 'taste': 'sweet'}, 'lemon': {'color': 'yellow', 'average_weight_grams': 65, 'taste': 'sour'}}\n"
     ]
    }
   ],
   "source": [
    "fruits = {\n",
    "    \"apple\": {\n",
    "        \"color\": \"red\",\n",
    "        \"average_weight_grams\": 182,\n",
    "        \"taste\": \"sweet\"\n",
    "    },\n",
    "    \"banana\": {\n",
    "        \"color\": \"yellow\",\n",
    "        \"average_weight_grams\": 118,\n",
    "        \"taste\": \"sweet\"\n",
    "    },\n",
    "    \"orange\": {\n",
    "        \"color\": \"orange\",\n",
    "        \"average_weight_grams\": 131,\n",
    "        \"taste\": \"citrus\"\n",
    "    },\n",
    "    \"grape\": {\n",
    "        \"color\": \"purple\",\n",
    "        \"average_weight_grams\": 5,\n",
    "        \"taste\": \"sweet\"\n",
    "    },\n",
    "    \"lemon\": {\n",
    "        \"color\": \"yellow\",\n",
    "        \"average_weight_grams\": 65,\n",
    "        \"taste\": \"sour\"\n",
    "    }\n",
    "}\n",
    "\n",
    "# Print the dictionary\n",
    "print(fruits)\n"
   ]
  },
  {
   "cell_type": "markdown",
   "metadata": {},
   "source": [
    "## Popcorn Hack : Array\n",
    "Popcorn Hack: create your own array using two or more diffrent data types we throughout the lesson!"
   ]
  },
  {
   "cell_type": "code",
   "execution_count": 15,
   "metadata": {
    "vscode": {
     "languageId": "javascript"
    }
   },
   "outputs": [
    {
     "data": {
      "text/html": [
       "let mixedArray = [\n",
       "    \"Alice\",        // string\n",
       "    25,             // number\n",
       "    true,          // boolean\n",
       "    3.14,           // number (float)\n",
       "    \"Developer\",    // string\n",
       "    42,             // number\n",
       "    false           // boolean\n",
       "];\n",
       "\n",
       "// Print the array\n",
       "console.log(mixedArray);\n"
      ],
      "text/plain": [
       "<IPython.core.display.HTML object>"
      ]
     },
     "metadata": {},
     "output_type": "display_data"
    }
   ],
   "source": [
    "%%html\n",
    "let mixedArray = [\n",
    "    \"Alice\",        // string\n",
    "    25,             // number\n",
    "    true,          // boolean\n",
    "    3.14,           // number (float)\n",
    "    \"Developer\",    // string\n",
    "    42,             // number\n",
    "    false           // boolean\n",
    "];\n",
    "\n",
    "// Print the array\n",
    "console.log(mixedArray);\n"
   ]
  },
  {
   "cell_type": "markdown",
   "metadata": {},
   "source": [
    "## Popcorn Hack#7"
   ]
  },
  {
   "cell_type": "code",
   "execution_count": 18,
   "metadata": {
    "vscode": {
     "languageId": "javascript"
    }
   },
   "outputs": [
    {
     "data": {
      "text/html": [
       "// Sample lyrics of \"Twinkle Twinkle Little Star\"\n",
       "const lyrics = `\n",
       "Twinkle, twinkle, little star,\n",
       "How I wonder what you are!\n",
       "Up above the world so high,\n",
       "Like a diamond in the sky.\n",
       "Twinkle, twinkle, little star,\n",
       "How I wonder what you are!\n",
       "`;\n",
       "\n",
       "// Task 1: Find how many times the title appears in the lyrics\n",
       "const title = \"Twinkle, twinkle, little star\";\n",
       "const titleCount = (lyrics.match(new RegExp(title, \"g\")) || []).length;\n",
       "console.log(`The title \"${title}\" appears ${titleCount} times in the lyrics.`);\n",
       "\n",
       "// Task 2: Find the index of the 50th word\n",
       "const words = lyrics.split(/\\s+/); // Split lyrics into words\n",
       "const indexOf50thWord = words[49] ? lyrics.indexOf(words[49]) : -1; // 50th word is at index 49\n",
       "console.log(`The index of the 50th word is: ${indexOf50thWord}`);\n",
       "\n",
       "// Task 3: Replace the first verse with the last verse\n",
       "const verses = lyrics.trim().split('\\n'); // Split lyrics into verses\n",
       "if (verses.length > 1) {\n",
       "    const firstVerse = verses[0];\n",
       "    const lastVerse = verses[verses.length - 1];\n",
       "    lyrics = lyrics.replace(firstVerse, lastVerse); // Replace first verse with last verse\n",
       "}\n",
       "\n",
       "// Defining two verses\n",
       "const verse1 = \"Twinkle, twinkle, little star, How I wonder what you are!\";\n",
       "const verse2 = \"Up above the world so high, Like a diamond in the sky.\";\n",
       "\n",
       "// Concatenating the two verses to create a new song\n",
       "const myNewSong = `${verse1}\\n${verse2}`; // Using template literals for multiline\n",
       "\n",
       "// Displaying the new song\n",
       "console.log(\"My New Song:\\n\", myNewSong);\n",
       "\n",
       "console.log(\"Updated Lyrics:\\n\", lyrics);\n"
      ],
      "text/plain": [
       "<IPython.core.display.HTML object>"
      ]
     },
     "metadata": {},
     "output_type": "display_data"
    }
   ],
   "source": [
    "%%html\n",
    "// Sample lyrics of \"Twinkle Twinkle Little Star\"\n",
    "const lyrics = `\n",
    "Twinkle, twinkle, little star,\n",
    "How I wonder what you are!\n",
    "Up above the world so high,\n",
    "Like a diamond in the sky.\n",
    "Twinkle, twinkle, little star,\n",
    "How I wonder what you are!\n",
    "`;\n",
    "\n",
    "// Task 1: Find how many times the title appears in the lyrics\n",
    "const title = \"Twinkle, twinkle, little star\";\n",
    "const titleCount = (lyrics.match(new RegExp(title, \"g\")) || []).length;\n",
    "console.log(`The title \"${title}\" appears ${titleCount} times in the lyrics.`);\n",
    "\n",
    "// Task 2: Find the index of the 50th word\n",
    "const words = lyrics.split(/\\s+/); // Split lyrics into words\n",
    "const indexOf50thWord = words[49] ? lyrics.indexOf(words[49]) : -1; // 50th word is at index 49\n",
    "console.log(`The index of the 50th word is: ${indexOf50thWord}`);\n",
    "\n",
    "// Task 3: Replace the first verse with the last verse\n",
    "const verses = lyrics.trim().split('\\n'); // Split lyrics into verses\n",
    "if (verses.length > 1) {\n",
    "    const firstVerse = verses[0];\n",
    "    const lastVerse = verses[verses.length - 1];\n",
    "    lyrics = lyrics.replace(firstVerse, lastVerse); // Replace first verse with last verse\n",
    "}\n",
    "\n",
    "// Defining two verses\n",
    "const verse1 = \"Twinkle, twinkle, little star, How I wonder what you are!\";\n",
    "const verse2 = \"Up above the world so high, Like a diamond in the sky.\";\n",
    "\n",
    "// Concatenating the two verses to create a new song\n",
    "const myNewSong = `${verse1}\\n${verse2}`; // Using template literals for multiline\n",
    "\n",
    "// Displaying the new song\n",
    "console.log(\"My New Song:\\n\", myNewSong);\n",
    "\n",
    "console.log(\"Updated Lyrics:\\n\", lyrics);\n"
   ]
  },
  {
   "cell_type": "markdown",
   "metadata": {
    "vscode": {
     "languageId": "javascript"
    }
   },
   "source": [
    "## Popcorn Hack#8 "
   ]
  },
  {
   "cell_type": "code",
   "execution_count": 16,
   "metadata": {
    "vscode": {
     "languageId": "javascript"
    }
   },
   "outputs": [
    {
     "data": {
      "text/html": [
       "// Concatenating a flower with an animal\n",
       "const flower = \"Rose\";\n",
       "const animal = \"Tiger\";\n",
       "const newCreature = `${flower}${animal}`; // Using template literals\n",
       "\n",
       "// Displaying the new creature with quotes and backticks\n",
       "console.log(`The new creature is called: \"${newCreature}\"`);\n",
       "\n",
       "// Story about the new creature\n",
       "const creatureName = newCreature;\n",
       "const story = `\n",
       "Once upon a time in a mystical forest, there lived a creature called '${creatureName}'. \n",
       "It had the vibrant petals of a ${flower} and the fierce spirit of a ${animal}.\n",
       "\n",
       "One sunny day, ${creatureName} met a curious squirrel. The squirrel said, \"Wow, ${creatureName}, \n",
       "you are the most beautiful creature I've ever seen! How do you stay so colorful?\"\n",
       "\n",
       "${creatureName} replied, \"I bloom bright like a ${flower} because I bring joy to this forest. \n",
       "But watch out, my stripes can be fierce like a ${animal} if anyone disturbs my peace!\"\n",
       "\n",
       "The squirrel, fascinated, squeaked back, \"Let's be friends! Together, we can protect this forest and \n",
       "make it even more beautiful.\"\n",
       "\n",
       "And so, ${creatureName} and the squirrel became the guardians of the forest, spreading happiness and \n",
       "color wherever they went.\n",
       "`;\n",
       "\n",
       "// Displaying the story\n",
       "console.log(story);\n"
      ],
      "text/plain": [
       "<IPython.core.display.HTML object>"
      ]
     },
     "metadata": {},
     "output_type": "display_data"
    }
   ],
   "source": [
    "%%html\n",
    "// Concatenating a flower with an animal\n",
    "const flower = \"Rose\";\n",
    "const animal = \"Tiger\";\n",
    "const newCreature = `${flower}${animal}`; // Using template literals\n",
    "\n",
    "// Displaying the new creature with quotes and backticks\n",
    "console.log(`The new creature is called: \"${newCreature}\"`);\n",
    "\n",
    "// Story about the new creature\n",
    "const creatureName = newCreature;\n",
    "const story = `\n",
    "Once upon a time in a mystical forest, there lived a creature called '${creatureName}'. \n",
    "It had the vibrant petals of a ${flower} and the fierce spirit of a ${animal}.\n",
    "\n",
    "One sunny day, ${creatureName} met a curious squirrel. The squirrel said, \"Wow, ${creatureName}, \n",
    "you are the most beautiful creature I've ever seen! How do you stay so colorful?\"\n",
    "\n",
    "${creatureName} replied, \"I bloom bright like a ${flower} because I bring joy to this forest. \n",
    "But watch out, my stripes can be fierce like a ${animal} if anyone disturbs my peace!\"\n",
    "\n",
    "The squirrel, fascinated, squeaked back, \"Let's be friends! Together, we can protect this forest and \n",
    "make it even more beautiful.\"\n",
    "\n",
    "And so, ${creatureName} and the squirrel became the guardians of the forest, spreading happiness and \n",
    "color wherever they went.\n",
    "`;\n",
    "\n",
    "// Displaying the story\n",
    "console.log(story);\n"
   ]
  },
  {
   "cell_type": "markdown",
   "metadata": {
    "vscode": {
     "languageId": "javascript"
    }
   },
   "source": [
    "## Main Hack#1"
   ]
  },
  {
   "cell_type": "code",
   "execution_count": 19,
   "metadata": {
    "vscode": {
     "languageId": "javascript"
    }
   },
   "outputs": [
    {
     "data": {
      "text/html": [
       "// Hack #1: Variable Declaration\n",
       "\n",
       "// Declaring variables using let and const\n",
       "let animalType = \"Dog\";       // String: type of animal\n",
       "const animalSound = \"Bark\";   // String: sound the animal makes\n",
       "let ownerName = \"Alice\";      // String: owner's name\n",
       "let age = 5;                  // Number: age of the animal\n",
       "\n",
       "// Function to create a sentence about the animal\n",
       "function createAnimalDescription() {\n",
       "    // Combining variables to make a descriptive sentence\n",
       "    let description = `${ownerName} has a ${age}-year-old ${animalType} that goes \"${animalSound}\"!`;\n",
       "    \n",
       "    // Returning the constructed sentence\n",
       "    return description;\n",
       "}\n",
       "\n",
       "// Console.log statements to view the values of the variables\n",
       "console.log(\"Animal Type:\", animalType);        // Logging animal type\n",
       "console.log(\"Animal Sound:\", animalSound);      // Logging animal sound\n",
       "console.log(\"Owner Name:\", ownerName);          // Logging owner's name\n",
       "console.log(\"Age of Animal:\", age);              // Logging age of the animal\n",
       "\n",
       "// Calling the function and logging the result\n",
       "console.log(createAnimalDescription());          // Logging the complete sentence\n"
      ],
      "text/plain": [
       "<IPython.core.display.HTML object>"
      ]
     },
     "metadata": {},
     "output_type": "display_data"
    }
   ],
   "source": [
    "%%html\n",
    "// Hack #1: Variable Declaration\n",
    "\n",
    "// Declaring variables using let and const\n",
    "let animalType = \"Dog\";       // String: type of animal\n",
    "const animalSound = \"Bark\";   // String: sound the animal makes\n",
    "let ownerName = \"Alice\";      // String: owner's name\n",
    "let age = 5;                  // Number: age of the animal\n",
    "\n",
    "// Function to create a sentence about the animal\n",
    "function createAnimalDescription() {\n",
    "    // Combining variables to make a descriptive sentence\n",
    "    let description = `${ownerName} has a ${age}-year-old ${animalType} that goes \"${animalSound}\"!`;\n",
    "    \n",
    "    // Returning the constructed sentence\n",
    "    return description;\n",
    "}\n",
    "\n",
    "// Console.log statements to view the values of the variables\n",
    "console.log(\"Animal Type:\", animalType);        // Logging animal type\n",
    "console.log(\"Animal Sound:\", animalSound);      // Logging animal sound\n",
    "console.log(\"Owner Name:\", ownerName);          // Logging owner's name\n",
    "console.log(\"Age of Animal:\", age);              // Logging age of the animal\n",
    "\n",
    "// Calling the function and logging the result\n",
    "console.log(createAnimalDescription());          // Logging the complete sentence\n"
   ]
  },
  {
   "cell_type": "markdown",
   "metadata": {
    "vscode": {
     "languageId": "javascript"
    }
   },
   "source": [
    "## Main Hack#2"
   ]
  },
  {
   "cell_type": "code",
   "execution_count": 20,
   "metadata": {
    "vscode": {
     "languageId": "javascript"
    }
   },
   "outputs": [
    {
     "data": {
      "text/html": [
       "// Hack #2: Average Grade Calculator\n",
       "\n",
       "// Step 1: Declare scores as variables\n",
       "let score1 = 85; // First test score\n",
       "let score2 = 90; // Second test score\n",
       "let score3 = 78; // Third test score\n",
       "let score4 = 92; // Fourth test score\n",
       "\n",
       "// Step 2: Function to calculate the average score\n",
       "function calculateAverage(scores) {\n",
       "    // Sum all scores\n",
       "    let total = 0;\n",
       "    for (let score of scores) {\n",
       "        total += score; // Add each score to total\n",
       "    }\n",
       "    // Calculate average\n",
       "    return total / scores.length; // Return average\n",
       "}\n",
       "\n",
       "// Step 3: Create an array of student info\n",
       "let studentInfo = [\n",
       "    {\n",
       "        name: \"Alice\",\n",
       "        age: 20,\n",
       "        averageGrade: calculateAverage([score1, score2, score3, score4]) // Calculate average grade\n",
       "    },\n",
       "    {\n",
       "        name: \"Bob\",\n",
       "        age: 21,\n",
       "        averageGrade: calculateAverage([80, 85, 90, 88]) // Another student's average\n",
       "    }\n",
       "];\n",
       "\n",
       "// Step 4: Log student information with average grades\n",
       "console.log(\"Student Information and Average Grades:\");\n",
       "for (let student of studentInfo) {\n",
       "    console.log(`Name: ${student.name}, Age: ${student.age}, Average Grade: ${student.averageGrade.toFixed(2)}`);\n",
       "}\n"
      ],
      "text/plain": [
       "<IPython.core.display.HTML object>"
      ]
     },
     "metadata": {},
     "output_type": "display_data"
    }
   ],
   "source": [
    "%%html\n",
    "// Hack #2: Average Grade Calculator\n",
    "\n",
    "// Step 1: Declare scores as variables\n",
    "let score1 = 85; // First test score\n",
    "let score2 = 90; // Second test score\n",
    "let score3 = 78; // Third test score\n",
    "let score4 = 92; // Fourth test score\n",
    "\n",
    "// Step 2: Function to calculate the average score\n",
    "function calculateAverage(scores) {\n",
    "    // Sum all scores\n",
    "    let total = 0;\n",
    "    for (let score of scores) {\n",
    "        total += score; // Add each score to total\n",
    "    }\n",
    "    // Calculate average\n",
    "    return total / scores.length; // Return average\n",
    "}\n",
    "\n",
    "// Step 3: Create an array of student info\n",
    "let studentInfo = [\n",
    "    {\n",
    "        name: \"Alice\",\n",
    "        age: 20,\n",
    "        averageGrade: calculateAverage([score1, score2, score3, score4]) // Calculate average grade\n",
    "    },\n",
    "    {\n",
    "        name: \"Bob\",\n",
    "        age: 21,\n",
    "        averageGrade: calculateAverage([80, 85, 90, 88]) // Another student's average\n",
    "    }\n",
    "];\n",
    "\n",
    "// Step 4: Log student information with average grades\n",
    "console.log(\"Student Information and Average Grades:\");\n",
    "for (let student of studentInfo) {\n",
    "    console.log(`Name: ${student.name}, Age: ${student.age}, Average Grade: ${student.averageGrade.toFixed(2)}`);\n",
    "}\n"
   ]
  },
  {
   "cell_type": "markdown",
   "metadata": {
    "vscode": {
     "languageId": "javascript"
    }
   },
   "source": [
    "## Main String Hack #3"
   ]
  },
  {
   "cell_type": "code",
   "execution_count": 21,
   "metadata": {
    "vscode": {
     "languageId": "javascript"
    }
   },
   "outputs": [
    {
     "data": {
      "text/html": [
       "// Text Analyzer in JavaScript\n",
       "\n",
       "// Function to analyze the input string\n",
       "function textAnalyzer() {\n",
       "    // Step 1: Get input from the user\n",
       "    const inputString = prompt(\"Enter a sentence or multiple words:\");\n",
       "\n",
       "    // Step 2: Display original string\n",
       "    console.log(\"Original String:\", inputString);\n",
       "\n",
       "    // Step 3: Count total characters (including spaces)\n",
       "    const totalCharacters = inputString.length;\n",
       "    console.log(\"Total Characters (including spaces):\", totalCharacters);\n",
       "\n",
       "    // Step 4: Find the longest word\n",
       "    const words = inputString.split(/\\s+/);\n",
       "    let longestWord = \"\";\n",
       "    for (let word of words) {\n",
       "        if (word.length > longestWord.length) {\n",
       "            longestWord = word;\n",
       "        }\n",
       "    }\n",
       "    console.log(\"Longest Word:\", longestWord, \"with\", longestWord.length, \"characters.\");\n",
       "\n",
       "    // Step 5: Display the string reversed\n",
       "    const reversedString = inputString.split('').reverse().join('');\n",
       "    console.log(\"Reversed String:\", reversedString);\n",
       "\n",
       "    // Step 6: Find the middle word or character\n",
       "    const filteredString = inputString.replace(/[^a-zA-Z0-9 ]/g, ''); // Remove special characters\n",
       "    const midIndex = Math.floor(filteredString.length / 2);\n",
       "    const middleChar = filteredString[midIndex];\n",
       "    const middleWord = words[Math.floor(words.length / 2)];\n",
       "    console.log(\"Middle Character:\", middleChar);\n",
       "    console.log(\"Middle Word:\", middleWord);\n",
       "\n",
       "    // Bonus: Replace a word in the original string\n",
       "    const wordToReplace = prompt(\"Enter the word you want to replace:\");\n",
       "    const newWord = prompt(\"Enter the new word:\");\n",
       "    const updatedString = inputString.replace(new RegExp(wordToReplace, 'g'), newWord);\n",
       "    console.log(\"Updated String:\", updatedString);\n",
       "}\n",
       "\n",
       "// Call the text analyzer function\n",
       "textAnalyzer();\n"
      ],
      "text/plain": [
       "<IPython.core.display.HTML object>"
      ]
     },
     "metadata": {},
     "output_type": "display_data"
    }
   ],
   "source": [
    "%%html\n",
    "// Text Analyzer in JavaScript\n",
    "\n",
    "// Function to analyze the input string\n",
    "function textAnalyzer() {\n",
    "    // Step 1: Get input from the user\n",
    "    const inputString = prompt(\"Enter a sentence or multiple words:\");\n",
    "\n",
    "    // Step 2: Display original string\n",
    "    console.log(\"Original String:\", inputString);\n",
    "\n",
    "    // Step 3: Count total characters (including spaces)\n",
    "    const totalCharacters = inputString.length;\n",
    "    console.log(\"Total Characters (including spaces):\", totalCharacters);\n",
    "\n",
    "    // Step 4: Find the longest word\n",
    "    const words = inputString.split(/\\s+/);\n",
    "    let longestWord = \"\";\n",
    "    for (let word of words) {\n",
    "        if (word.length > longestWord.length) {\n",
    "            longestWord = word;\n",
    "        }\n",
    "    }\n",
    "    console.log(\"Longest Word:\", longestWord, \"with\", longestWord.length, \"characters.\");\n",
    "\n",
    "    // Step 5: Display the string reversed\n",
    "    const reversedString = inputString.split('').reverse().join('');\n",
    "    console.log(\"Reversed String:\", reversedString);\n",
    "\n",
    "    // Step 6: Find the middle word or character\n",
    "    const filteredString = inputString.replace(/[^a-zA-Z0-9 ]/g, ''); // Remove special characters\n",
    "    const midIndex = Math.floor(filteredString.length / 2);\n",
    "    const middleChar = filteredString[midIndex];\n",
    "    const middleWord = words[Math.floor(words.length / 2)];\n",
    "    console.log(\"Middle Character:\", middleChar);\n",
    "    console.log(\"Middle Word:\", middleWord);\n",
    "\n",
    "    // Bonus: Replace a word in the original string\n",
    "    const wordToReplace = prompt(\"Enter the word you want to replace:\");\n",
    "    const newWord = prompt(\"Enter the new word:\");\n",
    "    const updatedString = inputString.replace(new RegExp(wordToReplace, 'g'), newWord);\n",
    "    console.log(\"Updated String:\", updatedString);\n",
    "}\n",
    "\n",
    "// Call the text analyzer function\n",
    "textAnalyzer();\n"
   ]
  },
  {
   "cell_type": "markdown",
   "metadata": {},
   "source": [
    "## Python Version"
   ]
  },
  {
   "cell_type": "code",
   "execution_count": 23,
   "metadata": {},
   "outputs": [
    {
     "name": "stdout",
     "output_type": "stream",
     "text": [
      "Original String: I love python\n",
      "Total Characters (including spaces): 13\n",
      "Longest Word: python with 6 characters.\n",
      "Reversed String: nohtyp evol I\n",
      "Middle Character:  \n",
      "Middle Word: love\n",
      "Updated String: I love javascript\n"
     ]
    }
   ],
   "source": [
    "# Text Analyzer in Python\n",
    "\n",
    "# Function to analyze the input string\n",
    "def text_analyzer():\n",
    "    # Step 1: Get input from the user\n",
    "    input_string = input(\"Enter a sentence or multiple words: \")\n",
    "\n",
    "    # Step 2: Display original string\n",
    "    print(\"Original String:\", input_string)\n",
    "\n",
    "    # Step 3: Count total characters (including spaces)\n",
    "    total_characters = len(input_string)\n",
    "    print(\"Total Characters (including spaces):\", total_characters)\n",
    "\n",
    "    # Step 4: Find the longest word\n",
    "    words = input_string.split()\n",
    "    longest_word = max(words, key=len)  # Using max() to find the longest word\n",
    "    print(\"Longest Word:\", longest_word, \"with\", len(longest_word), \"characters.\")\n",
    "\n",
    "    # Step 5: Display the string reversed\n",
    "    reversed_string = input_string[::-1]\n",
    "    print(\"Reversed String:\", reversed_string)\n",
    "\n",
    "    # Step 6: Find the middle word or character\n",
    "    filtered_string = ''.join(char for char in input_string if char.isalnum() or char.isspace())  # Remove special characters\n",
    "    mid_index = len(filtered_string) // 2\n",
    "    middle_char = filtered_string[mid_index]\n",
    "    middle_word = words[len(words) // 2] if words else \"\"\n",
    "    print(\"Middle Character:\", middle_char)\n",
    "    print(\"Middle Word:\", middle_word)\n",
    "\n",
    "    # Bonus: Replace a word in the original string\n",
    "    word_to_replace = input(\"Enter the word you want to replace: \")\n",
    "    new_word = input(\"Enter the new word: \")\n",
    "    updated_string = input_string.replace(word_to_replace, new_word)\n",
    "    print(\"Updated String:\", updated_string)\n",
    "\n",
    "# Call the text analyzer function\n",
    "text_analyzer()\n"
   ]
  }
 ],
 "metadata": {
  "kernelspec": {
   "display_name": "venv",
   "language": "python",
   "name": "python3"
  },
  "language_info": {
   "codemirror_mode": {
    "name": "ipython",
    "version": 3
   },
   "file_extension": ".py",
   "mimetype": "text/x-python",
   "name": "python",
   "nbconvert_exporter": "python",
   "pygments_lexer": "ipython3",
   "version": "3.12.4"
  }
 },
 "nbformat": 4,
 "nbformat_minor": 2
}

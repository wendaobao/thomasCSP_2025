{
 "cells": [
  {
   "cell_type": "markdown",
   "metadata": {},
   "source": [
    "## 3.6.1 Popcorn Hack#1"
   ]
  },
  {
   "cell_type": "code",
   "execution_count": 1,
   "metadata": {},
   "outputs": [
    {
     "name": "stdout",
     "output_type": "stream",
     "text": [
      "It's a warm day\n"
     ]
    }
   ],
   "source": [
    "# Step 1: Add a variable that represents temperature\n",
    "temperature = 70  # You can change this value to test different conditions\n",
    "\n",
    "# Step 2: Check the temperature ranges\n",
    "if temperature >= 80:\n",
    "    print(\"It's a hot day\")\n",
    "elif temperature >= 60:  # Check if the temperature is between 60 and 79 degrees\n",
    "    print(\"It's a warm day\")\n",
    "else:  # Step 3: Otherwise, print it's a cold day\n",
    "    print(\"It's a cold day\")\n"
   ]
  },
  {
   "cell_type": "markdown",
   "metadata": {},
   "source": [
    "## Popcorn Hack#2"
   ]
  },
  {
   "cell_type": "code",
   "execution_count": 2,
   "metadata": {},
   "outputs": [
    {
     "name": "stdout",
     "output_type": "stream",
     "text": [
      "Login successful! You are now logged in.\n"
     ]
    }
   ],
   "source": [
    "# Step 1: Create a variable called is_logged_in\n",
    "is_logged_in = False  # You can change this to True to test the other condition\n",
    "\n",
    "# Step 2: Create a variable to check for a successful login attempt\n",
    "login_attempt_successful = True  # Change this to False to test the other condition\n",
    "\n",
    "# Step 3: Check if the user is logged in\n",
    "if is_logged_in:\n",
    "    print(\"Welcome back!\")  # User is already logged in\n",
    "elif login_attempt_successful:\n",
    "    print(\"Login successful! You are now logged in.\")  # Successful login attempt\n",
    "else:\n",
    "    print(\"Please log in.\")  # User is not logged in\n"
   ]
  },
  {
   "cell_type": "markdown",
   "metadata": {},
   "source": [
    "## Popcorn Hack#3"
   ]
  },
  {
   "cell_type": "code",
   "execution_count": 3,
   "metadata": {},
   "outputs": [
    {
     "name": "stdout",
     "output_type": "stream",
     "text": [
      "Person 1's age: 79\n",
      "Person 2's age: 96\n",
      "Person 1 is younger than Person 2.\n",
      "Person 1 is not a minor.\n",
      "Person 2 is not a minor.\n"
     ]
    }
   ],
   "source": [
    "import random\n",
    "\n",
    "def randomize_ages():\n",
    "    # Step 1: Randomize ages between 1 and 100\n",
    "    age1 = random.randint(1, 100)\n",
    "    age2 = random.randint(1, 100)\n",
    "    \n",
    "    # Step 2: Print the values of the ages\n",
    "    print(f\"Person 1's age: {age1}\")\n",
    "    print(f\"Person 2's age: {age2}\")\n",
    "    \n",
    "    # Step 3: Print the relationship of the ages\n",
    "    if age1 > age2:\n",
    "        print(\"Person 1 is older than Person 2.\")\n",
    "    elif age1 < age2:\n",
    "        print(\"Person 1 is younger than Person 2.\")\n",
    "    else:\n",
    "        print(\"Person 1 is the same age as Person 2.\")\n",
    "\n",
    "    # Step 4: Check if either person is a minor\n",
    "    if age1 < 18:\n",
    "        print(\"Person 1 is a minor.\")\n",
    "    else:\n",
    "        print(\"Person 1 is not a minor.\")\n",
    "        \n",
    "    if age2 < 18:\n",
    "        print(\"Person 2 is a minor.\")\n",
    "    else:\n",
    "        print(\"Person 2 is not a minor.\")\n",
    "\n",
    "# Call the function\n",
    "randomize_ages()\n"
   ]
  },
  {
   "cell_type": "code",
   "execution_count": 4,
   "metadata": {},
   "outputs": [
    {
     "name": "stdout",
     "output_type": "stream",
     "text": [
      "Initial set: {1, 2, 3, 4, 5}\n",
      "After adding 6: {1, 2, 3, 4, 5, 6}\n",
      "After removing 2: {1, 3, 4, 5, 6}\n",
      "Union with {7, 8, 9}: {1, 3, 4, 5, 6, 7, 8, 9}\n",
      "After clearing the set: set()\n",
      "Set with duplicates (automatically removes duplicates): {1, 2, 3, 4}\n",
      "Length of the set with duplicates: 4\n"
     ]
    }
   ],
   "source": [
    "# Step 1: Create a Set\n",
    "my_set = {1, 2, 3, 4, 5}\n",
    "print(\"Initial set:\", my_set)\n",
    "\n",
    "# Step 2: Add an Element\n",
    "my_set.add(6)\n",
    "print(\"After adding 6:\", my_set)\n",
    "\n",
    "# Step 3: Remove an Element\n",
    "my_set.remove(2)\n",
    "print(\"After removing 2:\", my_set)\n",
    "\n",
    "# Step 4: Union of Sets\n",
    "another_set = {7, 8, 9}\n",
    "union_set = my_set.union(another_set)\n",
    "print(\"Union with {7, 8, 9}:\", union_set)\n",
    "\n",
    "# Step 5: Clear the Set\n",
    "my_set.clear()\n",
    "print(\"After clearing the set:\", my_set)\n",
    "\n",
    "# Bonus: Create a set with duplicates\n",
    "duplicate_set = {1, 2, 2, 3, 3, 4}\n",
    "print(\"Set with duplicates (automatically removes duplicates):\", duplicate_set)\n",
    "\n",
    "# Find the length with len()\n",
    "length_of_duplicate_set = len(duplicate_set)\n",
    "print(\"Length of the set with duplicates:\", length_of_duplicate_set)\n"
   ]
  }
 ],
 "metadata": {
  "kernelspec": {
   "display_name": "venv",
   "language": "python",
   "name": "python3"
  },
  "language_info": {
   "codemirror_mode": {
    "name": "ipython",
    "version": 3
   },
   "file_extension": ".py",
   "mimetype": "text/x-python",
   "name": "python",
   "nbconvert_exporter": "python",
   "pygments_lexer": "ipython3",
   "version": "3.12.4"
  }
 },
 "nbformat": 4,
 "nbformat_minor": 2
}

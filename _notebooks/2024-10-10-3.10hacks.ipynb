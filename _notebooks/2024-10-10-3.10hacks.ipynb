{
 "cells": [
  {
   "cell_type": "markdown",
   "metadata": {},
   "source": [
    "## 3.10 Hacks"
   ]
  },
  {
   "cell_type": "markdown",
   "metadata": {},
   "source": [
    "## Popcorn Hack"
   ]
  },
  {
   "cell_type": "code",
   "execution_count": 2,
   "metadata": {},
   "outputs": [
    {
     "name": "stdout",
     "output_type": "stream",
     "text": [
      "\n",
      "Items in the list:\n",
      "macbook, iphone, airpods, Iwatch, imac\n"
     ]
    }
   ],
   "source": [
    "# Initialize an empty list\n",
    "a_list = []\n",
    "\n",
    "# Use a while loop to continuously get user input\n",
    "while True:\n",
    "    user_input = input(\"Enter an item (or type 'done' to finish): \")\n",
    "    if user_input.lower() == 'done':\n",
    "        break\n",
    "    a_list.append(user_input)\n",
    "\n",
    "# Use a for loop to print each item in the list\n",
    "print(\"\\nItems in the list:\")\n",
    "for item in a_list:\n",
    "    print(item)\n"
   ]
  },
  {
   "cell_type": "markdown",
   "metadata": {},
   "source": [
    "## Exercise: Build a Shopping List with JavaScript"
   ]
  },
  {
   "cell_type": "code",
   "execution_count": 3,
   "metadata": {
    "vscode": {
     "languageId": "javascript"
    }
   },
   "outputs": [
    {
     "data": {
      "text/html": [
       "// Set up the array\n",
       "let aList = [];\n",
       "\n",
       "// User input\n",
       "while (true) {\n",
       "    let userInput = prompt(\"Enter an item to add to the shopping list (type 'q' to quit):\");\n",
       "    \n",
       "    // Check if the user wants to quit\n",
       "    if (userInput.toLowerCase() === 'q') {\n",
       "        break;\n",
       "    }\n",
       "\n",
       "    // Append items to the list\n",
       "    aList.push(userInput);\n",
       "\n",
       "    // Display the current shopping list\n",
       "    console.log(\"Current Shopping List: \", aList);\n",
       "}\n",
       "\n",
       "// Final display\n",
       "console.log(\"\\nFinal Shopping List:\");\n",
       "for (let i = 0; i < aList.length; i++) {\n",
       "    console.log(aList[i]);\n",
       "}\n"
      ],
      "text/plain": [
       "<IPython.core.display.HTML object>"
      ]
     },
     "metadata": {},
     "output_type": "display_data"
    }
   ],
   "source": [
    "%%html\n",
    "// Set up the array\n",
    "let aList = [];\n",
    "\n",
    "// User input\n",
    "while (true) {\n",
    "    let userInput = prompt(\"Enter an item to add to the shopping list (type 'q' to quit):\");\n",
    "    \n",
    "    // Check if the user wants to quit\n",
    "    if (userInput.toLowerCase() === 'q') {\n",
    "        break;\n",
    "    }\n",
    "\n",
    "    // Append items to the list\n",
    "    aList.push(userInput);\n",
    "\n",
    "    // Display the current shopping list\n",
    "    console.log(\"Current Shopping List: \", aList);\n",
    "}\n",
    "\n",
    "// Final display\n",
    "console.log(\"\\nFinal Shopping List:\");\n",
    "for (let i = 0; i < aList.length; i++) {\n",
    "    console.log(aList[i]);\n",
    "}"
   ]
  },
  {
   "cell_type": "markdown",
   "metadata": {},
   "source": [
    "## Popcorn Hack: Accessing and Deleting Elements"
   ]
  },
  {
   "cell_type": "code",
   "execution_count": 4,
   "metadata": {},
   "outputs": [
    {
     "name": "stdout",
     "output_type": "stream",
     "text": [
      "The second element in the list is: cheese\n",
      "Updated list after deleting the second element: ['apples', 'skibidi', '']\n"
     ]
    }
   ],
   "source": [
    "# Create a list named aList\n",
    "aList = []\n",
    "\n",
    "# Input items into the list\n",
    "while True:\n",
    "    user_input = input(\"Enter an item to add to the list (type 'q' to quit): \")\n",
    "    \n",
    "    # Check if the user wants to quit\n",
    "    if user_input.lower() == 'q':\n",
    "        break\n",
    "\n",
    "    # Append items to the list\n",
    "    aList.append(user_input)\n",
    "\n",
    "# Display the second element if it exists\n",
    "if len(aList) >= 2:\n",
    "    print(\"The second element in the list is:\", aList[1])\n",
    "else:\n",
    "    print(\"There is no second element in the list.\")\n",
    "\n",
    "# Delete the second element if it exists\n",
    "if len(aList) >= 2:\n",
    "    del aList[1]  # Removes the second element\n",
    "    print(\"Updated list after deleting the second element:\", aList)\n",
    "else:\n",
    "    print(\"No element was deleted as there is no second element.\")\n"
   ]
  },
  {
   "cell_type": "markdown",
   "metadata": {},
   "source": [
    "## Popcorn Hack: Assigning Values to a List and Finding Its Length"
   ]
  },
  {
   "cell_type": "code",
   "execution_count": 5,
   "metadata": {},
   "outputs": [
    {
     "name": "stdout",
     "output_type": "stream",
     "text": [
      "Total number of items in the list: 7\n"
     ]
    }
   ],
   "source": [
    "# Create a list of five favorite foods\n",
    "favorite_foods = [\"Pizza\", \"Sushi\", \"Tacos\", \"Ice Cream\", \"Pasta\"]\n",
    "\n",
    "# Add two more items to the list\n",
    "favorite_foods.append(\"Burgers\")  # First additional item\n",
    "favorite_foods.append(\"Salad\")    # Second additional item\n",
    "\n",
    "# Find and print the total number of items in the list\n",
    "total_items = len(favorite_foods)\n",
    "print(\"Total number of items in the list:\", total_items)\n"
   ]
  },
  {
   "cell_type": "markdown",
   "metadata": {},
   "source": [
    "## Popcorn Hack: Find the sum of all the even numbers of a list called nums with integers using the previous.\n"
   ]
  },
  {
   "cell_type": "code",
   "execution_count": 7,
   "metadata": {},
   "outputs": [
    {
     "name": "stdout",
     "output_type": "stream",
     "text": [
      "The sum of all even numbers in the list is: 60\n"
     ]
    }
   ],
   "source": [
    "# Define a list of integers\n",
    "nums = [10, 6969, 20, 5, 30, 15, 9]\n",
    "\n",
    "# Variable to represent the sum of even numbers\n",
    "even_sum = 0\n",
    "\n",
    "# Iterate through the list to find and sum even numbers\n",
    "for num in nums:\n",
    "    if num % 2 == 0:  # Check if the number is even\n",
    "        even_sum += num  # Add the even number to the sum\n",
    "\n",
    "# Print the sum of all even numbers in the list\n",
    "print(\"The sum of all even numbers in the list is:\", even_sum)\n"
   ]
  },
  {
   "cell_type": "markdown",
   "metadata": {},
   "source": [
    "## Hack: Define your list and define a variable to represent a potential value."
   ]
  },
  {
   "cell_type": "code",
   "execution_count": 8,
   "metadata": {
    "vscode": {
     "languageId": "javascript"
    }
   },
   "outputs": [
    {
     "data": {
      "text/html": [
       "// Define a list (array) of integers\n",
       "let nums = [5, 12, 7, 4, 9, 18, 21, 30];\n",
       "\n",
       "// Define a variable to represent a potential value\n",
       "let potentialValue = 18;\n",
       "\n",
       "// Check if the potential value exists in the array\n",
       "if (nums.includes(potentialValue)) {\n",
       "    console.log(`${potentialValue} exists in the array.`);\n",
       "} else {\n",
       "    console.log(`${potentialValue} does not exist in the array.`);\n",
       "}\n"
      ],
      "text/plain": [
       "<IPython.core.display.HTML object>"
      ]
     },
     "metadata": {},
     "output_type": "display_data"
    }
   ],
   "source": [
    "%%html\n",
    "// Define a list (array) of integers\n",
    "let nums = [5, 12, 7, 4, 9, 18, 21, 30];\n",
    "\n",
    "// Define a variable to represent a potential value\n",
    "let potentialValue = 18;\n",
    "\n",
    "// Check if the potential value exists in the array\n",
    "if (nums.includes(potentialValue)) {\n",
    "    console.log(`${potentialValue} exists in the array.`);\n",
    "} else {\n",
    "    console.log(`${potentialValue} does not exist in the array.`);\n",
    "}\n"
   ]
  },
  {
   "cell_type": "markdown",
   "metadata": {},
   "source": [
    "## Popcorn Hack: Look for the element “banana” in the list “fruits” using If Else Statements\n"
   ]
  },
  {
   "cell_type": "code",
   "execution_count": 9,
   "metadata": {},
   "outputs": [
    {
     "name": "stdout",
     "output_type": "stream",
     "text": [
      "Banana is present in the list.\n"
     ]
    }
   ],
   "source": [
    "# Define a list of fruits\n",
    "fruits = [\"apple\", \"orange\", \"banana\", \"grape\", \"mango\"]\n",
    "\n",
    "# Check if \"banana\" exists in the list\n",
    "if \"banana\" in fruits:\n",
    "    print(\"Banana is present in the list.\")\n",
    "else:\n",
    "    print(\"Banana is not present in the list.\")\n"
   ]
  },
  {
   "cell_type": "markdown",
   "metadata": {},
   "source": [
    "## Homework Hack"
   ]
  },
  {
   "cell_type": "markdown",
   "metadata": {},
   "source": [
    "Homework Hack#1"
   ]
  },
  {
   "cell_type": "code",
   "execution_count": 10,
   "metadata": {},
   "outputs": [
    {
     "name": "stdout",
     "output_type": "stream",
     "text": [
      "The second element in the list is: 20\n"
     ]
    }
   ],
   "source": [
    "# Create a list of numbers\n",
    "numbers = [10, 20, 30, 40, 50]\n",
    "\n",
    "# Print the second element in the list\n",
    "print(\"The second element in the list is:\", numbers[1])\n"
   ]
  },
  {
   "cell_type": "markdown",
   "metadata": {},
   "source": [
    "Homework Hack#2"
   ]
  },
  {
   "cell_type": "code",
   "execution_count": 1,
   "metadata": {},
   "outputs": [
    {
     "name": "stdout",
     "output_type": "stream",
     "text": [
      "\n",
      "To-Do List Menu:\n",
      "1. Add an item\n",
      "2. Remove an item\n",
      "3. View items\n",
      "4. Quit\n",
      "Invalid choice, please try again.\n",
      "\n",
      "To-Do List Menu:\n",
      "1. Add an item\n",
      "2. Remove an item\n",
      "3. View items\n",
      "4. Quit\n",
      "Added: \"keys\" to the to-do list.\n",
      "\n",
      "To-Do List Menu:\n",
      "1. Add an item\n",
      "2. Remove an item\n",
      "3. View items\n",
      "4. Quit\n",
      "Invalid choice, please try again.\n",
      "\n",
      "To-Do List Menu:\n",
      "1. Add an item\n",
      "2. Remove an item\n",
      "3. View items\n",
      "4. Quit\n",
      "Invalid choice, please try again.\n",
      "\n",
      "To-Do List Menu:\n",
      "1. Add an item\n",
      "2. Remove an item\n",
      "3. View items\n",
      "4. Quit\n",
      "Goodbye!\n"
     ]
    }
   ],
   "source": [
    "# Initialize an empty to-do list\n",
    "todo_list = []\n",
    "\n",
    "def show_menu():\n",
    "    print(\"\\nTo-Do List Menu:\")\n",
    "    print(\"1. Add an item\")\n",
    "    print(\"2. Remove an item\")\n",
    "    print(\"3. View items\")\n",
    "    print(\"4. Quit\")\n",
    "\n",
    "while True:\n",
    "    show_menu()\n",
    "    choice = input(\"Choose an option (1-4): \")\n",
    "    \n",
    "    if choice == '1':\n",
    "        item = input(\"Enter the item to add: \")\n",
    "        todo_list.append(item)\n",
    "        print(f'Added: \"{item}\" to the to-do list.')\n",
    "        \n",
    "    elif choice == '2':\n",
    "        item = input(\"Enter the item to remove: \")\n",
    "        if item in todo_list:\n",
    "            todo_list.remove(item)\n",
    "            print(f'Removed: \"{item}\" from the to-do list.')\n",
    "        else:\n",
    "            print(f'\"{item}\" not found in the to-do list.')\n",
    "            \n",
    "    elif choice == '3':\n",
    "        print(\"\\nTo-Do List Items:\")\n",
    "        for i, item in enumerate(todo_list, start=1):\n",
    "            print(f\"{i}. {item}\")\n",
    "            \n",
    "    elif choice == '4':\n",
    "        print(\"Goodbye!\")\n",
    "        break\n",
    "        \n",
    "    else:\n",
    "        print(\"Invalid choice, please try again.\")\n"
   ]
  },
  {
   "cell_type": "markdown",
   "metadata": {},
   "source": [
    "Homework Hack#3"
   ]
  },
  {
   "cell_type": "code",
   "execution_count": 2,
   "metadata": {
    "vscode": {
     "languageId": "javascript"
    }
   },
   "outputs": [
    {
     "data": {
      "text/html": [
       "// Create an array of numbers\n",
       "let numbers = [10, 20, 30, 40, 50];\n",
       "\n",
       "// Log the second element in the array to the console\n",
       "console.log(\"The second element in the array is:\", numbers[1]);\n"
      ],
      "text/plain": [
       "<IPython.core.display.HTML object>"
      ]
     },
     "metadata": {},
     "output_type": "display_data"
    }
   ],
   "source": [
    "%%html\n",
    "// Create an array of numbers\n",
    "let numbers = [10, 20, 30, 40, 50];\n",
    "\n",
    "// Log the second element in the array to the console\n",
    "console.log(\"The second element in the array is:\", numbers[1]);"
   ]
  },
  {
   "cell_type": "markdown",
   "metadata": {},
   "source": [
    "Homework Hack#4"
   ]
  },
  {
   "cell_type": "code",
   "execution_count": 3,
   "metadata": {
    "vscode": {
     "languageId": "javascript"
    }
   },
   "outputs": [
    {
     "data": {
      "text/html": [
       "// Initialize an empty workout tracker array\n",
       "let workoutTracker = [];\n",
       "\n",
       "// Function to log a workout\n",
       "function logWorkout(type, duration, calories) {\n",
       "    workoutTracker.push({ type, duration, calories });\n",
       "    console.log(`Logged workout: ${type}, Duration: ${duration} minutes, Calories burned: ${calories}`);\n",
       "}\n",
       "\n",
       "// Function to view all workouts\n",
       "function viewWorkouts() {\n",
       "    console.log(\"\\nWorkout Tracker:\");\n",
       "    workoutTracker.forEach((workout, index) => {\n",
       "        console.log(`${index + 1}. Type: ${workout.type}, Duration: ${workout.duration} minutes, Calories burned: ${workout.calories}`);\n",
       "    });\n",
       "}\n",
       "\n",
       "// Example Usage\n",
       "logWorkout(\"Running\", 30, 300);\n",
       "logWorkout(\"Cycling\", 45, 400);\n",
       "viewWorkouts();\n"
      ],
      "text/plain": [
       "<IPython.core.display.HTML object>"
      ]
     },
     "metadata": {},
     "output_type": "display_data"
    }
   ],
   "source": [
    "%%html\n",
    "// Initialize an empty workout tracker array\n",
    "let workoutTracker = [];\n",
    "\n",
    "// Function to log a workout\n",
    "function logWorkout(type, duration, calories) {\n",
    "    workoutTracker.push({ type, duration, calories });\n",
    "    console.log(`Logged workout: ${type}, Duration: ${duration} minutes, Calories burned: ${calories}`);\n",
    "}\n",
    "\n",
    "// Function to view all workouts\n",
    "function viewWorkouts() {\n",
    "    console.log(\"\\nWorkout Tracker:\");\n",
    "    workoutTracker.forEach((workout, index) => {\n",
    "        console.log(`${index + 1}. Type: ${workout.type}, Duration: ${workout.duration} minutes, Calories burned: ${workout.calories}`);\n",
    "    });\n",
    "}\n",
    "\n",
    "// Example Usage\n",
    "logWorkout(\"Running\", 30, 300);\n",
    "logWorkout(\"Cycling\", 45, 400);\n",
    "viewWorkouts();"
   ]
  }
 ],
 "metadata": {
  "kernelspec": {
   "display_name": "venv",
   "language": "python",
   "name": "python3"
  },
  "language_info": {
   "codemirror_mode": {
    "name": "ipython",
    "version": 3
   },
   "file_extension": ".py",
   "mimetype": "text/x-python",
   "name": "python",
   "nbconvert_exporter": "python",
   "pygments_lexer": "ipython3",
   "version": "3.12.4"
  }
 },
 "nbformat": 4,
 "nbformat_minor": 2
}

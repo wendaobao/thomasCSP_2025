{
 "cells": [
  {
   "cell_type": "markdown",
   "metadata": {},
   "source": [
    "## 3.3 Python mathmatical hacks"
   ]
  },
  {
   "cell_type": "markdown",
   "metadata": {},
   "source": [
    "- Popcorn Hack #1"
   ]
  },
  {
   "cell_type": "code",
   "execution_count": 6,
   "metadata": {},
   "outputs": [
    {
     "name": "stdout",
     "output_type": "stream",
     "text": [
      "The sum of the integers is: 34\n"
     ]
    }
   ],
   "source": [
    "# Hack #1: Define a list of integers\n",
    "numbers = [4, 4, 3, 3, 4, 4, 4, 4, 4]\n",
    "\n",
    "# Compute the sum of all of the integers\n",
    "total_sum = sum(numbers)\n",
    "\n",
    "# Print the sum\n",
    "print(\"The sum of the integers is:\", total_sum)\n"
   ]
  },
  {
   "cell_type": "markdown",
   "metadata": {},
   "source": [
    "- Popcorn Hack #2"
   ]
  },
  {
   "cell_type": "code",
   "execution_count": 7,
   "metadata": {},
   "outputs": [
    {
     "name": "stdout",
     "output_type": "stream",
     "text": [
      "The total cost is: 45.0\n"
     ]
    }
   ],
   "source": [
    "# Prompt the user to enter the price per bag of popcorn\n",
    "price_per_bag = float(input(\"Enter the price per bag of popcorn: \"))\n",
    "\n",
    "# Prompt the user to enter the number of bags they want to buy\n",
    "number_of_bags = int(input(\"Enter the number of bags you want to buy: \"))\n",
    "\n",
    "# Calculate the total cost\n",
    "total_cost = price_per_bag * number_of_bags\n",
    "\n",
    "# Print the total cost\n",
    "print(\"The total cost is:\", total_cost)\n"
   ]
  },
  {
   "cell_type": "markdown",
   "metadata": {},
   "source": [
    "- Popcorn Hack #3"
   ]
  },
  {
   "cell_type": "code",
   "execution_count": 11,
   "metadata": {},
   "outputs": [
    {
     "name": "stdout",
     "output_type": "stream",
     "text": [
      "Welcome to Brawl Stars!\n",
      "\n",
      "You just got unbanned from Brawl Stars and decide to play again.\n",
      "\n",
      "You spawned in a corner with no power cubes.\n",
      "\n",
      "You picked up the cube, but a Shelly was hiding in the bush! She super blasts you, and you are eliminated.\n",
      "\n",
      "Thank you for playing 'Brawl Stars: Choose Your Path!'\n"
     ]
    }
   ],
   "source": [
    "# Welcome the player to the game\n",
    "print(\"Welcome to Brawl Stars!\")\n",
    "\n",
    "# Starting the story\n",
    "print(\"\\nYou just got unbanned from Brawl Stars and decide to play again.\")\n",
    "\n",
    "# First choice\n",
    "choice1 = input(\"Do you (1) play Showdown or (2) play Brawl Ball? Type 1 or 2: \")\n",
    "\n",
    "if choice1 == '1':\n",
    "    print(\"\\nYou spawned in a corner with no power cubes.\")\n",
    "    # Second choice\n",
    "    choice2 = input(\"You see a power cube next to a bush. Do you (1) pick up the cube or (2) play safe? Type 1 or 2: \")\n",
    "    \n",
    "    if choice2 == '1':\n",
    "        print(\"\\nYou picked up the cube, but a Shelly was hiding in the bush! She super blasts you, and you are eliminated.\")\n",
    "    elif choice2 == '2':\n",
    "        print(\"\\nYou decide to play safe and move away from the bush.\")\n",
    "        # Third choice\n",
    "        choice3 = input(\"A showdown starts with only 3 players left. Do you (1) quit the game or (2) try hard for victory? Type 1 or 2: \")\n",
    "        \n",
    "        if choice3 == '1':\n",
    "            print(\"\\nYou quit the game and leave disappointed. Better luck next time!\")\n",
    "        else:\n",
    "            print(\"\\nYou decide to give it your all, outplay both opponents, and win the match! Victory is yours!\")\n",
    "    else:\n",
    "        print(\"Invalid choice. A Leon sneaks up behind you and you are eliminated.\")\n",
    "        \n",
    "elif choice1 == '2':\n",
    "    print(\"\\nYou enter a Brawl Ball match with random teammates.\")\n",
    "    # Second choice for Brawl Ball\n",
    "    choice2 = input(\"Your teammate is a bot and the other is AFK. Do you (1) carry the game or (2) give up? Type 1 or 2: \")\n",
    "    \n",
    "    if choice2 == '1':\n",
    "        print(\"\\nYou manage to carry the team! You score twice and win the game single-handedly.\")\n",
    "    elif choice2 == '2':\n",
    "        print(\"\\nYou give up and your team gets wiped out instantly. Defeat.\")\n",
    "    else:\n",
    "        print(\"Invalid choice. You get stuck in matchmaking forever.\")\n",
    "        \n",
    "else:\n",
    "    print(\"Invalid choice. You remain on the main menu, unsure of what to do next.\")\n",
    "\n",
    "print(\"\\nThank you for playing 'Brawl Stars: Choose Your Path!'\")\n"
   ]
  },
  {
   "cell_type": "markdown",
   "metadata": {},
   "source": [
    "- Javascript Popcorn Hack easy"
   ]
  },
  {
   "cell_type": "code",
   "execution_count": 2,
   "metadata": {
    "vscode": {
     "languageId": "javascript"
    }
   },
   "outputs": [
    {
     "data": {
      "text/html": [
       "function calculate() {\n",
       "    let result = (10 * 3) + 5 - 3 / 1;\n",
       "    return result;\n",
       "}\n",
       "\n",
       "console.log(calculate());  // Output: 32\n"
      ],
      "text/plain": [
       "<IPython.core.display.HTML object>"
      ]
     },
     "metadata": {},
     "output_type": "display_data"
    }
   ],
   "source": [
    "%%html\n",
    "function calculate() {\n",
    "    let result = (10 * 3) + 5 - 3 / 1;\n",
    "    return result;\n",
    "}\n",
    "\n",
    "console.log(calculate());  // Output: 32"
   ]
  },
  {
   "cell_type": "markdown",
   "metadata": {},
   "source": [
    "- Javascript Popcorn Hack medium"
   ]
  },
  {
   "cell_type": "code",
   "execution_count": 49,
   "metadata": {
    "vscode": {
     "languageId": "javascript"
    }
   },
   "outputs": [
    {
     "data": {
      "text/html": [
       "\n",
       "function makeSandwich() {\n",
       "    let ingredients = [];\n",
       "    let ingredient;\n",
       "\n",
       "    // Ask for ingredients until the user types 'done'\n",
       "    while (true) {\n",
       "        ingredient = prompt(\"Enter an ingredient for your sandwich (type 'done' to finish):\");\n",
       "        if (ingredient.toLowerCase() === 'done') {\n",
       "            break;\n",
       "        }\n",
       "        ingredients.push(ingredient);\n",
       "    }\n",
       "\n",
       "    // Ask for a name for the sandwich\n",
       "    let sandwichName = prompt(\"What would you like to name your sandwich?\");\n",
       "\n",
       "    // Output the sandwich name and ingredients in the document\n",
       "    document.write(\"Your sandwich, '\" + sandwichName + \"', includes the following ingredients: <br>\");\n",
       "    document.write(ingredients.join(\", \"));\n",
       "}\n",
       "\n",
       "// Call the function to make a sandwich\n",
       "makeSandwich();\n"
      ],
      "text/plain": [
       "<IPython.core.display.HTML object>"
      ]
     },
     "metadata": {},
     "output_type": "display_data"
    }
   ],
   "source": [
    "%%html\n",
    "\n",
    "function makeSandwich() {\n",
    "    let ingredients = [];\n",
    "    let ingredient;\n",
    "\n",
    "    // Ask for ingredients until the user types 'done'\n",
    "    while (true) {\n",
    "        ingredient = prompt(\"Enter an ingredient for your sandwich (type 'done' to finish):\");\n",
    "        if (ingredient.toLowerCase() === 'done') {\n",
    "            break;\n",
    "        }\n",
    "        ingredients.push(ingredient);\n",
    "    }\n",
    "\n",
    "    // Ask for a name for the sandwich\n",
    "    let sandwichName = prompt(\"What would you like to name your sandwich?\");\n",
    "\n",
    "    // Output the sandwich name and ingredients in the document\n",
    "    document.write(\"Your sandwich, '\" + sandwichName + \"', includes the following ingredients: <br>\");\n",
    "    document.write(ingredients.join(\", \"));\n",
    "}\n",
    "\n",
    "// Call the function to make a sandwich\n",
    "makeSandwich();\n"
   ]
  },
  {
   "cell_type": "markdown",
   "metadata": {},
   "source": [
    "- Javascript Hack Hard"
   ]
  },
  {
   "cell_type": "code",
   "execution_count": null,
   "metadata": {
    "vscode": {
     "languageId": "javascript"
    }
   },
   "outputs": [],
   "source": []
  },
  {
   "cell_type": "markdown",
   "metadata": {},
   "source": [
    "## 3.3 Homework Hack"
   ]
  },
  {
   "cell_type": "markdown",
   "metadata": {},
   "source": [
    "- Homework Hack#1"
   ]
  },
  {
   "cell_type": "code",
   "execution_count": 12,
   "metadata": {},
   "outputs": [
    {
     "name": "stdout",
     "output_type": "stream",
     "text": [
      "Arithmetic Mean: 5.714285714285714\n",
      "Median: 6\n"
     ]
    }
   ],
   "source": [
    "import statistics\n",
    "\n",
    "def compute_mean_and_median():\n",
    "    # Define a list of integers\n",
    "    numbers = [3, 7, 8, 10, 2, 4, 6]\n",
    "\n",
    "    # Compute the arithmetic mean\n",
    "    mean = sum(numbers) / len(numbers)\n",
    "\n",
    "    # Compute the median using statistics module\n",
    "    median = statistics.median(numbers)\n",
    "\n",
    "    # Print both results\n",
    "    print(f\"Arithmetic Mean: {mean}\")\n",
    "    print(f\"Median: {median}\")\n",
    "\n",
    "# Call the function\n",
    "compute_mean_and_median()\n"
   ]
  },
  {
   "cell_type": "markdown",
   "metadata": {},
   "source": [
    "- Homework Hack#2"
   ]
  },
  {
   "cell_type": "code",
   "execution_count": 13,
   "metadata": {},
   "outputs": [
    {
     "name": "stdout",
     "output_type": "stream",
     "text": [
      "Collatz sequence: [6, 3, 10, 5, 16, 8, 4, 2, 1]\n"
     ]
    }
   ],
   "source": [
    "def collatz_sequence(a):\n",
    "    # Initialize an array with the starting number\n",
    "    sequence = [a]\n",
    "\n",
    "    # Continue the process until we reach 1\n",
    "    while a != 1:\n",
    "        if a % 2 == 0:\n",
    "            a = a // 2  # If even, divide by 2\n",
    "        else:\n",
    "            a = 3 * a + 1  # If odd, multiply by 3 and add 1\n",
    "        sequence.append(a)  # Add each result to the sequence\n",
    "\n",
    "    # Print the full sequence\n",
    "    print(\"Collatz sequence:\", sequence)\n",
    "\n",
    "# Example usage\n",
    "collatz_sequence(6)\n"
   ]
  },
  {
   "cell_type": "markdown",
   "metadata": {},
   "source": [
    "- Homework Hack #3"
   ]
  },
  {
   "cell_type": "code",
   "execution_count": 50,
   "metadata": {
    "vscode": {
     "languageId": "javascript"
    }
   },
   "outputs": [
    {
     "data": {
      "text/html": [
       "\n",
       "function gcd(a, b) {\n",
       "    // Euclidean algorithm to find the GCD\n",
       "    while (b !== 0) {\n",
       "        let temp = b;\n",
       "        b = a % b;\n",
       "        a = temp;\n",
       "    }\n",
       "    return a;\n",
       "}\n",
       "\n",
       "function lcm(a, b) {\n",
       "    // Formula for LCM: (a * b) / GCD(a, b)\n",
       "    return (a * b) / gcd(a, b);\n",
       "}\n",
       "\n",
       "function computeGCDAndLCM(a, b) {\n",
       "    let result = {\n",
       "        GCD: gcd(a, b),\n",
       "        LCM: lcm(a, b)\n",
       "    };\n",
       "    return result;\n",
       "}\n",
       "\n",
       "// Example usage\n",
       "let result = computeGCDAndLCM(12, 18);\n",
       "console.log(result);  // Output: { GCD: 6, LCM: 36 }\n"
      ],
      "text/plain": [
       "<IPython.core.display.HTML object>"
      ]
     },
     "metadata": {},
     "output_type": "display_data"
    }
   ],
   "source": [
    "%%html\n",
    "\n",
    "function gcd(a, b) {\n",
    "    // Euclidean algorithm to find the GCD\n",
    "    while (b !== 0) {\n",
    "        let temp = b;\n",
    "        b = a % b;\n",
    "        a = temp;\n",
    "    }\n",
    "    return a;\n",
    "}\n",
    "\n",
    "function lcm(a, b) {\n",
    "    // Formula for LCM: (a * b) / GCD(a, b)\n",
    "    return (a * b) / gcd(a, b);\n",
    "}\n",
    "\n",
    "function computeGCDAndLCM(a, b) {\n",
    "    let result = {\n",
    "        GCD: gcd(a, b),\n",
    "        LCM: lcm(a, b)\n",
    "    };\n",
    "    return result;\n",
    "}\n",
    "\n",
    "// Example usage\n",
    "let result = computeGCDAndLCM(12, 18);\n",
    "console.log(result);  // Output: { GCD: 6, LCM: 36 }\n"
   ]
  },
  {
   "cell_type": "markdown",
   "metadata": {},
   "source": [
    "- Homework Hack #4"
   ]
  },
  {
   "cell_type": "code",
   "execution_count": 51,
   "metadata": {
    "vscode": {
     "languageId": "javascript"
    }
   },
   "outputs": [
    {
     "data": {
      "text/html": [
       "\n",
       "function collatzSequence(a) {\n",
       "    // Initialize an array with the starting number\n",
       "    let sequence = [a];\n",
       "\n",
       "    // Continue the process until we reach 1\n",
       "    while (a !== 1) {\n",
       "        if (a % 2 === 0) {\n",
       "            a = a / 2;  // If even, divide by 2\n",
       "        } else {\n",
       "            a = 3 * a + 1;  // If odd, multiply by 3 and add 1\n",
       "        }\n",
       "        sequence.push(a);  // Add each result to the sequence\n",
       "    }\n",
       "\n",
       "    // Print the full sequence\n",
       "    console.log(\"Collatz sequence:\", sequence);\n",
       "}\n",
       "\n",
       "// Example usage\n",
       "collatzSequence(6);  // Call the function with a positive integer\n"
      ],
      "text/plain": [
       "<IPython.core.display.HTML object>"
      ]
     },
     "metadata": {},
     "output_type": "display_data"
    }
   ],
   "source": [
    "%%html\n",
    "\n",
    "function collatzSequence(a) {\n",
    "    // Initialize an array with the starting number\n",
    "    let sequence = [a];\n",
    "\n",
    "    // Continue the process until we reach 1\n",
    "    while (a !== 1) {\n",
    "        if (a % 2 === 0) {\n",
    "            a = a / 2;  // If even, divide by 2\n",
    "        } else {\n",
    "            a = 3 * a + 1;  // If odd, multiply by 3 and add 1\n",
    "        }\n",
    "        sequence.push(a);  // Add each result to the sequence\n",
    "    }\n",
    "\n",
    "    // Print the full sequence\n",
    "    console.log(\"Collatz sequence:\", sequence);\n",
    "}\n",
    "\n",
    "// Example usage\n",
    "collatzSequence(6);  // Call the function with a positive integer\n"
   ]
  },
  {
   "cell_type": "markdown",
   "metadata": {},
   "source": [
    "# 3.5 Python Booleans Hacks"
   ]
  },
  {
   "cell_type": "markdown",
   "metadata": {},
   "source": [
    "- Popcorn Hacks #1"
   ]
  },
  {
   "cell_type": "code",
   "execution_count": 28,
   "metadata": {},
   "outputs": [
    {
     "name": "stdout",
     "output_type": "stream",
     "text": [
      "The number is negative.\n",
      "The number is non-negative.\n",
      "The number is non-negative.\n"
     ]
    }
   ],
   "source": [
    "def check_number(num):\n",
    "    if num < 0:\n",
    "        print(\"The number is negative.\")\n",
    "    else:\n",
    "        print(\"The number is non-negative.\")\n",
    "\n",
    "# Example usage\n",
    "check_number(-5)  # Output: The number is negative.\n",
    "check_number(10)  # Output: The number is non-negative.\n",
    "check_number(0)   # Output: The number is non-negative.\n"
   ]
  },
  {
   "cell_type": "markdown",
   "metadata": {},
   "source": [
    "- Popocorn Hacks #2"
   ]
  },
  {
   "cell_type": "code",
   "execution_count": 29,
   "metadata": {},
   "outputs": [
    {
     "name": "stdout",
     "output_type": "stream",
     "text": [
      "The student passed both subjects.\n",
      "The student did not pass both subjects.\n",
      "The student did not pass both subjects.\n"
     ]
    }
   ],
   "source": [
    "def check_scores(score1, score2):\n",
    "    if score1 >= 70 and score2 >= 70:\n",
    "        print(\"The student passed both subjects.\")\n",
    "    else:\n",
    "        print(\"The student did not pass both subjects.\")\n",
    "\n",
    "# Example usage\n",
    "check_scores(75, 80)  # Output: The student passed both subjects.\n",
    "check_scores(65, 70)  # Output: The student did not pass both subjects.\n",
    "check_scores(70, 65)  # Output: The student did not pass both subjects.\n"
   ]
  },
  {
   "cell_type": "markdown",
   "metadata": {},
   "source": [
    "- Popcorn Hacks #3"
   ]
  },
  {
   "cell_type": "code",
   "execution_count": 30,
   "metadata": {},
   "outputs": [
    {
     "name": "stdout",
     "output_type": "stream",
     "text": [
      "a is a vowel.\n",
      "B is not a vowel.\n",
      "e is a vowel.\n",
      "x is not a vowel.\n"
     ]
    }
   ],
   "source": [
    "def check_vowel(char):\n",
    "    if char.lower() in 'aeiou':\n",
    "        print(f\"{char} is a vowel.\")\n",
    "    else:\n",
    "        print(f\"{char} is not a vowel.\")\n",
    "\n",
    "# Example usage\n",
    "check_vowel('a')  # Output: a is a vowel.\n",
    "check_vowel('B')  # Output: B is not a vowel.\n",
    "check_vowel('e')  # Output: e is a vowel.\n",
    "check_vowel('x')  # Output: x is not a vowel.\n"
   ]
  },
  {
   "cell_type": "markdown",
   "metadata": {},
   "source": [
    "- Popcorn Hacks #4"
   ]
  },
  {
   "cell_type": "code",
   "execution_count": 52,
   "metadata": {
    "vscode": {
     "languageId": "javascript"
    }
   },
   "outputs": [
    {
     "data": {
      "text/html": [
       "function checkEvenOrOdd(number) {\n",
       "    if (number % 2 === 0) {\n",
       "        console.log(`${number} is an even number.`);\n",
       "    } else {\n",
       "        console.log(`${number} is an odd number.`);\n",
       "    }\n",
       "}\n",
       "\n",
       "// Example usage\n",
       "checkEvenOrOdd(4);  // Output: 4 is an even number.\n",
       "checkEvenOrOdd(7);  // Output: 7 is an odd number.\n",
       "checkEvenOrOdd(0);  // Output: 0 is an even number.\n",
       "checkEvenOrOdd(-3); // Output: -3 is an odd number.\n"
      ],
      "text/plain": [
       "<IPython.core.display.HTML object>"
      ]
     },
     "metadata": {},
     "output_type": "display_data"
    }
   ],
   "source": [
    "%%html\n",
    "function checkEvenOrOdd(number) {\n",
    "    if (number % 2 === 0) {\n",
    "        console.log(`${number} is an even number.`);\n",
    "    } else {\n",
    "        console.log(`${number} is an odd number.`);\n",
    "    }\n",
    "}\n",
    "\n",
    "// Example usage\n",
    "checkEvenOrOdd(4);  // Output: 4 is an even number.\n",
    "checkEvenOrOdd(7);  // Output: 7 is an odd number.\n",
    "checkEvenOrOdd(0);  // Output: 0 is an even number.\n",
    "checkEvenOrOdd(-3); // Output: -3 is an odd number.\n"
   ]
  },
  {
   "cell_type": "markdown",
   "metadata": {},
   "source": [
    "- Homework Hack #1"
   ]
  },
  {
   "cell_type": "code",
   "execution_count": 53,
   "metadata": {
    "vscode": {
     "languageId": "javascript"
    }
   },
   "outputs": [
    {
     "data": {
      "text/html": [
       "function checkEvenOrOdd(number) {\n",
       "    if (number % 2 === 0) {\n",
       "        console.log(`${number} is an even number.`);\n",
       "    } else {\n",
       "        console.log(`${number} is an odd number.`);\n",
       "    }\n",
       "}\n",
       "\n",
       "// Example usage\n",
       "checkEvenOrOdd(4);  // Output: 4 is an even number.\n",
       "checkEvenOrOdd(7);  // Output: 7 is an odd number.\n",
       "checkEvenOrOdd(0);  // Output: 0 is an even number.\n",
       "checkEvenOrOdd(-3); // Output: -3 is an odd number.\n",
       "\n"
      ],
      "text/plain": [
       "<IPython.core.display.HTML object>"
      ]
     },
     "metadata": {},
     "output_type": "display_data"
    }
   ],
   "source": [
    "%%html\n",
    "function checkEvenOrOdd(number) {\n",
    "    if (number % 2 === 0) {\n",
    "        console.log(`${number} is an even number.`);\n",
    "    } else {\n",
    "        console.log(`${number} is an odd number.`);\n",
    "    }\n",
    "}\n",
    "\n",
    "// Example usage\n",
    "checkEvenOrOdd(4);  // Output: 4 is an even number.\n",
    "checkEvenOrOdd(7);  // Output: 7 is an odd number.\n",
    "checkEvenOrOdd(0);  // Output: 0 is an even number.\n",
    "checkEvenOrOdd(-3); // Output: -3 is an odd number.\n",
    "\n"
   ]
  },
  {
   "cell_type": "markdown",
   "metadata": {},
   "source": [
    "- Homework Hack #2"
   ]
  },
  {
   "cell_type": "code",
   "execution_count": 22,
   "metadata": {},
   "outputs": [
    {
     "name": "stdout",
     "output_type": "stream",
     "text": [
      "Welcome to the De Morgan's Law Game!\n",
      "You win!\n"
     ]
    }
   ],
   "source": [
    "def game_logic(answer1, answer2):\n",
    "    # De Morgan's Law: ¬(A ∧ B) ≡ ¬A ∨ ¬B\n",
    "    # If the player does NOT (answer1 AND answer2), \n",
    "    # it is equivalent to saying (NOT answer1 OR NOT answer2)\n",
    "    \n",
    "    if not (answer1 and answer2):  # Original condition\n",
    "        return \"You win!\"  # If at least one answer is \"No\"\n",
    "    else:\n",
    "        return \"You lose!\"  # If both answers are \"Yes\"\n",
    "\n",
    "def play_game():\n",
    "    print(\"Welcome to the De Morgan's Law Game!\")\n",
    "    \n",
    "    # Ask questions\n",
    "    question1 = input(\"Do you like pizza? (yes/no): \").strip().lower()\n",
    "    question2 = input(\"Do you like ice cream? (yes/no): \").strip().lower()\n",
    "\n",
    "    # Convert answers to boolean values\n",
    "    answer1 = question1 == 'yes'\n",
    "    answer2 = question2 == 'yes'\n",
    "\n",
    "    # Determine result using game logic\n",
    "    result = game_logic(answer1, answer2)\n",
    "\n",
    "    print(result)\n",
    "\n",
    "# Start the game\n",
    "play_game()\n"
   ]
  },
  {
   "cell_type": "markdown",
   "metadata": {},
   "source": [
    "- Homework Hack #3"
   ]
  },
  {
   "cell_type": "code",
   "execution_count": 3,
   "metadata": {
    "vscode": {
     "languageId": "javascript"
    }
   },
   "outputs": [
    {
     "data": {
      "text/html": [
       "function isValidPassword(password) {\n",
       "    // Criteria:\n",
       "    // 1. At least 10 characters long\n",
       "    // 2. Contains both uppercase and lowercase letters\n",
       "    // 3. Contains at least one number\n",
       "    // 4. Does not contain any spaces\n",
       "\n",
       "    let lengthCheck = password.length >= 10;\n",
       "    let upperCheck = /[A-Z]/.test(password);\n",
       "    let lowerCheck = /[a-z]/.test(password);\n",
       "    let digitCheck = /[0-9]/.test(password);\n",
       "    let spaceCheck = !password.includes(' ');\n",
       "\n",
       "    // Using De Morgan's Law\n",
       "    if (!(lengthCheck && upperCheck && lowerCheck && digitCheck && spaceCheck)) {\n",
       "        return false;\n",
       "    }\n",
       "    return true;\n",
       "}\n",
       "\n",
       "function createPassword() {\n",
       "    let password = prompt(\"Enter a password:\");\n",
       "\n",
       "    if (isValidPassword(password)) {\n",
       "        console.log(\"Password is valid!\");\n",
       "    } else {\n",
       "        console.log(\"Password is invalid! Please ensure it meets the following criteria:\");\n",
       "        console.log(\"- At least 10 characters long\");\n",
       "        console.log(\"- Contains both uppercase and lowercase letters\");\n",
       "        console.log(\"- Contains at least one number\");\n",
       "        console.log(\"- Does not contain any spaces\");\n",
       "    }\n",
       "}\n",
       "\n",
       "// Run the password creator\n",
       "createPassword();\n"
      ],
      "text/plain": [
       "<IPython.core.display.HTML object>"
      ]
     },
     "metadata": {},
     "output_type": "display_data"
    }
   ],
   "source": [
    "%%html\n",
    "function isValidPassword(password) {\n",
    "    // Criteria:\n",
    "    // 1. At least 10 characters long\n",
    "    // 2. Contains both uppercase and lowercase letters\n",
    "    // 3. Contains at least one number\n",
    "    // 4. Does not contain any spaces\n",
    "\n",
    "    let lengthCheck = password.length >= 10;\n",
    "    let upperCheck = /[A-Z]/.test(password);\n",
    "    let lowerCheck = /[a-z]/.test(password);\n",
    "    let digitCheck = /[0-9]/.test(password);\n",
    "    let spaceCheck = !password.includes(' ');\n",
    "\n",
    "    // Using De Morgan's Law\n",
    "    if (!(lengthCheck && upperCheck && lowerCheck && digitCheck && spaceCheck)) {\n",
    "        return false;\n",
    "    }\n",
    "    return true;\n",
    "}\n",
    "\n",
    "function createPassword() {\n",
    "    let password = prompt(\"Enter a password:\");\n",
    "\n",
    "    if (isValidPassword(password)) {\n",
    "        console.log(\"Password is valid!\");\n",
    "    } else {\n",
    "        console.log(\"Password is invalid! Please ensure it meets the following criteria:\");\n",
    "        console.log(\"- At least 10 characters long\");\n",
    "        console.log(\"- Contains both uppercase and lowercase letters\");\n",
    "        console.log(\"- Contains at least one number\");\n",
    "        console.log(\"- Does not contain any spaces\");\n",
    "    }\n",
    "}\n",
    "\n",
    "// Run the password creator\n",
    "createPassword();\n"
   ]
  },
  {
   "cell_type": "markdown",
   "metadata": {},
   "source": [
    "- Homework Hacks1 Javascript"
   ]
  },
  {
   "cell_type": "code",
   "execution_count": 4,
   "metadata": {
    "vscode": {
     "languageId": "javascript"
    }
   },
   "outputs": [
    {
     "data": {
      "text/html": [
       "function outfitPicker(temperature) {\n",
       "    if (temperature <= 0) {\n",
       "        console.log(\"It's freezing! Wear a heavy coat, scarf, gloves, and a hat.\");\n",
       "    } else if (temperature > 0 && temperature <= 15) {\n",
       "        console.log(\"It's cold! Wear a warm jacket and a sweater.\");\n",
       "    } else if (temperature > 15 && temperature <= 25) {\n",
       "        console.log(\"It's cool! A light jacket or hoodie will be enough.\");\n",
       "    } else if (temperature > 25 && temperature <= 35) {\n",
       "        console.log(\"It's warm! Wear a t-shirt and shorts.\");\n",
       "    } else if (temperature > 35) {\n",
       "        console.log(\"It's hot! Wear light clothing and stay hydrated.\");\n",
       "    } else {\n",
       "        console.log(\"Invalid input. Please enter a valid temperature.\");\n",
       "    }\n",
       "}\n",
       "\n",
       "// Allow the user to input the temperature\n",
       "let temperature = prompt(\"Enter the temperature:\");\n",
       "temperature = parseFloat(temperature);\n",
       "\n",
       "// Call the outfit picker function\n",
       "outfitPicker(temperature);\n"
      ],
      "text/plain": [
       "<IPython.core.display.HTML object>"
      ]
     },
     "metadata": {},
     "output_type": "display_data"
    }
   ],
   "source": [
    "%%html\n",
    "function outfitPicker(temperature) {\n",
    "    if (temperature <= 0) {\n",
    "        console.log(\"It's freezing! Wear a heavy coat, scarf, gloves, and a hat.\");\n",
    "    } else if (temperature > 0 && temperature <= 15) {\n",
    "        console.log(\"It's cold! Wear a warm jacket and a sweater.\");\n",
    "    } else if (temperature > 15 && temperature <= 25) {\n",
    "        console.log(\"It's cool! A light jacket or hoodie will be enough.\");\n",
    "    } else if (temperature > 25 && temperature <= 35) {\n",
    "        console.log(\"It's warm! Wear a t-shirt and shorts.\");\n",
    "    } else if (temperature > 35) {\n",
    "        console.log(\"It's hot! Wear light clothing and stay hydrated.\");\n",
    "    } else {\n",
    "        console.log(\"Invalid input. Please enter a valid temperature.\");\n",
    "    }\n",
    "}\n",
    "\n",
    "// Allow the user to input the temperature\n",
    "let temperature = prompt(\"Enter the temperature:\");\n",
    "temperature = parseFloat(temperature);\n",
    "\n",
    "// Call the outfit picker function\n",
    "outfitPicker(temperature);\n"
   ]
  },
  {
   "cell_type": "markdown",
   "metadata": {},
   "source": [
    "- Homework Hack2 Javascript"
   ]
  },
  {
   "cell_type": "code",
   "execution_count": 5,
   "metadata": {
    "vscode": {
     "languageId": "javascript"
    }
   },
   "outputs": [
    {
     "data": {
      "text/html": [
       "function findLargestAndSort(numbers) {\n",
       "    // Find the largest number using Math.max and spread operator\n",
       "    let largest = Math.max(...numbers);\n",
       "    console.log(\"The largest number is:\", largest);\n",
       "\n",
       "    // Sort the numbers from least to greatest\n",
       "    numbers.sort((a, b) => a - b);\n",
       "    console.log(\"Numbers sorted from least to greatest:\", numbers);\n",
       "}\n",
       "\n",
       "// Example list of numbers\n",
       "let numbers = [23, 5, 89, 12, 67, 34];\n",
       "\n",
       "// Call the function to find the largest number and sort the list\n",
       "findLargestAndSort(numbers);\n"
      ],
      "text/plain": [
       "<IPython.core.display.HTML object>"
      ]
     },
     "metadata": {},
     "output_type": "display_data"
    }
   ],
   "source": [
    "%%html\n",
    "function findLargestAndSort(numbers) {\n",
    "    // Find the largest number using Math.max and spread operator\n",
    "    let largest = Math.max(...numbers);\n",
    "    console.log(\"The largest number is:\", largest);\n",
    "\n",
    "    // Sort the numbers from least to greatest\n",
    "    numbers.sort((a, b) => a - b);\n",
    "    console.log(\"Numbers sorted from least to greatest:\", numbers);\n",
    "}\n",
    "\n",
    "// Example list of numbers\n",
    "let numbers = [23, 5, 89, 12, 67, 34];\n",
    "\n",
    "// Call the function to find the largest number and sort the list\n",
    "findLargestAndSort(numbers);\n"
   ]
  },
  {
   "cell_type": "markdown",
   "metadata": {
    "vscode": {
     "languageId": "javascript"
    }
   },
   "source": [
    "- Homework Hack3 Javascript"
   ]
  },
  {
   "cell_type": "code",
   "execution_count": 7,
   "metadata": {
    "vscode": {
     "languageId": "javascript"
    }
   },
   "outputs": [
    {
     "data": {
      "text/html": [
       "function checkEvenOrOdd(number) {\n",
       "    // Check if the number is even or odd using the modulus operator\n",
       "    if (number % 2 === 0) {\n",
       "        console.log(number + \" is an even number.\");\n",
       "    } else {\n",
       "        console.log(number + \" is an odd number.\");\n",
       "    }\n",
       "}\n",
       "\n",
       "// Allow the user to input a number\n",
       "let number = prompt(\"Enter a number:\");\n",
       "number = parseInt(number, 10);  // Convert the input to an integer\n",
       "\n",
       "// Call the function to check if the number is even or odd\n",
       "checkEvenOrOdd(number);\n"
      ],
      "text/plain": [
       "<IPython.core.display.HTML object>"
      ]
     },
     "metadata": {},
     "output_type": "display_data"
    }
   ],
   "source": [
    "%%html\n",
    "function checkEvenOrOdd(number) {\n",
    "    // Check if the number is even or odd using the modulus operator\n",
    "    if (number % 2 === 0) {\n",
    "        console.log(number + \" is an even number.\");\n",
    "    } else {\n",
    "        console.log(number + \" is an odd number.\");\n",
    "    }\n",
    "}\n",
    "\n",
    "// Allow the user to input a number\n",
    "let number = prompt(\"Enter a number:\");\n",
    "number = parseInt(number, 10);  // Convert the input to an integer\n",
    "\n",
    "// Call the function to check if the number is even or odd\n",
    "checkEvenOrOdd(number);"
   ]
  },
  {
   "cell_type": "code",
   "execution_count": null,
   "metadata": {
    "vscode": {
     "languageId": "javascript"
    }
   },
   "outputs": [],
   "source": []
  }
 ],
 "metadata": {
  "kernelspec": {
   "display_name": "venv",
   "language": "python",
   "name": "python3"
  },
  "language_info": {
   "codemirror_mode": {
    "name": "ipython",
    "version": 3
   },
   "file_extension": ".py",
   "mimetype": "text/x-python",
   "name": "python",
   "nbconvert_exporter": "python",
   "pygments_lexer": "ipython3",
   "version": "3.12.4"
  }
 },
 "nbformat": 4,
 "nbformat_minor": 2
}

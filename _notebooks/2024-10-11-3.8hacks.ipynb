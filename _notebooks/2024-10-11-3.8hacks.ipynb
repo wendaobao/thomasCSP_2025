{
 "cells": [
  {
   "cell_type": "markdown",
   "metadata": {},
   "source": [
    "## Popcorn Hack #1\n",
    "I want you to create a while loop that will print out “hello” to the terminal 5 times"
   ]
  },
  {
   "cell_type": "code",
   "execution_count": 2,
   "metadata": {},
   "outputs": [
    {
     "name": "stdout",
     "output_type": "stream",
     "text": [
      "hello\n",
      "hello\n",
      "hello\n",
      "hello\n",
      "hello\n"
     ]
    }
   ],
   "source": [
    "count = 0\n",
    "while count < 5:\n",
    "    print(\"hello\")\n",
    "    count += 1\n"
   ]
  },
  {
   "cell_type": "markdown",
   "metadata": {},
   "source": [
    "## Popcorn Hack #2"
   ]
  },
  {
   "cell_type": "code",
   "execution_count": 3,
   "metadata": {},
   "outputs": [
    {
     "name": "stdout",
     "output_type": "stream",
     "text": [
      "Thomas\n",
      "JoeJoe\n",
      "BaoBaoBao\n",
      "Thomas\n",
      "JoeJoe\n",
      "BaoBaoBao\n",
      "Thomas\n",
      "JoeJoe\n",
      "BaoBaoBao\n",
      "Thomas\n",
      "JoeJoe\n",
      "BaoBaoBao\n"
     ]
    }
   ],
   "source": [
    "first_name = \"Thomas\"\n",
    "middle_name = \"Joe\"\n",
    "last_name = \"Bao\"\n",
    "\n",
    "for _ in range(4):  # Repeat the entire process 4 times\n",
    "    print(first_name)           # Print first name once\n",
    "    print(middle_name * 2)     # Print middle name twice\n",
    "    print(last_name * 3)       # Print last name three times\n"
   ]
  },
  {
   "cell_type": "markdown",
   "metadata": {},
   "source": [
    "## Popcorn Hack #3"
   ]
  },
  {
   "cell_type": "code",
   "execution_count": 4,
   "metadata": {},
   "outputs": [
    {
     "name": "stdout",
     "output_type": "stream",
     "text": [
      "T\n",
      "h\n",
      "o\n",
      "m\n",
      "a\n",
      "s\n",
      " \n",
      "J\n",
      "o\n",
      "e\n",
      " \n",
      "B\n",
      "a\n",
      "o\n"
     ]
    }
   ],
   "source": [
    "name = \"Thomas Joe Bao\"\n",
    "\n",
    "for letter in name:\n",
    "    print(letter)"
   ]
  },
  {
   "cell_type": "markdown",
   "metadata": {},
   "source": [
    "## Popcorn Hack#4"
   ]
  },
  {
   "cell_type": "markdown",
   "metadata": {},
   "source": []
  },
  {
   "cell_type": "code",
   "execution_count": 5,
   "metadata": {},
   "outputs": [
    {
     "name": "stdout",
     "output_type": "stream",
     "text": [
      "The first_name is Thomas. That's a nice name!\n",
      "The middle_name is Joe. That's a nice name!\n",
      "The last_name is Bao. That's a nice name!\n"
     ]
    }
   ],
   "source": [
    "# Create a dictionary\n",
    "my_dict = {\n",
    "    \"first_name\": \"Thomas\",\n",
    "    \"middle_name\": \"Joe\",\n",
    "    \"last_name\": \"Bao\"\n",
    "}\n",
    "\n",
    "# Iterate through the dictionary\n",
    "for key, value in my_dict.items():\n",
    "    print(f\"The {key} is {value}. That's a nice name!\")\n"
   ]
  },
  {
   "cell_type": "markdown",
   "metadata": {},
   "source": [
    "## Hack #1 While loops"
   ]
  },
  {
   "cell_type": "code",
   "execution_count": 6,
   "metadata": {},
   "outputs": [
    {
     "name": "stdout",
     "output_type": "stream",
     "text": [
      "Incorrect password. Please try again.\n",
      "Incorrect password. Please try again.\n",
      "Incorrect password. Please try again.\n",
      "Incorrect password. Please try again.\n",
      "Incorrect password. Please try again.\n"
     ]
    }
   ],
   "source": [
    "# Define the correct password\n",
    "correct_password = \"your_password\"  # Replace with your actual password\n",
    "\n",
    "# Initialize a variable to store user input\n",
    "user_input = \"\"\n",
    "\n",
    "# Loop until the correct password is entered\n",
    "while user_input != correct_password:\n",
    "    user_input = input(\"Please enter your password: \")\n",
    "    \n",
    "    if user_input == correct_password:\n",
    "        print(\"The password is correct.\")\n",
    "    else:\n",
    "        print(\"Incorrect password. Please try again.\")\n"
   ]
  },
  {
   "cell_type": "markdown",
   "metadata": {},
   "source": [
    "## Hack #2 For loops"
   ]
  },
  {
   "cell_type": "code",
   "execution_count": 1,
   "metadata": {},
   "outputs": [
    {
     "name": "stdout",
     "output_type": "stream",
     "text": [
      "T\n",
      "h\n",
      "o\n",
      "m\n",
      "a\n",
      "s\n"
     ]
    }
   ],
   "source": [
    "# Ask for the user's name\n",
    "user_name = input(\"Please enter your name: \")\n",
    "\n",
    "# Iterate through the name and print each letter\n",
    "for letter in user_name:\n",
    "    print(letter)\n"
   ]
  },
  {
   "cell_type": "markdown",
   "metadata": {},
   "source": [
    "## Hack #3 For loops with lists"
   ]
  },
  {
   "cell_type": "code",
   "execution_count": 2,
   "metadata": {},
   "outputs": [
    {
     "name": "stdout",
     "output_type": "stream",
     "text": [
      "apple\n",
      "banana\n",
      "cherry\n",
      "date\n",
      "elderberry\n",
      "fig\n",
      "grape\n"
     ]
    }
   ],
   "source": [
    "# List of fruits\n",
    "fruits = [\"apple\", \"banana\", \"cherry\", \"date\", \"elderberry\", \"fig\", \"grape\"]\n",
    "\n",
    "# Iterate through the list and print each fruit\n",
    "for fruit in fruits:\n",
    "    print(fruit)\n"
   ]
  }
 ],
 "metadata": {
  "kernelspec": {
   "display_name": "venv",
   "language": "python",
   "name": "python3"
  },
  "language_info": {
   "codemirror_mode": {
    "name": "ipython",
    "version": 3
   },
   "file_extension": ".py",
   "mimetype": "text/x-python",
   "name": "python",
   "nbconvert_exporter": "python",
   "pygments_lexer": "ipython3",
   "version": "3.12.4"
  }
 },
 "nbformat": 4,
 "nbformat_minor": 2
}

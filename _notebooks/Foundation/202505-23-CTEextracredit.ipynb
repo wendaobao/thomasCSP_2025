{
 "cells": [
  {
   "cell_type": "markdown",
   "metadata": {},
   "source": [
    "---\n",
    "layout: post\n",
    "title: CTE extra credit\n",
    "type: issues \n",
    "---\n"
   ]
  },
  {
   "cell_type": "markdown",
   "metadata": {},
   "source": [
    "![image.png](https://i.postimg.cc/PxBnmdf9/IMG-1195.avif)"
   ]
  },
  {
   "cell_type": "markdown",
   "metadata": {},
   "source": [
    "![image.png](https://i.postimg.cc/3Nnjsxyb/IMG-1198.avif)"
   ]
  },
  {
   "cell_type": "markdown",
   "metadata": {},
   "source": [
    "I arrived at the start of the event, around 5:15 PM, and stayed for about half an hour. I began by checking out the csp section. After that, I walked around and explored several other booths, including 3D Animation, the Inventors Club, and the Stock Market Game booth.\n",
    "\n",
    "One of the most impactful moments for me was learning about the Stock Market Game. The way students approached investing and explained their strategies really inspired me.\n",
    "\n",
    "This event also motivated me to get more involved next year. I hope to work on a Computer Science or Robotics project that I can present at the expo. Seeing all the creativity and effort from other students made me excited to be part of it in the future.\n"
   ]
  }
 ],
 "metadata": {
  "language_info": {
   "name": "python"
  }
 },
 "nbformat": 4,
 "nbformat_minor": 2
}

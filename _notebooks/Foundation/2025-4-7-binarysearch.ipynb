{
 "cells": [
  {
   "cell_type": "markdown",
   "metadata": {},
   "source": [
    "---\n",
    "layout: post\n",
    "title: binarysearchhacks\n",
    "type: issues \n",
    "---"
   ]
  },
  {
   "cell_type": "markdown",
   "metadata": {},
   "source": [
    "## Question 1:\n",
    "The procedure BinarySearch(numList, target) correctly implements binary search on numList.\n",
    "Which of the following conditions must be met in order for the procedure to work as intended? Explain why.\n",
    "\n",
    "Choices:\n",
    "\n",
    "a) The length of numList must be even\n",
    "b) The list numList must not contain any duplicate values\n",
    "c) The values in numList must be in sorted order ✅\n",
    "d) The value of target must not be equal to -1\n",
    "\n",
    "\n",
    "Correct Answer: c\n",
    "Explanation:\n",
    "Binary Search requires the list to be sorted in order to work properly. It assumes the middle value can help decide which half of the list to search next. If the list is unsorted, the search can go in the wrong direction and miss the target.\n",
    "\n",
    "## Question 2:\n",
    "Which of the following statements correctly describes a disadvantage of binary search compared to linear search? Explain why your answer is correct and why the others are wrong.\n",
    "\n",
    "Choices:\n",
    "\n",
    "a) Binary search takes more time on average than linear search\n",
    "b) Binary search cannot be used on unsorted lists without modifications ✅\n",
    "c) Binary search always returns the first occurrence of the target\n",
    "d) Binary search can only be used on lists with unique values\n",
    "\n",
    "✔️ Correct Answer: b\n",
    "Explanation:\n",
    "Binary search only works on sorted lists. If the data isn't sorted, it must be sorted first (which takes time).\n"
   ]
  },
  {
   "cell_type": "markdown",
   "metadata": {},
   "source": [
    "## Popcorn Hack #3"
   ]
  },
  {
   "cell_type": "code",
   "execution_count": 1,
   "metadata": {},
   "outputs": [
    {
     "name": "stdout",
     "output_type": "stream",
     "text": [
      "2\n"
     ]
    }
   ],
   "source": [
    "def binary_search_chars(arr, target):\n",
    "    low, high = 0, len(arr) - 1\n",
    "\n",
    "    while low <= high:\n",
    "        mid = (low + high) // 2\n",
    "        if arr[mid] == target:\n",
    "            return mid\n",
    "        elif arr[mid] < target:\n",
    "            low = mid + 1\n",
    "        else:\n",
    "            high = mid - 1\n",
    "\n",
    "    return -1\n",
    "\n",
    "# Example usage:\n",
    "chars = ['a', 'b', 'c', 'd', 'e', 'f', 'g']\n",
    "print(binary_search_chars(chars, 'c'))  # Output: 2"
   ]
  },
  {
   "cell_type": "markdown",
   "metadata": {},
   "source": [
    "## Homework Hack"
   ]
  },
  {
   "cell_type": "code",
   "execution_count": 3,
   "metadata": {},
   "outputs": [
    {
     "name": "stdout",
     "output_type": "stream",
     "text": [
      "✅ CSV created successfully.\n",
      "✅ Price $1.25 found at index 3.\n",
      "✅ Price $6.49 found at index 12.\n",
      "❌ Price $10.0 not found in the list.\n"
     ]
    }
   ],
   "source": [
    "import pandas as pd\n",
    "\n",
    "# Create the dataset from scratch\n",
    "data = {\n",
    "    \"Product\": [\n",
    "        \"Notebook\", \"Pen\", \"Pencil\", \"Backpack\", \"Calculator\", \"Eraser\",\n",
    "        \"Binder\", \"Marker\", \"Scissors\", \"Glue Stick\", \"Ruler\", \"Highlighter\",\n",
    "        \"Stapler\", \"Tape\", \"Paper Clips\"\n",
    "    ],\n",
    "    \"Price\": [\n",
    "        2.99, 1.5, 0.99, 25.00, 15.75, 0.5,\n",
    "        3.99, 2.25, 4.99, 1.25, 1.99, 2.5,\n",
    "        6.49, 1.75, 0.89\n",
    "    ]\n",
    "}\n",
    "\n",
    "df = pd.DataFrame(data)\n",
    "\n",
    "# Save it as a CSV so you can load it later\n",
    "df.to_csv(\"school_supplies.csv\", index=False)\n",
    "print(\"✅ CSV created successfully.\")\n",
    "\n",
    "\n",
    "# Load and clean data\n",
    "data = pd.read_csv(\"school_supplies.csv\")\n",
    "data_cleaned = data.dropna()\n",
    "data_sorted = data_cleaned.sort_values(by=\"Price\")\n",
    "price_list = data_sorted[\"Price\"].tolist()\n",
    "\n",
    "# Binary Search Function\n",
    "def binary_search(arr, target):\n",
    "    low, high = 0, len(arr) - 1\n",
    "    while low <= high:\n",
    "        mid = (low + high) // 2\n",
    "        if arr[mid] == target:\n",
    "            return mid\n",
    "        elif arr[mid] < target:\n",
    "            low = mid + 1\n",
    "        else:\n",
    "            high = mid - 1\n",
    "    return -1\n",
    "\n",
    "# Prices to check\n",
    "prices_to_check = [1.25, 6.49, 10.00]\n",
    "\n",
    "# Run search\n",
    "for price in prices_to_check:\n",
    "    result = binary_search(price_list, price)\n",
    "    if result != -1:\n",
    "        print(f\"✅ Price ${price} found at index {result}.\")\n",
    "    else:\n",
    "        print(f\"❌ Price ${price} not found in the list.\")\n"
   ]
  },
  {
   "cell_type": "markdown",
   "metadata": {},
   "source": [
    "Explanation: \n",
    "- Loads CSV data using Pandas.\n",
    "\n",
    "- Cleans the data by dropping rows with missing values.\n",
    "\n",
    "- Sorts the prices .\n",
    "\n",
    "- Uses a binary search to look for specific prices.\n",
    "\n",
    "- Efficient for large datasets because it narrows the search space logarithmically.\n"
   ]
  },
  {
   "cell_type": "markdown",
   "metadata": {},
   "source": []
  }
 ],
 "metadata": {
  "kernelspec": {
   "display_name": "venv",
   "language": "python",
   "name": "python3"
  },
  "language_info": {
   "codemirror_mode": {
    "name": "ipython",
    "version": 3
   },
   "file_extension": ".py",
   "mimetype": "text/x-python",
   "name": "python",
   "nbconvert_exporter": "python",
   "pygments_lexer": "ipython3",
   "version": "3.12.4"
  }
 },
 "nbformat": 4,
 "nbformat_minor": 2
}

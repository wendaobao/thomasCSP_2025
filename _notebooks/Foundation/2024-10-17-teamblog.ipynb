{
 "cells": [
  {
   "cell_type": "markdown",
   "metadata": {},
   "source": [
    "---\n",
    "layout: post\n",
    "title: Sprint 2 Team blog\n",
    "description:  Team accomplishment for sprint 2\n",
    "type: issues \n",
    "courses: { csp: {week: 7}}\n",
    "comments: true\n",
    "---"
   ]
  },
  {
   "cell_type": "markdown",
   "metadata": {},
   "source": [
    "## Team Blog Big Idea 3\n",
    "P4 Brown: Lessons 3.2 (Data abstraction)\n",
    "Scrum Master: Thomas Bao\n",
    "\n",
    "Other members: Thomas Bao, Aarush Kota, Ian Managan, Collin Ge"
   ]
  },
  {
   "cell_type": "markdown",
   "metadata": {},
   "source": [
    "## Key accomplishment \n",
    "\n",
    "Key Contributions:\n",
    "\n",
    "- We efficiently completed our lesson within the scheduled timeframe.\n",
    "- We worked collaboratively in our shared repository.\n",
    "- We supported one another and communicated effectively when encountering challenges, using both in-person discussions and - digital platforms like Slack or messaging apps.\n",
    "- We designed homework assignments that effectively assessed students’ understanding of our lesson content. In addition we added bonus to give students an opportunity to go beyond.\n",
    "- Our lesson is well-structured, featuring clear and detailed explanations for each concept covered thoroughly. \n"
   ]
  },
  {
   "cell_type": "markdown",
   "metadata": {},
   "source": [
    "| Name                | Link to personal issues               |\n",
    "|---------------------|--------------------|\n",
    "| Thomas Bao          | [Thomas](https://github.com/wendaobao/thomasCSP_2025/issues/4) |\n",
    "| Aarush Kota         | [Aarush](https://github.com/AarushKota/Aarush_2025/issues/3) |\n",
    "| Ian Managan         | [Ian](https://github.com/Im2008/IanM_2025/issues/1) |\n",
    "| Collin Ge           | [Collin](https://github.com/collin12396/newCollinCSP_2025/issues/1) |\n"
   ]
  },
  {
   "cell_type": "markdown",
   "metadata": {},
   "source": []
  },
  {
   "cell_type": "markdown",
   "metadata": {},
   "source": [
    "| Lesson                       | Authors                       | Description                               | Summary                                         |\n",
    "|------------------------------|-------------------------------|-------------------------------------------|-------------------------------------------------|\n",
    "| [3.2.1](https://nighthawkcoders.github.io/portfolio_2025/csp/big-idea/p4/3-2-1)    | Collin Ge                    | Integers                                  | Whole numbers without a decimal point.         |\n",
    "| [3.2.2](https://nighthawkcoders.github.io/portfolio_2025/csp/big-idea/p4/3-2-2)    | Collin Ge                    | Float                                     | Numbers that contain a decimal point.          |\n",
    "| [3.2.3](https://nighthawkcoders.github.io/portfolio_2025/csp/big-idea/p4/3-2-3)    | Collin Ge                    | Strings                                   | A sequence of characters used for text.        |\n",
    "| [3.2.4](https://nighthawkcoders.github.io/portfolio_2025/csp/big-idea/p4/3-2-4)    | Collin Ge                    | Lists                                     | An ordered collection of items, which can be of mixed types. |\n",
    "| [3.2.5](https://nighthawkcoders.github.io/portfolio_2025/csp/big-idea/p4/3-2-5)    | Thomas Bao                   | Tuple                                     | An immutable ordered collection of items.      |\n",
    "| [3.2.6](https://nighthawkcoders.github.io/portfolio_2025/csp/big-idea/p4/3-2-6)    | Thomas Bao                   | Dictionaries                              | A collection of key-value pairs for data storage. |\n",
    "| [3.2.7](https://nighthawkcoders.github.io/portfolio_2025/csp/big-idea/p4/3-2-7)    | Ian Managan                  | Sets                                      | An unordered collection of unique items.        |\n",
    "| [3.2.8](https://nighthawkcoders.github.io/portfolio_2025/csp/big-idea/p4/3-2-8)    | Thomas Bao                   | Booleans                                  | Data type representing True or False values.    |\n",
    "| [3.2.9](https://nighthawkcoders.github.io/portfolio_2025/csp/big-idea/p4/3-2-9)    | Thomas Bao                   | None and null                            | Represents the absence of a value or a null reference. |\n",
    "| [Hacks](https://nighthawkcoders.github.io/portfolio_2025/csp/big-idea/p4/3-2/) | Thomas Bao, Collin Ge, Ian Man | Popcorn and homework hacks for lessons    | 4 Python Popcorn hacks 2 Javascript Popcorn Hacks and 2 homework hacks including bonuses                      |\n"
   ]
  }
 ],
 "metadata": {
  "language_info": {
   "name": "python"
  }
 },
 "nbformat": 4,
 "nbformat_minor": 2
}

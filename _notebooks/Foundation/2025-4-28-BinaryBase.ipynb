{
 "cells": [
  {
   "cell_type": "markdown",
   "metadata": {},
   "source": [
    "---\n",
    "layout: post\n",
    "title: Binary Base\n",
    "type: issues \n",
    "---\n"
   ]
  },
  {
   "cell_type": "markdown",
   "metadata": {},
   "source": [
    "## Hack #1"
   ]
  },
  {
   "cell_type": "code",
   "execution_count": 1,
   "metadata": {},
   "outputs": [
    {
     "name": "stdout",
     "output_type": "stream",
     "text": [
      "The decimal representation of 1011 is 11.\n"
     ]
    }
   ],
   "source": [
    "def binary_to_decimal(binary_str):\n",
    "    decimal = 0\n",
    "    for i in range(len(binary_str)):\n",
    "        decimal += int(binary_str[-(i + 1)]) * (2 ** i)\n",
    "    return decimal\n",
    "\n",
    "# Example\n",
    "binary_input = \"1011\"  # Example input\n",
    "decimal_output = binary_to_decimal(binary_input)\n",
    "print(f\"The decimal representation of {binary_input} is {decimal_output}.\")\n"
   ]
  },
  {
   "cell_type": "markdown",
   "metadata": {},
   "source": [
    "## Hack #2"
   ]
  },
  {
   "cell_type": "code",
   "execution_count": 5,
   "metadata": {},
   "outputs": [
    {
     "name": "stdout",
     "output_type": "stream",
     "text": [
      "Add the following binary numbers:\n",
      "Number 1: 11110101\n",
      "Number 2: 111\n",
      "❌ Oops! The correct answer was 11111100.\n",
      "🏅 Your score: -5 points.\n"
     ]
    }
   ],
   "source": [
    "import random\n",
    "import time\n",
    "\n",
    "def binary_addition_battle():\n",
    "    # Generate two random binary numbers (up to 8 bits)\n",
    "    num1 = bin(random.randint(0, 255))[2:]\n",
    "    num2 = bin(random.randint(0, 255))[2:]\n",
    "    \n",
    "    # Show the binary numbers\n",
    "    print(f\"Add the following binary numbers:\")\n",
    "    print(f\"Number 1: {num1}\")\n",
    "    print(f\"Number 2: {num2}\")\n",
    "    \n",
    "    # Start the timer\n",
    "    start_time = time.time()\n",
    "    \n",
    "    # Ask the user for the sum\n",
    "    user_answer = input(\"Your answer (in binary): \")\n",
    "    \n",
    "    # End the timer\n",
    "    end_time = time.time()\n",
    "    \n",
    "    # Calculate the correct binary sum\n",
    "    correct_answer = bin(int(num1, 2) + int(num2, 2))[2:]\n",
    "    \n",
    "    # Check if the answer is correct\n",
    "    if user_answer == correct_answer:\n",
    "        print(f\"✅ Correct! You took {end_time - start_time:.2f} seconds.\")\n",
    "        print(f\"🏅 Your score: +10 points!\")\n",
    "    else:\n",
    "        print(f\"❌ Oops! The correct answer was {correct_answer}.\")\n",
    "        print(f\"🏅 Your score: -5 points.\")\n",
    "\n",
    "# Run the game\n",
    "binary_addition_battle()\n"
   ]
  },
  {
   "cell_type": "markdown",
   "metadata": {},
   "source": [
    "## Hack #3"
   ]
  },
  {
   "cell_type": "markdown",
   "metadata": {},
   "source": [
    "Hack 4: AP Multiple Choice Questions (Answers)\n",
    "Q28:\n",
    "200 characters → How many bits?\n",
    "→ 2⁷ = 128 (too small), 2⁸ = 256 (enough).\n",
    "✅ Answer: D) 8\n",
    "\n",
    "Q36:\n",
    "2 ÷ 3 results in 0.6666666667 → Why?\n",
    "→ ✅ Answer: B) Floating-point precision limits\n",
    "\n",
    "Q42:\n",
    "IPv6 uses 128 bits vs IPv4's 32 bits.\n",
    "→ It increases addresses by 2^96 times.\n",
    "✅ Answer: D) 2 raised to the ninety-sixth power\n",
    "\n",
    "Q44:\n",
    "Using 4 bits (max 15), adding big numbers could overflow.\n",
    "\n",
    "4+8 = 12, ok\n",
    "\n",
    "7+10 = 17 (overflow)\n",
    "\n",
    "12+3 = 15 (ok)\n",
    "✅ Answer: B) II only\n",
    "\n"
   ]
  },
  {
   "cell_type": "markdown",
   "metadata": {},
   "source": [
    "## Homework Hack\n",
    "Explain in 1–2 sentences how to convert a binary number into a decimal number. You convert a binary number into a decimal by multiplying each bit by 2 raised to the power of its position (starting from the right at 0), then adding up all the results. For example, in 101, you calculate: 1×2² + 0×2¹ + 1×2⁰ = 4 + 0 + 1 = 5.\n",
    "\n",
    "If you are given the binary number 11111111, what decimal number is that? The binary number 11111111 equals 255 in decimal. (Explanation: 1×2⁷ + 1×2⁶ + 1×2⁵ + 1×2⁴ + 1×2³ + 1×2² + 1×2¹ + 1×2⁰ = 128 + 64 + 32 + 16 + 8 + 4 + 2 + 1 = 255.)"
   ]
  },
  {
   "cell_type": "markdown",
   "metadata": {},
   "source": [
    "## Popcorn Hack #1"
   ]
  },
  {
   "cell_type": "markdown",
   "metadata": {},
   "source": [
    "Logic gates are used in real-world applications like computer processors, medical devices, automated vehicles, and security systems. For example, in healthcare, logic gates control pacemakers: they decide when to send electrical pulses based on the heart’s behavior (using conditions like \"if both sensors detect low heartbeat, send a pulse\"). This impact is helpful because it saves lives by ensuring life-supporting devices respond instantly and reliably based on multiple health inputs. In AI and robotics, logic gates help machines make quick decisions by combining different sensor inputs logically, making them smarter and safer."
   ]
  },
  {
   "cell_type": "markdown",
   "metadata": {},
   "source": [
    "## Popcorn Hack 2:\n",
    "A digital circuit receives three inputs: X, Y, Z. It outputs 1 if X AND Y are both 1, OR Z is 1. Which expression matches?\n",
    "\n",
    "✅ Answer: A. (X AND Y) OR Z\n",
    "\n",
    "Why:\n",
    "\n",
    "First, X AND Y must both be 1 to output 1.\n",
    "\n",
    "Second, even if X AND Y are not both 1, if Z is 1, the output should still be 1.\n",
    "\n",
    "This exactly matches (X AND Y) OR Z."
   ]
  },
  {
   "cell_type": "markdown",
   "metadata": {},
   "source": [
    "## Homework Hack"
   ]
  },
  {
   "cell_type": "code",
   "execution_count": 6,
   "metadata": {},
   "outputs": [
    {
     "name": "stdout",
     "output_type": "stream",
     "text": [
      "1\n",
      "0\n",
      "0\n",
      "0\n"
     ]
    }
   ],
   "source": [
    "def secure_entry_system(keycard, pin, voice_auth):\n",
    "    def AND(a, b):\n",
    "        return a & b  # AND logic\n",
    "\n",
    "    first_check = AND(keycard, pin)\n",
    "    final_check = AND(first_check, voice_auth)\n",
    "    return final_check\n",
    "\n",
    "# Test cases\n",
    "print(secure_entry_system(1, 1, 1))  # Expected Output: 1 (Access Granted)\n",
    "print(secure_entry_system(1, 0, 1))  # Expected Output: 0 (Access Denied)\n",
    "print(secure_entry_system(0, 1, 1))  # Expected Output: 0 (Access Denied)\n",
    "print(secure_entry_system(1, 1, 0))  # Expected Output: 0 (Access Denied)\n"
   ]
  }
 ],
 "metadata": {
  "kernelspec": {
   "display_name": "venv",
   "language": "python",
   "name": "python3"
  },
  "language_info": {
   "codemirror_mode": {
    "name": "ipython",
    "version": 3
   },
   "file_extension": ".py",
   "mimetype": "text/x-python",
   "name": "python",
   "nbconvert_exporter": "python",
   "pygments_lexer": "ipython3",
   "version": "3.12.4"
  }
 },
 "nbformat": 4,
 "nbformat_minor": 2
}

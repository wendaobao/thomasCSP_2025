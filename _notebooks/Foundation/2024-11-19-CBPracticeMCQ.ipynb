{
 "cells": [
  {
   "cell_type": "markdown",
   "metadata": {},
   "source": [
    "## College Board Practice MCQ"
   ]
  },
  {
   "cell_type": "markdown",
   "metadata": {},
   "source": [
    "2018 Practice Exam MCQ - Corrections"
   ]
  },
  {
   "cell_type": "markdown",
   "metadata": {},
   "source": [
    "![image.png](https://i.ibb.co/WvJCsQG/Screenshot-2024-11-20-at-9-43-00-AM.png)\n",
    "Theres a quite a lot of stuff I need to improve on since this is my first time getting experience with computer science and coding questions. Some specific topic are python usage such as booleans, iteration and nested condition. I also need to learn some topics such as algorithm. Most of the questions are about logic, I didn't understand the question or missunderstood it and lead me to a wrong answer."
   ]
  },
  {
   "cell_type": "markdown",
   "metadata": {},
   "source": [
    "Question 5\n",
    "![image.png](https://i.ibb.co/x5wFP9j/Screenshot-2024-11-19-at-9-10-12-AM.png)\n",
    "\n",
    "Answer A isn't correct because this code segment will set One word, ticket Price to 17 for all 3-D movies, regardless of the age of the purchaser.\n",
    "\n",
    "Option C is correct. This code segment initially sets One word, ticket Price to 12, and then changes the price to 9 only for children and seniors. The code segment then increases One word, ticket Price by 5 for 3-D movies."
   ]
  },
  {
   "cell_type": "markdown",
   "metadata": {},
   "source": [
    "Question 6\n",
    "![image.png](https://i.ibb.co/HNTdj80/Screenshot-2024-11-19-at-9-15-09-AM.png)\n",
    "\n",
    "Answer D This option is incorrect. The ownership of encrypted keys is verified by certificate authorities, not the IETF.\n",
    "\n",
    "Correct option is A. The IETF develops and oversees standards such as hypertext transfer protocol (HTTP), Internet protocol (IP), and simple mail transfer protocol (SMTP).\n"
   ]
  },
  {
   "cell_type": "markdown",
   "metadata": {},
   "source": [
    "Question 7\n",
    "![image.png](https://i.ibb.co/QCkptw2/Screenshot-2024-11-19-at-9-17-37-AM.png)\n",
    "\n",
    "Option B is incorrect. The value 3 is the final value of start, but not the final value of current\n",
    "\n",
    "Option C is correct. The code segment initially sets start to 1, end to 20, and current to 3. Next, the code segment sets start to the value of current, which is 3. Then current is increased from 3 to 4. The final values of start and current are 3 and 4, respectively.\n"
   ]
  },
  {
   "cell_type": "markdown",
   "metadata": {},
   "source": [
    "Question 10\n",
    "![image.png](https://i.ibb.co/XXcFWZ4/Screenshot-2024-11-19-at-9-20-41-AM.png)\n",
    "\n",
    "Option A is incorrect. The code segment draws a circle centered at the coordinates (3, 6), then moves to the right and up, drawing circles centered at (5, 8) and (7, 10).\n",
    "\n",
    "Option B is correct. The code segment draws a circle centered at the coordinates (3, 6), then moves to the right and down, drawing circles centered at (5, 4) and (7, 2)."
   ]
  },
  {
   "cell_type": "markdown",
   "metadata": {},
   "source": [
    "Question #\n",
    "![image.png](https://i.ibb.co/PhbZJsY/Screenshot-2024-11-19-at-9-23-38-AM.png)\n",
    "\n",
    "Option A is incorrect. The average number of daily messages sent per user appears to increase after the mobile app was released.\n",
    "\n",
    "Option D is correct. The average number of characters per message appears to decrease after the mobile app was released."
   ]
  },
  {
   "cell_type": "markdown",
   "metadata": {},
   "source": [
    "Question 16\n",
    "![image.png](https://i.ibb.co/xH3J43M/Screenshot-2024-11-19-at-9-25-06-AM.png)\n",
    "Option C is incorrect. The user’s download history can be used to recommend similar artists based on aggregated data from many users.\n",
    "\n",
    "Option D is correct. If the album was purchased and downloaded through a licensed music store, the user will not be in violation of the DMCA."
   ]
  },
  {
   "cell_type": "markdown",
   "metadata": {},
   "source": [
    "Question 21\n",
    "![image.png](https://i.ibb.co/G7kCJwr/Screenshot-2024-11-19-at-9-27-37-AM.png)\n",
    "Option C is incorrect. This code segment moves the robot forward three squares, rotates it right one time so that the robot faces the bottom of the grid, and then moves the robot forward three squares.\n",
    "\n",
    "Option B is correct. This code segment moves the robot forward two squares, rotates it right three times so that the robot faces the top of the grid, and then moves the robot forward three squares to the gray square."
   ]
  },
  {
   "cell_type": "markdown",
   "metadata": {},
   "source": [
    "Question 22\n",
    "![image.png](https://i.ibb.co/rp64Bwz/Screenshot-2024-11-19-at-9-29-01-AM.png)\n",
    "Option D is incorrect. This Boolean expression will always evaluate to true because total (the number of temperatures in the\n",
    "list) will always be greater than 50% of counter (the number of temperatures greater than or equal to 90).\n",
    "\n",
    "Option B is correct. This Boolean expression evaluates to true when counter (the number of temperatures greater than or equal to 90) is greater than 50% of total (the number of entries in the list)."
   ]
  },
  {
   "cell_type": "markdown",
   "metadata": {},
   "source": [
    "Question 23\n",
    "![image.png](https://i.ibb.co/XCm4GMs/Screenshot-2024-11-19-at-9-30-55-AM.png)\n",
    "\n",
    "Option C is incorrect. There are multiple paths from P to S (for example, P to S and P to Q to S).\n",
    "\n",
    "Option B is correct. Redundant routing is impossible if there is only one possible path from one device to another. There is only one possible path from P to S (P to R to Q to S)."
   ]
  },
  {
   "cell_type": "markdown",
   "metadata": {},
   "source": [
    "Question 24\n",
    "![image.png](https://i.ibb.co/th2m4Rg/Screenshot-2024-11-19-at-9-32-15-AM.png)\n",
    "\n",
    "Option A is incorrect. While some of the characters of the original string do not appear in the encoded string, this transformation is not lossy because the original version can be restored.\n",
    "\n",
    "Option C is correct. The transformation is lossless because an encoded string can be restored to its original version. For example, Open quotation, percent, hash, underscore, hash, underscore, percent E, underscore, BEST, underscore, W, hash, H, close quotation can be restored to Open quotation, THIS, underscore, IS, underscore, THE, underscore, BEST, underscore, WISH, close quotation by replacing all instances of Open quotation, percent, close quotationwith Open quotation, T H, close quotation and by replacing all instances of Open quotation, hash, close quotation with Open quotation, I S, close quotation."
   ]
  },
  {
   "cell_type": "markdown",
   "metadata": {},
   "source": [
    "Question 26\n",
    "![image.png](https://i.ibb.co/vP4X5Zd/Screenshot-2024-11-19-at-9-34-43-AM.png)\n",
    "\n",
    "Option C is incorrect. This code segment moves the robot up and down between its initial location and the square above its initial location.\n",
    "\n",
    "Option A is correct. This code segment rotates right whenever there is an open square to the right. The robot will move forward from its initial location to the upper-left corner of the grid, then rotate right, then move forward to the upper-right corner of the grid, then rotate right, then move down two squares, then rotate right, then move forward to the gray square."
   ]
  },
  {
   "cell_type": "markdown",
   "metadata": {},
   "source": [
    "Question 29\n",
    "![image.png](https://i.ibb.co/q7yTfs1/Screenshot-2024-11-19-at-9-38-50-AM.png)\n",
    "Option D is incorrect. With these inputs, the AND gate will produce an output of false and the first OR gate will produce an output of true. The second OR gate will have one false input and one true input, causing the circuit to have an output of true.\n",
    "\n",
    "Option A is correct. With these inputs, the AND gate will produce an output of false and the first OR gate will produce an output of false. Since both inputs to the second OR gate will be false, the circuit will have an output of false."
   ]
  },
  {
   "cell_type": "markdown",
   "metadata": {},
   "source": [
    "Question 33\n",
    "![image.png](https://i.ibb.co/q9wM9Qp/Screenshot-2024-11-20-at-9-48-17-AM.png)\n",
    "Option B is incorrect. This option is incorrect. This expression would be used for a flowchart to set include to true whenever floor is greater than 1 0 and bedrooms equal 3. This does not correctly set include to true in cases where only one of the two conditions is  true.\n",
    "\n",
    "Option A is correct because The flowchart sets include to true whenever floor is greater than 1 0 or bedrooms equal 3, and sets include to false otherwise. Therefore, the algorithm is equivalent."
   ]
  },
  {
   "cell_type": "markdown",
   "metadata": {},
   "source": [
    "Question 34\n",
    "![image.png](https://i.ibb.co/FwGhVPY/Screenshot-2024-11-20-at-9-50-14-AM.png)\n",
    "Option C is incorrect because the number of predators is initialized at the beginning of the program but is never updated.\n",
    "\n",
    "Option D is correct because the number of predators is initialized at the beginning of the program but is never updated.\n"
   ]
  },
  {
   "cell_type": "markdown",
   "metadata": {},
   "source": [
    "Question 45\n",
    "![image.png](https://i.ibb.co/8DKwZr1/Screenshot-2024-11-20-at-10-31-16-AM.png)\n",
    "Option A is incorrect. Code segment II also displays the correct average.\n",
    "Option C is correct.  Both code segments display the correct average. Code segment I requires more arithmetic operations because it performs the operation sum divided by LENGTH, open parenthesis, num List, close parenthesis within the loop, while code segment II performs the same operation only once."
   ]
  },
  {
   "cell_type": "markdown",
   "metadata": {},
   "source": [
    "Question 45\n",
    "![image.png](https://i.ibb.co/kXrr6tb/Screenshot-2024-11-20-at-10-28-42-AM.png)\n",
    "Option B is incorrect. The expression Open parenthesis, NOT P, close parenthesis, and Q evaluates to false when P is false and Q is true. A NAND gate should only evaluate to  false when both inputs are true.\n",
    "Option C is correct. The expression P AND Q evaluates to true when both P and Q are true, and evaluates to false otherwise. Therefore, the expression NOT, open parenthesis, P AND Q, close parenthesis evaluates to false when both P and Q are true, and evaluates to true otherwise."
   ]
  },
  {
   "cell_type": "markdown",
   "metadata": {},
   "source": [
    "Question 48\n",
    "![image.png](https://i.ibb.co/NnN1GFH/Screenshot-2024-11-20-at-10-26-21-AM.png)\n",
    "Option B is incorrect. This option causes the experiment to be successful when RANDOM, open parenthesis 1 comma 100, close parenthesis produces a result from 1to 2 5, or 25% of the time.\n",
    "\n",
    "Option D is correct. RANDOM, open parenthesis 1 comma 100, close parenthesis, is less than or equal to 75"
   ]
  },
  {
   "cell_type": "markdown",
   "metadata": {},
   "source": [
    "Question 50 \n",
    "![image.png](https://i.ibb.co/2Y8jYW7/Screenshot-2024-11-20-at-10-24-37-AM.png)\n",
    "Option B is correct. The procedure implements a linear search, which sequentially compares each element of the list with the target value. The list does not need to be sorted because the procedure checks list elements until either the target is found or it reaches the end of the list."
   ]
  },
  {
   "cell_type": "markdown",
   "metadata": {},
   "source": [
    "Question 55\n",
    "![image.png](https://i.ibb.co/q1TtNrj/Screenshot-2024-11-20-at-9-56-09-AM.png)\n",
    "Option D is correct because  the expression open parenthesis, open parenthesis, response equals, open quotation, y, close quotation, close parenthesis, AND, open parenthesis, response equals, open quotation, yes, close quotation, close parenthesis, close parenthesisalways evaluates to false because it is not possible for the variable response to be equal to both Open quotation, y, close quotation and Open quotation, yes, close quotation. Therefore, the procedure will always\n",
    "return false."
   ]
  },
  {
   "cell_type": "markdown",
   "metadata": {},
   "source": [
    "Question 54\n",
    "![image.png](https://i.ibb.co/RN6LSX6/Screenshot-2024-11-20-at-9-57-54-AM.png)\n",
    "Option C is incorrect. The Polynomial procedure calculates the sum of the Square and Cube procedures, but does not generalize their functionality to calculate any power of n.\n"
   ]
  },
  {
   "cell_type": "markdown",
   "metadata": {},
   "source": [
    "Question 52\n",
    "![image.png](https://i.ibb.co/JsPkFg4/Screenshot-2024-11-20-at-10-22-29-AM.png)\n",
    "Option 1 is incorrect. Option I does not work because it performs the \"shorten\" step before the \"keep palindromes\" step.\n",
    "Option 2 and 3 is correct. In order to generate the desired list, the algorithm must perform the \"shorten\" step after the \"keep palindromes\" step, otherwise the \"keep palindromes\" step would not be able to determine whether the original word was a palindrome"
   ]
  },
  {
   "cell_type": "markdown",
   "metadata": {},
   "source": [
    "Question 65\n",
    "![image.png](https://i.ibb.co/LrswV9T/Screenshot-2024-11-20-at-9-53-49-AM.png)\n",
    "Option B and D is correct because if y is negative, then the condition count equals y will never be met since count begins at 0 and repeatedly increases."
   ]
  },
  {
   "cell_type": "markdown",
   "metadata": {},
   "source": []
  }
 ],
 "metadata": {
  "language_info": {
   "name": "python"
  }
 },
 "nbformat": 4,
 "nbformat_minor": 2
}

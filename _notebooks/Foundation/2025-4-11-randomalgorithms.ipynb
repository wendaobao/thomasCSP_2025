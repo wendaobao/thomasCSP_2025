{
 "cells": [
  {
   "cell_type": "markdown",
   "metadata": {},
   "source": [
    "---\n",
    "layout: post\n",
    "title: Random algorithms\n",
    "type: issues \n",
    "---\n"
   ]
  },
  {
   "cell_type": "markdown",
   "metadata": {},
   "source": [
    "## Popcorn Hack #1"
   ]
  },
  {
   "cell_type": "markdown",
   "metadata": {},
   "source": [
    "What is a random algorithm?\n",
    "\n",
    "A random algorithm is one that uses random values to affect its behavior, such as choosing randomly from a list or generating unpredictable results.\n",
    "\n",
    "Why use random algorithms in real life?\n",
    "\n",
    "To simulate real-world uncertainty (e.g., weather, finance, medicine)\n",
    "\n",
    "To create fairness (e.g., lotteries, randomized trials)\n",
    "\n",
    "To increase unpredictability (e.g., in games, AI)\n",
    "\n",
    "What kind of questions might College Board ask?\n",
    "\n",
    "Interpreting random conditions in loops\n",
    "\n",
    "Analyzing output ranges from random functions\n",
    "\n",
    "Understanding how random behavior affects simulations or results"
   ]
  },
  {
   "cell_type": "markdown",
   "metadata": {},
   "source": [
    "## Popcorn Hack #2"
   ]
  },
  {
   "cell_type": "code",
   "execution_count": 3,
   "metadata": {},
   "outputs": [
    {
     "name": "stdout",
     "output_type": "stream",
     "text": [
      "Today’s random activity: Sketch a comic\n"
     ]
    }
   ],
   "source": [
    "import random\n",
    "\n",
    "activities = [\n",
    "    'Paint something', 'Play chess', 'Clean your room', \n",
    "    'Bake cookies', 'Call a family member', \n",
    "    'Go on a bike ride', 'Study for a quiz', \n",
    "    'Organize your notes', 'Do yoga', 'Sketch a comic'\n",
    "]\n",
    "\n",
    "random_activity = random.choice(activities)\n",
    "print(f\"Today’s random activity: {random_activity}\")\n"
   ]
  },
  {
   "cell_type": "markdown",
   "metadata": {},
   "source": [
    "## Popcorn Hack #3"
   ]
  },
  {
   "cell_type": "code",
   "execution_count": 4,
   "metadata": {},
   "outputs": [
    {
     "name": "stdout",
     "output_type": "stream",
     "text": [
      "Jacob will be monitoring manage the guestbook!\n",
      "Elliot will be monitoring set up music!\n",
      "Johan will be monitoring host trivia!\n",
      "Daksha will be monitoring decorate cupcakes!\n",
      "Thomas will be monitoring MC the event!\n"
     ]
    }
   ],
   "source": [
    "import random\n",
    "\n",
    "hosts = ['Jacob', 'Elliot', 'Johan', 'Daksha', 'Thomas']\n",
    "activities = ['decorate cupcakes', 'set up music', 'host trivia', 'manage the guestbook', 'MC the event']\n",
    "\n",
    "random.shuffle(activities)\n",
    "\n",
    "for i in range(len(hosts)):\n",
    "    print(f\"{hosts[i]} will be monitoring {activities[i]}!\")\n"
   ]
  },
  {
   "cell_type": "markdown",
   "metadata": {},
   "source": [
    "## Popcorn hack #1"
   ]
  },
  {
   "cell_type": "code",
   "execution_count": 6,
   "metadata": {},
   "outputs": [
    {
     "name": "stdout",
     "output_type": "stream",
     "text": [
      "Spinner landed on: 18\n"
     ]
    }
   ],
   "source": [
    "import random\n",
    "\n",
    "def spin_number(min_val=1, max_val=20):\n",
    "    return random.randint(min_val, max_val)\n",
    "\n",
    "result = spin_number()\n",
    "print(f\"Spinner landed on: {result}\")\n"
   ]
  },
  {
   "cell_type": "markdown",
   "metadata": {},
   "source": [
    "## Popcorn hack #2"
   ]
  },
  {
   "cell_type": "code",
   "execution_count": 8,
   "metadata": {},
   "outputs": [
    {
     "name": "stdout",
     "output_type": "stream",
     "text": [
      "Computer chose: paper\n",
      "You chose: paper\n",
      "It's a tie!\n"
     ]
    }
   ],
   "source": [
    "import random\n",
    "\n",
    "def play_rock_paper_scissors():\n",
    "    choices = ['rock', 'paper', 'scissors']\n",
    "    computer_choice = random.choice(choices)\n",
    "    user_choice = input(\"Enter your choice (rock, paper, or scissors): \").lower()\n",
    "\n",
    "    if user_choice not in choices:\n",
    "        print(\"Invalid choice. Please try again.\")\n",
    "        return\n",
    "\n",
    "    print(\"Computer chose:\", computer_choice)\n",
    "    print(\"You chose:\", user_choice)\n",
    "\n",
    "    if user_choice == computer_choice:\n",
    "        print(\"It's a tie!\")\n",
    "    elif (\n",
    "        (user_choice == 'rock' and computer_choice == 'scissors') or\n",
    "        (user_choice == 'paper' and computer_choice == 'rock') or\n",
    "        (user_choice == 'scissors' and computer_choice == 'paper')\n",
    "    ):\n",
    "        print(\"You win!\")\n",
    "    else:\n",
    "        print(\"You lose!\")\n",
    "\n",
    "play_rock_paper_scissors()\n"
   ]
  },
  {
   "cell_type": "markdown",
   "metadata": {},
   "source": [
    "## Random Team Assignment"
   ]
  },
  {
   "cell_type": "code",
   "execution_count": 9,
   "metadata": {},
   "outputs": [
    {
     "name": "stdout",
     "output_type": "stream",
     "text": [
      "Random Team Assignments:\n",
      "\n",
      "Alice → Team Eclipse\n",
      "Ben → Team Eclipse\n",
      "Carla → Team Eclipse\n",
      "David → Team Nebula\n",
      "Emma → Team Quantum\n",
      "Farah → Team Quantum\n",
      "George → Team Nebula\n",
      "Hannah → Team Nebula\n",
      "Isaac → Team Quantum\n",
      "Jade → Team Nebula\n",
      "Kyle → Team Quantum\n",
      "Luna → Team Quantum\n",
      "Mason → Team Nebula\n",
      "Nina → Team Eclipse\n",
      "Omar → Team Quantum\n"
     ]
    }
   ],
   "source": [
    "import random\n",
    "\n",
    "students = [\n",
    "    \"Alice\", \"Ben\", \"Carla\", \"David\", \"Emma\",\n",
    "    \"Farah\", \"George\", \"Hannah\", \"Isaac\", \"Jade\",\n",
    "    \"Kyle\", \"Luna\", \"Mason\", \"Nina\", \"Omar\"\n",
    "]\n",
    "\n",
    "teams = [\"Team Quantum\", \"Team Nebula\", \"Team Eclipse\"]\n",
    "assignments = {}\n",
    "\n",
    "for student in students:\n",
    "    team = random.choice(teams)\n",
    "    assignments[student] = team\n",
    "\n",
    "print(\"Random Team Assignments:\\n\")\n",
    "for student, team in assignments.items():\n",
    "    print(f\"{student} → {team}\")\n"
   ]
  },
  {
   "cell_type": "markdown",
   "metadata": {},
   "source": [
    "## Weather forcast\n"
   ]
  },
  {
   "cell_type": "code",
   "execution_count": 10,
   "metadata": {},
   "outputs": [
    {
     "name": "stdout",
     "output_type": "stream",
     "text": [
      "7-Day Weather Forecast:\n",
      "\n",
      "Day 1: Rainy\n",
      "Day 2: Rainy\n",
      "Day 3: Cloudy\n",
      "Day 4: Sunny\n",
      "Day 5: Cloudy\n",
      "Day 6: Rainy\n",
      "Day 7: Sunny\n"
     ]
    }
   ],
   "source": [
    "import random\n",
    "\n",
    "weather_options = [\"Sunny\", \"Cloudy\", \"Rainy\"]\n",
    "\n",
    "print(\"7-Day Weather Forecast:\\n\")\n",
    "for day in range(1, 8):\n",
    "    weather = random.choice(weather_options)\n",
    "    print(f\"Day {day}: {weather}\")\n"
   ]
  },
  {
   "cell_type": "markdown",
   "metadata": {},
   "source": [
    "## Random Coffee Shop"
   ]
  },
  {
   "cell_type": "code",
   "execution_count": 11,
   "metadata": {},
   "outputs": [
    {
     "name": "stdout",
     "output_type": "stream",
     "text": [
      "Customer Service Times (minutes): [2, 4, 1, 4, 5]\n",
      "Total time to serve all customers: 16 minutes\n"
     ]
    }
   ],
   "source": [
    "import random\n",
    "\n",
    "# Simulate 5 customers with random service times (1–5 min each)\n",
    "service_times = [random.randint(1, 5) for _ in range(5)]\n",
    "\n",
    "print(\"Customer Service Times (minutes):\", service_times)\n",
    "\n",
    "# Total time to serve all customers\n",
    "total_time = sum(service_times)\n",
    "print(\"Total time to serve all customers:\", total_time, \"minutes\")\n"
   ]
  }
 ],
 "metadata": {
  "kernelspec": {
   "display_name": "venv",
   "language": "python",
   "name": "python3"
  },
  "language_info": {
   "codemirror_mode": {
    "name": "ipython",
    "version": 3
   },
   "file_extension": ".py",
   "mimetype": "text/x-python",
   "name": "python",
   "nbconvert_exporter": "python",
   "pygments_lexer": "ipython3",
   "version": "3.12.4"
  }
 },
 "nbformat": 4,
 "nbformat_minor": 2
}

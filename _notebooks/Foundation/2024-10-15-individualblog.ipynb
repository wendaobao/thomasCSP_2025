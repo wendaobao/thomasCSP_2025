{
 "cells": [
  {
   "cell_type": "markdown",
   "metadata": {},
   "source": [
    "---\n",
    "layout: post\n",
    "title: Sprint 2 Individual Blog \n",
    "description:  Learning and accomplishment for sprint 2\n",
    "type: issues \n",
    "comments: true\n",
    "---"
   ]
  },
  {
   "cell_type": "markdown",
   "metadata": {},
   "source": [
    "---\n",
    "\n",
    "### Section Links\n",
    "- [3.1 Variables and Assignments](#)\n",
    "- [3.2 Data Abstraction](#)\n",
    "- [3.3 Mathematical Expressions](#)\n",
    "- [3.4 Strings](#)\n",
    "- [3.5 Booleans](#)\n",
    "- [3.6 Conditionals](#)\n",
    "- [3.7 Nested Conditionals](#)\n",
    "- [3.8 Iteration](#)\n",
    "- [3.9 Lists](#)\n",
    "- [Self Study](#)\n",
    "\n",
    "---"
   ]
  },
  {
   "cell_type": "markdown",
   "metadata": {},
   "source": [
    "<h2 style=\"font-size: 36px;\">Summary of my lessons I taught</h2>"
   ]
  },
  {
   "cell_type": "markdown",
   "metadata": {},
   "source": [
    "I taught section 3.2.1-3.2.9. Specfically, I coded 3.2.1-3.2.9 and including the coding of popcorn hacks. In this lesson I covered topics such as: Integers, Float, Strings, Lists, Tuples, Dictionaries, Sets, Booleans, and None. Summary of Lessons Taught\n",
    "\n",
    "- Integers are whole numbers that can be positive, negative, or zero. For example, x = 10 is an integer value that can be used in calculations.\n",
    "\n",
    "- Floats represent decimal numbers, allowing for more precision in mathematical computations. For instance, price = 19.99 is a float that can be used in financial calculations.\n",
    "\n",
    "- Strings are sequences of characters used to represent text. An example is greeting = \"Hello, World!\", which can be manipulated using various string methods.\n",
    "\n",
    "- Lists are ordered collections of items that can contain mixed data types. For example, fruits = [\"apple\", \"banana\", \"cherry\"] allows for easy access and manipulation of the items.\n",
    "\n",
    "- Tuples are similar to lists but are immutable, meaning their values cannot be changed after creation. For example, coordinates = (10, 20) represents a fixed pair of values.\n",
    "\n",
    "- Dictionaries are collections of key-value pairs, allowing for efficient data retrieval. An example is student = {\"name\": \"Alice\", \"age\": 21}, where you can access values using their keys.\n",
    "\n",
    "- Sets are unordered collections of unique items. For instance, unique_numbers = {1, 2, 3} ensures that no duplicates are present in the collection.\n",
    "\n",
    "- Booleans represent true or false values, essential for decision-making in code. For example, is_active = True can control the flow of a program based on its value.\n",
    "\n",
    "- None is a special value that represents the absence of a value or a null value in Python. It can be used to signify that a variable has not been assigned a meaningful value."
   ]
  },
  {
   "cell_type": "markdown",
   "metadata": {},
   "source": [
    "<img src=\"https://i.ibb.co/HDsMKSZ/Screenshot-2024-10-16-at-1-36-28-PM.png\" alt=\"Screenshot\" />\n"
   ]
  },
  {
   "cell_type": "markdown",
   "metadata": {},
   "source": [
    "<h2 style=\"font-size: 36px;\">Summary of my learnings</h2>"
   ]
  },
  {
   "cell_type": "markdown",
   "metadata": {},
   "source": [
    "### Variables\n",
    "A variable acts as a storage location for data, allowing a programmer to use and manipulate that data easily by referring to the variable name instead of the actual value.\n",
    "\n",
    "### Data Abstraction\n",
    "Data abstraction involves simplifying complex data structures by focusing only on the necessary details while underlying others. This allows programmers to work with data in a more efficient and understandable way, without needing to manage all the details of how the data is processed.\n",
    "\n",
    "### Mathematical Expressions\n",
    "Mathematical expressions are combinations of numbers, variables, and mathematical operators (such as `+`, `-`, `*`, or `/`) that produce a result when evaluated. In programming, these expressions are used to perform calculations, solve problems, and manipulate numerical data.\n",
    "\n",
    "### Strings\n",
    "A string is a sequence of characters used to represent text in programming. Strings can contain letters, numbers, and symbols, and are often used to store and manipulate textual data like words, sentences, or even entire paragraphs.\n",
    "\n",
    "### Booleans\n",
    "Booleans represent one of two possible values: `True` or `False`. In programming, boolean values are used to make decisions or control the flow of a program by evaluating conditions or expressions that result in a true or false outcome.\n",
    "\n",
    "### Conditionals\n",
    "Conditionals are statements in programming that allow decisions to be made based on whether a certain condition is true or false. If the condition is true, the program executes a specific block of code, and if it is false, the program may execute a different block or skip the execution entirely.\n",
    "\n",
    "### Nested Conditionals\n",
    "Nested conditionals occur when one conditional statement is placed inside another. This allows for more complex decision-making processes, like evaluating multiple conditions. The program will first check the outer condition, and if it is true, it will then evaluate the inner condition.\n",
    "\n",
    "### Iteration\n",
    "Iteration is the process of repeatedly executing a block of code. This is typically done using loops, which allow a program to repeat a set of instructions a specified number of times or until a certain condition is met.\n",
    "\n",
    "### Lists\n",
    "A list is a data structure that stores multiple values in a single variable. Lists can contain any type of data, including numbers, strings, or even other lists. They allow programmers to organize and manage collections of data, making it easier to access, modify, or iterate over the values stored within them."
   ]
  },
  {
   "cell_type": "markdown",
   "metadata": {},
   "source": [
    "## Acomplishments and struggles"
   ]
  },
  {
   "cell_type": "markdown",
   "metadata": {},
   "source": [
    "- Accomplishments: I started this unit with little knowledge of Javascript and Python. But through teaching lessons and hearing lessons of others as well as doing practices, I began to understand some of the concepts. This unit was particularly helpful as it combined both teaching and learning experiences, specifically with Python and JavaScript. Engaging with different topics in both languages enriched my understanding of programming concepts. For instance, I noticed how lists and dictionaries in Python are implemented differently compared to arrays and objects in JavaScript. This contrast helped me appreciate the strengths and weaknesses of each language and how they handle data."
   ]
  },
  {
   "cell_type": "markdown",
   "metadata": {},
   "source": [
    "- Struggles: Throughout this unit, I had many struggles and many accomplishments.  One thing that was significant to me in this unit was Pseudocode, which allowed me to plan my code logically without getting bogged down by syntax errors or programming language specifics. By writing out the steps of my algorithms in plain language, I found it easier to conceptualize the structure of my programs before diving into actual coding. I didnt really understand it so I used the popcorn hacks to practice and understand what was happening in the code. When I finally would understand how to use Pseudocode, I completed the popcorn hacks and I would write comments to make sure I understood the code. I think this unit was very helpful as I got to both teach a lesson and learn other lessons to give me a greater understanding of python and Javascript."
   ]
  },
  {
   "cell_type": "markdown",
   "metadata": {},
   "source": [
    "| Lesson  | Hacks I've done|\n",
    "|---------|--------------|\n",
    "| [3.1](<https://nighthawkcoders.github.io/portfolio_2025/csp/big-idea/p4/3-1-1>)   | [3.1](<https://wendaobao.github.io/thomasCSP_2025/2024/10/08/3.1and3.4hacks_IPYNB_2_.html>)      |\n",
    "| [3.2](<https://nighthawkcoders.github.io/portfolio_2025/csp/big-idea/p4/3-2/>)   | [My Group](<insert_link_here>)  |\n",
    "| [3.3](<https://nighthawkcoders.github.io/portfolio_2025/csp/big-idea/p4/3-3-1>)   | [3.3](<https://wendaobao.github.io/thomasCSP_2025/2024/10/07/3.3and3.5homeworkhacks_IPYNB_2_.html>)      |\n",
    "| [3.4](<https://nighthawkcoders.github.io/portfolio_2025/csp/big-idea/p4/3-4>)   | [3.4](<https://wendaobao.github.io/thomasCSP_2025/2024/10/08/3.1and3.4hacks_IPYNB_2_.html>)      |\n",
    "| [3.5](<https://nighthawkcoders.github.io/portfolio_2025/csp/big-idea/p4/3-5-1>)   | [3.5](<https://wendaobao.github.io/thomasCSP_2025/2024/10/07/3.3and3.5homeworkhacks_IPYNB_2_.html>)      |\n",
    "| [3.6](<https://nighthawkcoders.github.io/portfolio_2025/csp/big-idea/p4/3-6-1>)   | [3.6](<https://wendaobao.github.io/thomasCSP_2025/2024/10/09/3.6and3.7hacks_IPYNB_2_.html>)      |\n",
    "| [3.7](<https://nighthawkcoders.github.io/portfolio_2025/csp/big-idea/p4/3-7-1>)   | [3.7](<https://wendaobao.github.io/thomasCSP_2025/2024/10/09/3.6and3.7hacks_IPYNB_2_.html>)      |\n",
    "| [3.8](<https://nighthawkcoders.github.io/portfolio_2025/csp/big-idea/p4/3-8-1>)   | [3.8](<https://wendaobao.github.io/thomasCSP_2025/2024/10/11/3.8hacks_IPYNB_2_.html>)      |\n",
    "| [3.10](<https://nighthawkcoders.github.io/portfolio_2025/csp/big-idea/p4/3-8-1e>)  | [3.10](<https://wendaobao.github.io/thomasCSP_2025/2024/10/10/3.10hacks_IPYNB_2_.html>)     |\n",
    "| [3.10B](<https://nighthawkcoders.github.io/portfolio_2025/csp/big-idea/p4/3-10B-1>) | [3.10B](<https://wendaobao.github.io/thomasCSP_2025/2024/10/11/3.10b_IPYNB_2_.html>)    |\n"
   ]
  },
  {
   "cell_type": "markdown",
   "metadata": {},
   "source": []
  }
 ],
 "metadata": {
  "language_info": {
   "name": "python"
  }
 },
 "nbformat": 4,
 "nbformat_minor": 2
}

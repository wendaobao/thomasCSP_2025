{
 "cells": [
  {
   "cell_type": "markdown",
   "metadata": {},
   "source": [
    "---\n",
    "layout: post\n",
    "title: Undecided Problems\n",
    "type: issues \n",
    "---\n"
   ]
  },
  {
   "cell_type": "markdown",
   "metadata": {},
   "source": [
    "Popcorn Hacks\n",
    "Popcorn Hack 1\n",
    "Q: An algorithm can be used to solve an undecidable problem.\n",
    "A: ❌ False – no algorithm can solve all cases of an undecidable problem.\n",
    "\n",
    "Popcorn Hack 2\n",
    "Q: If a programmer encounters an undecidable problem, they can just use an algorithm that works most of the time.\n",
    "A: ✅ True – approximate or heuristic solutions might work sometimes, but not always.\n",
    "\n",
    "Popcorn Hack 3\n",
    "Q: Which of the following is not an undecidable problem?\n",
    "A: ✅ D. Bubble Sorting – it's a decidable problem with a known algorithm.\n",
    "\n"
   ]
  },
  {
   "cell_type": "markdown",
   "metadata": {},
   "source": [
    "## Homework Hack \n",
    "\n",
    "Modern operating systems and web browsers have built-in mechanisms to detect and handle infinite loops or excessively long-running scripts to prevent system crashes or unresponsive user interfaces.\n",
    "\n",
    "#### Web Browsers\n",
    "- JavaScript Timeout Detection: Browsers like Google Chrome and Mozilla Firefox monitor scripts for excessive execution time.\n",
    "- If a script runs too long, the browser will show a message like:  \n",
    "  \"A script on this page may be busy, or it may have stopped responding.\"\n",
    "- Users can then choose to stop the script or continue waiting.\n",
    "- Chrome’s V8 engine uses internal watchdog timers to detect long-running scripts.\n",
    "\n",
    "#### Operating Systems\n",
    "- Resource Monitoring: OSes such as Windows, macOS, and Linux track CPU and memory usage.\n",
    "- Users can force-terminate unresponsive programs using tools like:\n",
    "  - Windows: Task Manager\n",
    "  - macOS: Activity Monitor\n",
    "  - Linux: `top`, `htop`, or `kill` commands\n",
    "\n",
    "#### Mobile Devices\n",
    "- iOS and Android monitor app behavior.\n",
    "- If an app freezes or exceeds memory limits, the OS will automatically kill the process.\n",
    "\n",
    "#### Real-World Example\n",
    "- In Google Chrome, a webpage that runs a JavaScript infinite loop will often trigger this message:  \n",
    "  \"Page Unresponsive — You can wait for it to become responsive or exit the page.\"\n",
    "\n",
    "These safeguards help maintain system stability and protect users from poorly written or malicious code."
   ]
  },
  {
   "cell_type": "markdown",
   "metadata": {},
   "source": [
    "## Graphs & Heuristics"
   ]
  },
  {
   "cell_type": "markdown",
   "metadata": {},
   "source": [
    "## Popcorn Hack #1\n",
    "Question: True or False: In a directed graph, an edge from node A to node B implies that there is always a corresponding edge from node B to node A.\n",
    "- Answer: False\n",
    "- Explanation: In directed graphs, edges have a specific direction. An edge from A to B means a one-way connection unless an edge from B to A is separately defined."
   ]
  },
  {
   "cell_type": "markdown",
   "metadata": {},
   "source": [
    "## Popcorn Hack #2\n",
    "Question: True or False: Heuristics always provide faster solutions than exact algorithms, but they may sacrifice accuracy for speed.\n",
    "- Answer: True\n",
    "- Explanation: Heuristics prioritize speed and efficiency, often producing good-enough solutions quickly, but they may not be 100% accurate."
   ]
  },
  {
   "cell_type": "markdown",
   "metadata": {},
   "source": [
    "## Popcorn Hack #3\n",
    "Question: True or False: While heuristic algorithms like the Nearest Neighbor algorithm can significantly reduce the computational time for TSP, they can never guarantee an optimal solution, and the gap between the heuristic solution and the optimal solution can grow exponentially as the number of cities increases.\n",
    "- Answer: True\n",
    "- Explanation: Heuristic methods help solve large-scale problems quickly, but they don’t guarantee the shortest or best route and can diverge more from the optimal solution as the problem gets bigger.\n",
    "\n"
   ]
  },
  {
   "cell_type": "markdown",
   "metadata": {},
   "source": [
    "## Homework Hack \n",
    "1. Representation of Users and Relationships in Graphs:  \n",
    "In social network analysis, users are represented as nodes (or vertices), and the connections or interactions between users are represented as edges.  \n",
    "- If the connection is mutual (like a friendship), the graph is undirected.  \n",
    "- If the connection is one-way (like following someone), the graph is directed.  \n",
    "- In some cases, weighted edges may be used to indicate the strength or frequency of interactions (e.g., number of messages sent).\n",
    "\n",
    "2. Real-World Example: Facebook  \n",
    "Facebook is a social media platform where graph theory is heavily used.  \n",
    "- Each user is a node, and a friendship is an undirected edge between two nodes.  \n",
    "- Facebook uses graph algorithms to suggest new friends, detect communities, and recommend content.  \n",
    "- Algorithms such as Breadth-First Search (BFS) and centrality measures help identify influential users and tightly connected groups.\n",
    "\n",
    "\n",
    "Graph theory allows platforms like Facebook to understand social structure, improve user engagement, and provide personalized recommendations."
   ]
  }
 ],
 "metadata": {
  "language_info": {
   "name": "python"
  }
 },
 "nbformat": 4,
 "nbformat_minor": 2
}

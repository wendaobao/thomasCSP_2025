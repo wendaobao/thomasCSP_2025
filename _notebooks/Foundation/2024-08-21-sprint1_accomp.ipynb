{
 "cells": [
  {
   "cell_type": "markdown",
   "metadata": {},
   "source": [
    "---\n",
    "layout: post\n",
    "title: Accomplishment vs attempt\n",
    "description:  Description for accomplishment\n",
    "type: issues \n",
    "comments: true\n",
    "---"
   ]
  },
  {
   "cell_type": "markdown",
   "metadata": {},
   "source": [
    "Hello,\n",
    "\n",
    "Accomplished\n",
    "Completed my home page with custom icons, new themes with bottons redirecting to other sites. A dropdown menu taking me to different links within my portfolio\n",
    "Completed my about me page where I also accomplished on how to move objects freely throughout a page -Completed my Hacks Tools & Equipment  accomplished making my own STDEV, Mean, and Median code\n",
    "\n",
    "\n",
    "Attempted\n",
    "Attempted making a Java Cell which isn’t working so well (cannot get commands to run)\n",
    "Attempted frontend hacks which is currently going through some issues with button spacing and etc.\n",
    "Tried adding seperate backgrounds to individual notebooks which failed\n"
   ]
  }
 ],
 "metadata": {
  "language_info": {
   "name": "python"
  }
 },
 "nbformat": 4,
 "nbformat_minor": 2
}

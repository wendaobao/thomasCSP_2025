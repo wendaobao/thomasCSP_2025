{
 "cells": [
  {
   "cell_type": "markdown",
   "metadata": {},
   "source": [
    "---\n",
    "layout: post\n",
    "title: Cyber Security student Panel\n",
    "type: issues \n",
    "---"
   ]
  },
  {
   "cell_type": "markdown",
   "metadata": {},
   "source": [
    "## Summary: \n",
    "I got to attend a cybersecurity panel with some pretty cool people working FBI agents, CEOs, and ethical hackers. Going in, I already had an interest in cybersecurity but hearing real stories from people actually working in the field made everything feel more real and have some achievable goal to work to.\n",
    "\n"
   ]
  },
  {
   "cell_type": "markdown",
   "metadata": {},
   "source": [
    "## The Part that I was most interested in:\n",
    "One of the FBI agents shared a story about how he tracked a hacker for three whole years—three years and finally caught them because of one tiny mistake. That really stuck with me. \n",
    "Also Something that really stood out to me: the tools hackers use are the same ones used by ethical hackers. Stuff like nmap, which I didn't know before"
   ]
  },
  {
   "cell_type": "markdown",
   "metadata": {},
   "source": [
    "## Here are a few things they talked about that I didn’t learned before\n",
    "\n",
    "Ransomware – Shuts down companies and demands money to give their data back.\n",
    "\n",
    "Phishing – Still works on tons of people, even when the emails are super obvious.\n",
    "\n",
    "Zero-day exploits – These are software flaws that no one even knows about yet. There’s no fix, and hackers can just take advantage of them.\n",
    "\n",
    "AI attacks – Hackers are starting to use AI to make their attacks smarter and harder to detect.\n",
    "\n",
    "Backdoors – Hidden access points some people (even ethical hackers) leave behind… which kinda made me question how much we can trust even the good guys."
   ]
  },
  {
   "cell_type": "markdown",
   "metadata": {},
   "source": [
    "## One of the biggest takeaways? \n",
    "Being smart isn’t enough. If you’re not ethical, you shouldn’t be in cybersecurity. You’re trusted with sensitive info, sometimes even national security stuff, so doing the right thing even when no one’s watching is everything.\n",
    "\n",
    "This totally lines up with what I’ve seen in daily life too. People always emphasize doing things the right way, not just finding the fastest fix."
   ]
  },
  {
   "cell_type": "markdown",
   "metadata": {},
   "source": [
    "## What I Want to Do Next and reflection\n",
    "This panel definitely motivated me to do more. After attending the panel, I definitely feel like I have a better understanding of what cybersecurity is all about. I noticed that there were moer jobs existing in cybersecurity. The speakers did a great job explaining things in a way that made sense even for a beginner that had little knowledge about cyber security. I was surprised by how much Mr. Tomasz from the FBI was able to share, since I always thought most of that stuff was kept confidential.\n",
    "\n",
    "I’m not sure if cybersecurity is the path I’ll take for a career, but it was really cool hearing about the different experiences each speaker had. Maybe having more \n"
   ]
  },
  {
   "cell_type": "markdown",
   "metadata": {},
   "source": [
    "## Picture of me at cybersecurity.\n"
   ]
  }
 ],
 "metadata": {
  "language_info": {
   "name": "python"
  }
 },
 "nbformat": 4,
 "nbformat_minor": 2
}

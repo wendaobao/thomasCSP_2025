{
 "cells": [
  {
   "cell_type": "markdown",
   "metadata": {},
   "source": [
    "---\n",
    "layout: post\n",
    "title: MCQ review\n",
    "type: issues \n",
    "---\n"
   ]
  },
  {
   "cell_type": "markdown",
   "metadata": {},
   "source": [
    "![Practice MCQ Score](https://i.postimg.cc/HYPX3KJb/Screenshot-2025-04-24-at-8-50-08-AM.png)\n"
   ]
  },
  {
   "cell_type": "markdown",
   "metadata": {},
   "source": [
    "I feel confident in most areas, especially with topics like Boolean Expressions, Binary Numbers, and Algorithmic Efficiency, where I scored 100%. However, I noticed areas that need improvement—specifically Nested Conditionals (0%) and Lists (60%). I also had lower scores on Mathematical Expressions and Random Values, which suggests I need to review these topics more closely. My goal is to revisit the lessons, practice those weaker areas, and aim for a more consistent understanding across all units before the AP exam.\n",
    "\n"
   ]
  },
  {
   "cell_type": "markdown",
   "metadata": {},
   "source": [
    "![Practice MCQ Score](https://i.postimg.cc/K8HxCntp/Screenshot-2025-04-24-at-8-53-29-AM.png)"
   ]
  },
  {
   "cell_type": "markdown",
   "metadata": {},
   "source": [
    "C is correct. Correct. The game piece begins at the rightmost black space. The piece moves one space to the left to a yellow space, and the counter is incremented to 1. The piece then moves three spaces to the left to another yellow space, and the counter is incremented to 2. The piece then moves three spaces to the left to a green space, and the counter is incremented to 3. The piece then moves two spaces to the right to the red space, and the counter is incremented to 4. The algorithm terminates now that the piece is in the red space."
   ]
  },
  {
   "cell_type": "markdown",
   "metadata": {},
   "source": [
    "![](https://i.postimg.cc/K8KdkCgQ/Screenshot-2025-04-24-at-8-54-56-AM.png)"
   ]
  },
  {
   "cell_type": "markdown",
   "metadata": {},
   "source": [
    "Correct is C. Correct. The string \"carrot\" can be displayed only when the expression (n > 10) is false and the expression (n > 100) is true. If n is not greater than 10, it cannot be greater than 100, and so \"carrot\" can never be displayed."
   ]
  },
  {
   "cell_type": "markdown",
   "metadata": {},
   "source": [
    "![](https://i.postimg.cc/qMFFTQZK/Screenshot-2025-04-24-at-8-56-15-AM.png)"
   ]
  },
  {
   "cell_type": "markdown",
   "metadata": {},
   "source": [
    "Missed D. Correct. For this spinner, there is a \n",
    " \n",
    " chance of \"blue\". The remaining \n",
    " \n",
    " of the time, \"orange\" and \"purple\" are equally likely. The variable spin is set to a random value between 1 and 4, inclusive. If spin is 1 (which occurs \n",
    " \n",
    " of the time), the code segment prints \"blue\". Otherwise, spin is set to a random value between 1 and 2, inclusive. If spin is 2 (which occurs \n",
    " \n",
    " of the time that \"blue\" does not occur), the code segment prints \"orange\". The other \n",
    " \n",
    " of the time that \"blue\" does not occur, the code segment prints \"purple\"."
   ]
  }
 ],
 "metadata": {
  "language_info": {
   "name": "python"
  }
 },
 "nbformat": 4,
 "nbformat_minor": 2
}

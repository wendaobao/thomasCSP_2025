{
 "cells": [
  {
   "cell_type": "markdown",
   "metadata": {},
   "source": [
    "---\n",
    "layout: post\n",
    "title: Sprint 2 Team blog\n",
    "description:  Team accomplishment for sprint 2\n",
    "type: issues \n",
    "courses: { csp: {week: 7}}\n",
    "comments: true\n",
    "---"
   ]
  },
  {
   "cell_type": "markdown",
   "metadata": {},
   "source": [
    "## Team Blog Big Idea 3\n",
    "P4 Brown: Lessons 3.2 (Data abstraction)\n",
    "Scrum Master: Thomas Bao\n",
    "\n",
    "Other members: Thomas Bao, Aarush Kota, Ian Managan, Collin Ge"
   ]
  },
  {
   "cell_type": "markdown",
   "metadata": {},
   "source": [
    "| Name                | Link to personal issues               |\n",
    "|---------------------|--------------------|\n",
    "| Thomas Bao          | [Thomas](https://github.com/wendaobao/thomasCSP_2025/issues/4) |\n",
    "| Aarush Kota         | [Aarush](https://github.com/AarushKota/Aarush_2025/issues/3) |\n",
    "| Ian Managan         | [Your Link 3](https://github.com/Im2008/IanM_2025/issues/1) |\n",
    "| Collin Ge           | [Your Link 4](https://github.com/collin12396/newCollinCSP_2025/issues/1) |\n"
   ]
  },
  {
   "cell_type": "markdown",
   "metadata": {},
   "source": []
  }
 ],
 "metadata": {
  "language_info": {
   "name": "python"
  }
 },
 "nbformat": 4,
 "nbformat_minor": 2
}

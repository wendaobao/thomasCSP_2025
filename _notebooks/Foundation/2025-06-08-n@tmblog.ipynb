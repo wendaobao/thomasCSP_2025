{
 "cells": [
  {
   "cell_type": "markdown",
   "metadata": {},
   "source": [
    "---\n",
    "layout: post\n",
    "title: N@TM\n",
    "description: Description of project at N@TM\n",
    "type: issues\n",
    "---\n"
   ]
  },
  {
   "cell_type": "markdown",
   "metadata": {},
   "source": [
    "We showcased our MediPulse project at Night at the Museum (N@tM), June 2025 — giving us the chance to present to parents, students, and community members.\n",
    "It was great to see how others responded to the idea and to get feedback on ways to improve it further.\n",
    "In addition, I’ve posted my work on LinkedIn to reach a broader audience and demonstrate professional growth.\n",
    "![N@TM Presentations](https://i.postimg.cc/Zqm8425Q/Screenshot-2025-06-09-at-9-29-48-AM.png)"
   ]
  },
  {
   "cell_type": "markdown",
   "metadata": {},
   "source": []
  }
 ],
 "metadata": {
  "language_info": {
   "name": "python"
  }
 },
 "nbformat": 4,
 "nbformat_minor": 2
}

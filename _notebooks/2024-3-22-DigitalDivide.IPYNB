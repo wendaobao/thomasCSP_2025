{
 "cells": [
  {
   "cell_type": "markdown",
   "metadata": {},
   "source": [
    "## Popcorn Hack: Example Problem in MCQ\n",
    "Question: Which of the following actions are likely to be helpful in reducing the digital divide? Select two answers.\n",
    "\n",
    "Answer: B) Designing new technologies to be accessible to individuals with different physical abilities - D) Having world governments support the development of network infrastructure"
   ]
  },
  {
   "cell_type": "markdown",
   "metadata": {},
   "source": []
  },
  {
   "cell_type": "markdown",
   "metadata": {},
   "source": [
    "## Popcorn Hack\n",
    "How would you attempt to fix the digital divide or prevent it from being as prevalent in our community? What are some things that are already being done? What are some things we can add? Explain.\n",
    "\n",
    "Answer: Increase Access: Ensure everyone has access to affordable internet and devices. This can be done through government subsidies, community programs, or partnerships with tech companies.\n"
   ]
  },
  {
   "cell_type": "code",
   "execution_count": null,
   "metadata": {},
   "outputs": [],
   "source": [
    "import pandas as pd\n",
    "\n",
    "# Load the data and drop unnecessary columns\n",
    "data = pd.read_csv(\"/home/Thomas_bao/nighthawk/thomasCSP_2025/_notebooks/Foundation/Sprint5/internet_users.csv\").drop(columns=['Notes', 'Year.2', 'Users (CIA)', 'Rate (ITU)', 'Year.1'])\n",
    "data_cleaned = data.dropna()\n",
    "\n",
    " Display the first few rows of the cleaned data\n",
    "print(data_cleaned.head())"
   ]
  },
  {
   "cell_type": "code",
   "execution_count": null,
   "metadata": {},
   "outputs": [],
   "source": [
    "y = data_cleaned['Rate (WB)'] # Take Percentage of the population using the internet from World Bank data in dataset\n",
    "name = data_cleaned['Location'] # take contry name from WB data in dataset\n",
    "\n",
    "# Import necessary libraries\n",
    "import matplotlib.pyplot as plt\n",
    "import numpy as np\n",
    "import pandas as pd\n",
    "\n",
    "# Sort data by internet usage rate for better visualization\n",
    "sorted_indices = np.argsort(y)\n",
    "sorted_y = np.array(y)[sorted_indices]\n",
    "sorted_names = np.array(name)[sorted_indices]\n",
    "\n",
    "# Create a bar chart of internet usage rates by country\n",
    "plt.figure(figsize=(12, 10))\n",
    "plt.barh(sorted_names[-20:], sorted_y[-20:], color='skyblue')  # Plot top 20 countries\n",
    "plt.xlabel('Internet Usage Rate (%)')\n",
    "plt.ylabel('Country')\n",
    "plt.title('Top 20 Countries by Internet Usage Rate')\n",
    "plt.tight_layout()\n",
    "plt.show()\n",
    "\n",
    "# Calculate and display summary statistics\n",
    "print(\"Summary Statistics for Internet Usage Rates:\")\n",
    "print(f\"Global Average: {y.mean():.2f}%\")\n",
    "print(f\"Median: {y.median():.2f}%\")\n",
    "print(f\"Minimum: {y.min():.2f}% ({name[y.idxmin()]})\")\n",
    "print(f\"Maximum: {y.max():.2f}% ({name[y.idxmax()]})\")\n",
    "print(f\"Standard Deviation: {y.std():.2f}%\")\n",
    "\n",
    "# Find countries with extremely low internet usage (bottom 10)\n",
    "bottom_10_indices = np.argsort(y)[:10]\n",
    "print(\"\\nCountries with lowest internet usage rates:\")\n",
    "for i in bottom_10_indices:\n",
    "    print(f\"{name[i]}: {y[i]:.2f}%\")\n",
    "\n",
    "# Analyze the digital divide by creating usage categories\n",
    "data_cleaned['Usage_Category'] = pd.cut(\n",
    "    data_cleaned['Rate (WB)'], \n",
    "    bins=[0, 25, 50, 75, 100],\n",
    "    labels=['Very Low', 'Low', 'Medium', 'High']\n",
    ")\n",
    "\n",
    "# Count countries in each category\n",
    "category_counts = data_cleaned['Usage_Category'].value_counts().sort_index()\n",
    "print(\"\\nDigital Divide Analysis - Number of countries in each usage category:\")\n",
    "print(category_counts)\n",
    "\n",
    "# Create a pie chart of the usage categories\n",
    "plt.figure(figsize=(10, 7))\n",
    "plt.pie(category_counts, labels=category_counts.index, autopct='%1.1f%%', startangle=90, colors=['red', 'orange', 'yellowgreen', 'green'])\n",
    "plt.title('Global Distribution of Internet Usage Categories')\n",
    "plt.axis('equal')\n",
    "plt.show()"
   ]
  },
  {
   "cell_type": "code",
   "execution_count": null,
   "metadata": {},
   "outputs": [],
   "source": [
    "Summary Statistics for Internet Usage Rates:\n",
    "Global Average: 70.73%\n",
    "Median: 78.70%\n",
    "Minimum: 10.00% (Uganda)\n",
    "Maximum: 100.00% (Bahrain)\n",
    "Standard Deviation: 25.07%\n",
    "\n",
    "Countries with lowest internet usage rates:\n",
    "Slovakia: 89.90%\n",
    "Cape Verde: 72.10%\n",
    "Bulgaria: 80.40%\n",
    "Rwanda: 34.40%\n",
    "Cayman Islands: 81.10%\n",
    "Mongolia: 83.90%\n",
    "Afghanistan: 18.40%\n",
    "El Salvador: 62.90%\n",
    "Brunei: 99.00%\n",
    "Laos: 66.20%\n",
    "\n",
    "Digital Divide Analysis - Number of countries in each usage category:\n",
    "Usage_Category\n",
    "Very Low     12\n",
    "Low          38\n",
    "Medium       40\n",
    "High        119\n",
    "Name: count, dtype: int64\n",
    "\n",
    "\n",
    "/tmp/ipykernel_1117/2707048304.py:38: SettingWithCopyWarning: \n",
    "A value is trying to be set on a copy of a slice from a DataFrame.\n",
    "Try using .loc[row_indexer,col_indexer] = value instead\n",
    "\n",
    "See the caveats in the documentation: https://pandas.pydata.org/pandas-docs/stable/user_guide/indexing.html#returning-a-view-versus-a-copy\n",
    "  data_cleaned['Usage_Category'] = pd.cut("
   ]
  },
  {
   "cell_type": "markdown",
   "metadata": {},
   "source": [
    "I developed detailed data visualization and analysis tools, featuring a bar chart of countries with the highest internet usage and a pie chart illustrating the distribution of countries across usage categories from Very Low to High. The code sorts and categorizes data to uncover digital divide patterns, calculating important statistics such as the global average, median, and standard deviation, while emphasizing countries with the least connectivity. It utilizes pandas' cut() function to classify countries into usage groups and employs matplotlib's visualization features to create clear charts that effectively show global internet usage differences."
   ]
  }
 ],
 "metadata": {
  "kernelspec": {
   "display_name": "venv",
   "language": "python",
   "name": "python3"
  },
  "language_info": {
   "codemirror_mode": {
    "name": "ipython",
    "version": 3
   },
   "file_extension": ".py",
   "mimetype": "text/x-python",
   "name": "python",
   "nbconvert_exporter": "python",
   "pygments_lexer": "ipython3",
   "version": "3.12.4"
  }
 },
 "nbformat": 4,
 "nbformat_minor": 2
}

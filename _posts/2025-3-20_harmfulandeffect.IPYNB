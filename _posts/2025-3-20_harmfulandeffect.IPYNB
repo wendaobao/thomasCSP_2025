{
 "cells": [
  {
   "cell_type": "markdown",
   "metadata": {},
   "source": [
    "---\n",
    "layout: post\n",
    "title: Harmfuleffect\n",
    "type: issues\n",
    "---"
   ]
  },
  {
   "cell_type": "markdown",
   "metadata": {},
   "source": [
    "## Popcorn Hack #1\n",
    "\n",
    "How do technological innovations impact society in both positive and negative ways? Provide an example.\n",
    "\n",
    "Answer: Tech innovations are a double-edged sword. On the plus side, they make communication super easy—think smartphones and the internet connecting us globally. But there's a flip side: privacy issues and social isolation. Social media, for example, lets us share and connect but also spreads misinformation and can mess with mental health. So, while tech makes life better, it comes with its own set of challenges."
   ]
  },
  {
   "cell_type": "markdown",
   "metadata": {},
   "source": [
    "## Popcorn Hack#2\n",
    "\n",
    "What is the meaning of the negative effects of technology, and how can we use responsible programming to avoid and reduce these unintended harmful impacts.\n",
    "\n",
    "Answer: Negative effects of technology are the unintended downsides, like privacy breaches, addiction, or misinformation. To tackle these, responsible programming is key. This means writing code with ethics in mind—prioritizing user privacy, creating features that promote well-being, and ensuring transparency. By doing so, we can minimize harm and make tech a force for good."
   ]
  },
  {
   "cell_type": "markdown",
   "metadata": {},
   "source": [
    "## Popcorn Hack#3\n",
    "Why is it important to understand the uunintended consequences of technology, especially dopamine-driven technology\n",
    "\n",
    "Answer: These platforms are designed to keep us hooked, which can lead to addiction and impact mental health. By being aware of these effects, we can make smarter choices about how we use tech and push for designs that prioritize our well-being over endless engagement."
   ]
  },
  {
   "cell_type": "markdown",
   "metadata": {},
   "source": [
    "## Homework Hack#1: Rethinking AI for New Uses\n",
    "\n",
    "Answer: One innovative way to use AI is in personalized mental health support. Imagine an AI-driven virtual companion that provides real-time emotional support and mental health resources tailored to individual needs. This AI could analyze a user's speech patterns, text inputs, and even physiological data (like heart rate from a wearable device) to detect stress or anxiety levels. It could then offer personalized coping strategies, mindfulness exercises, or suggest professional help if needed. This AI companion would be available 24/7, providing immediate support and helping to bridge the gap in mental health care accessibility.\n"
   ]
  },
  {
   "cell_type": "markdown",
   "metadata": {},
   "source": [
    "## Homework Hack #2: Ethical AI Coding Challenge\n",
    "One significant problem AI has caused is algorithmic bias, where AI systems inadvertently perpetuate or even amplify existing biases present in the data they were trained on. This can lead to unfair treatment in areas like hiring, lending, and law enforcement. Ensure that the training data is diverse and representative of all groups. This helps the AI learn more balanced patterns and reduces the risk of bias.\n"
   ]
  },
  {
   "cell_type": "markdown",
   "metadata": {},
   "source": [
    "## Homework Hack #3: AI & Unintended Consequences Research \n",
    "Once Amazon realized the AI was showing gender bias, they scrapped the project entirely. They acknowledged the issue but didn’t release the tool publicly. It was an internal system that never made it to real-world deployment. Used a more balanced dataset that equally represented men and women. Removed gendered indicators from training data before letting the AI learn patterns. Included diverse hiring team feedback early in the design process to identify bias sooner"
   ]
  },
  {
   "cell_type": "markdown",
   "metadata": {},
   "source": []
  }
 ],
 "metadata": {
  "language_info": {
   "name": "python"
  }
 },
 "nbformat": 4,
 "nbformat_minor": 2
}
